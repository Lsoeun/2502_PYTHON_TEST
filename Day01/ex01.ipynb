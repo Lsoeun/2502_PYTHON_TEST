{
 "cells": [
  {
   "cell_type": "markdown",
   "metadata": {},
   "source": [
    "# 알고리즘이란?\n",
    "- 문제 해결 방법을 정의한 일련의 단계적 절차이자 어떤 문제를 해결하기 위한 동작들의 모임\n",
    "- 즉, 문제 풀이에 필요한 계산 절차 또는 처리 과정의 순서를 뜻함\n",
    "- 어떤 문제를 해결하기 위해 밟아 나가는 연속적인 단계\n",
    "- 어떤 목적을 달성하거나 결과물을 만들어 내기 위해 거쳐야 하는 일련의 과정들\n",
    "- 특정 문제를 해결하기 위한 명확하고 구체적인 단계들의 집합\n",
    "- 효율적인 알고리즘은 실행 시간과 자원을 최소화 할 수 있음\n",
    "- 어떠한 알고리즘이 더 좋은 알고리즘인지 판단하는 것은 매우 중요한 능력!"
   ]
  },
  {
   "cell_type": "code",
   "execution_count": 11,
   "metadata": {},
   "outputs": [
    {
     "name": "stdout",
     "output_type": "stream",
     "text": [
      "1\n",
      "2\n",
      "3\n",
      "4\n",
      "5\n"
     ]
    }
   ],
   "source": [
    "# 1부터 5까지의 숫자를 출력하는 파이썬 알고리즘\n",
    "for i in range(1, 6):\n",
    "  print(i)"
   ]
  },
  {
   "cell_type": "code",
   "execution_count": 12,
   "metadata": {},
   "outputs": [
    {
     "name": "stdout",
     "output_type": "stream",
     "text": [
      "1\n",
      "2\n",
      "3\n",
      "4\n",
      "5\n",
      "0.0011680126190185547\n"
     ]
    }
   ],
   "source": [
    "# 1부터 5까지의 숫자를 출력하는 알고리즘의 실행에 걸리는 시간 측정\n",
    "import time # time 모듈. 시간을 측정하기 위해 사용\n",
    "\n",
    "start = time.time() # 시작 시간 기록(time.time() 함수는 현재 시간을 초 단위로 반환)\n",
    "for i in range(1, 6):\n",
    "  print(i)\n",
    "end = time.time() # 종료 시간 기록\n",
    "\n",
    "# 실행 시간 계산\n",
    "print(end - start) # 종료 시간에서 시작 시간을 빼면 실행 시간이 계산"
   ]
  },
  {
   "cell_type": "code",
   "execution_count": 13,
   "metadata": {},
   "outputs": [
    {
     "name": "stdout",
     "output_type": "stream",
     "text": [
      "1\n",
      "2\n",
      "3\n",
      "4\n",
      "5\n"
     ]
    }
   ],
   "source": [
    "# 출력되는 숫자의 합을 구하는 알고리즘\n",
    "count = 0\n",
    "for i in range(1, 6):\n",
    "  print(i)\n",
    "  count += i"
   ]
  },
  {
   "cell_type": "markdown",
   "metadata": {},
   "source": [
    "# 알고리즘 평가\n",
    "- 공간 복잡도: 메모리 사용의 효율성\n",
    "- 시간 복잡도: 실행 시간의 효율성\n",
    "- 알고리즘의 복잡도라고 하면 보통 시간 복잡도를 의미\n",
    "- 복잡도를 수학적으로 표현하는 방법(점근 표기법) -> 빅오 표기법을 기준으로 표현\n",
    "- 효율적인 알고리즘이란 빅오 표기법을 기준으로 시간 복잡도가 낮은 알고리즘! "
   ]
  },
  {
   "cell_type": "code",
   "execution_count": 19,
   "metadata": {},
   "outputs": [],
   "source": [
    "# 알고리즘의 효율성 비교\n",
    "def print_it(n):\n",
    "  # 루프1\n",
    "  for i in range(n):\n",
    "    print(i)\n",
    "  # 루프2\n",
    "  for i in range(n):\n",
    "    print(i)\n",
    "    for j in range(n):\n",
    "      print(j)\n",
    "      for h in range(n):\n",
    "        print(h)\n",
    "        \n",
    "# 알고리즘의 효율성을 평가할 때는 보통 가장 큰 영향을 미치는 부분에 집중\n",
    "# 예시 코드에서, n이 커지면 커질수록 루프1은 단순히 n번 반복하는데 비해, 루프2는 3개의 중첩된 루프가 있기 때문에 n의 크기가 커질수록 수행 단계와 수행 시간이 급격하게 증가\n",
    "# 이처럼 루프2가 시간이 많이 소요되므로, 루프2가 가장 큰 영향을 미치는 부분이라고 할 수 있음\n",
    "# 결국 알고리즘의 효율성을 평가할 때 가장 중요한 점은 'n이 커질수록 알고리즘의 수행 시간(단계)이 얼마나 증가하는가!' 라고 할 수 있고, 이것을 빅오 표기법으로 나타냄"
   ]
  },
  {
   "cell_type": "markdown",
   "metadata": {},
   "source": [
    "# 빅오 표기법\n",
    "- 입력 크기 n이 커짐에 따라 알고리즘의 시간 또는 공간적 요건이 얼마나 커지는지를 나타내는 수학적 표기법\n",
    "- 알고리즘의 복잡도를 나타내는 방법 중 하나이며, 알고리즘이 최악의 경우에 걸리는 시간을 나타냄(항상 최악의 경우에 걸리는 시간을 기준으로 시간 복잡도를 표기)\n",
    "- 최악의 경우 시간을 나타내는 이유는 최악의 입력에 대해서도 알고리즘이 얼마나 오래 걸릴지 알 수 있기 때문\n",
    "- 최악의 경우를 기준으로 분석하는 것은, 알고리즘이 어떤 입력에 대해서도 예측 가능한 최대 시간을 가지게 하려는 목적\n",
    "- 빅오 표기법은 어떤 프로그램의 연산 횟수 함수의 최고차항을 남기고 계수, 상수를 지워 O(...)와 같이 표기\n",
    "- 예를 들어 n^3 + n^2 + 3의 수식에서 n^3이 전체 시간 복잡도를 지배\n",
    "- 빅오 표기법에서는 가장 큰 항만을 취하므로 O(n^3)으로 표기 -> 최종적으로 시간 복잡도는 O(n^3)"
   ]
  },
  {
   "cell_type": "markdown",
   "metadata": {},
   "source": [
    "- f(n) = 3n^2 + 2n + 5와 같은 함수가 있을 때, 이 함수의 최고차항은 n^2\n",
    "- 이 함수의 시간 복잡도는 O(n^2)로 표기\n",
    "- f(n) = 4n^3 + 5n^2 + 2n + 7과 같은 함수가 있을 때, 최고차항은 n^3\n",
    "- 이 함수의 시간 복잡도는 O(n^3)로 표기"
   ]
  },
  {
   "cell_type": "code",
   "execution_count": 22,
   "metadata": {},
   "outputs": [
    {
     "name": "stdout",
     "output_type": "stream",
     "text": [
      "1\n"
     ]
    }
   ],
   "source": [
    "# 상수 시간 복잡도 예제 코드\n",
    "# 가장 효율적인 시간 복잡도\n",
    "# 명령문 실행\n",
    "# 입력 값의 크기에 상관 없이 실행 시간이 일정\n",
    "# 데이터가 아무리 커지더라도 알고리즘의 실행 시간은 일정 -> 가장 효율적인 알고리즘\n",
    "# 시간 복잡도 - O(1)\n",
    "\n",
    "def constant(n):\n",
    "    print(n) \n",
    "    \n",
    "constant(1)       "
   ]
  },
  {
   "cell_type": "code",
   "execution_count": 40,
   "metadata": {},
   "outputs": [
    {
     "name": "stdout",
     "output_type": "stream",
     "text": [
      "1\n",
      "2\n"
     ]
    }
   ],
   "source": [
    "# 로그 시간 복잡도 예제 코드\n",
    "# 로그 시간 복잡도는 입력 크기 n에 대해 알고리즘의 실행 시간이 로그 함수처럼 증가하는 경우\n",
    "# 로그 함수 : 어떤 수를 다른 수를 기반으로 몇 번 곱해야 원하는 값이 되는지 구하는 함수\n",
    "# 로그 시간 복잡도는 입력 크기 n이 커져도 실행 시간이 느리게 늘어나는 알고리즘 -> 이진 탐색 알고리즘 등에서 나타남\n",
    "# 시간 복잡도 - O(log n)\n",
    "# While i < n: 만 보면 n번 반복할 것 같지만, i = i * 2로 인해 숫자는 1→2→4→8→16... 인 2의 거듭제곱으로 커지기 때문에 while문은 log2 n 만큼 반복됨 -> 이는 범위가 반씩 줄어드는 방식\n",
    "\n",
    "def logarithmic(n):\n",
    "   i = 1;             \n",
    "   while i < n :  # 반복 횟수가 n의 로그에 비례함    \n",
    "       print(i)      \n",
    "       i = i * 2;  # i는 2배씩 증가 (반으로 나누는 것과 유사) \n",
    "       \n",
    "logarithmic(4)"
   ]
  },
  {
   "cell_type": "code",
   "execution_count": 43,
   "metadata": {},
   "outputs": [
    {
     "data": {
      "text/plain": [
       "15"
      ]
     },
     "execution_count": 43,
     "metadata": {},
     "output_type": "execute_result"
    }
   ],
   "source": [
    "# 선형 시간 복잡도 예제 코드\n",
    "# 알고리즘이 입력 크기 n에 비례해서 실행 시간이 늘어나는 알고리즘\n",
    "# 배열의 모든 요소 합 구하기 등등\n",
    "# 단순히 n번 반복하여 실행. 대부분 단순한 반복문에서 나타남\n",
    "# 배열의 모든 요소를 한 번씩 순회해야 하므로 입력 크기 n에 비례하여 시간이 증가(데이터 크기 n이 커질수록 실행 시간이 같은 비율로 늘어나는 특징)\n",
    "# 시간 복잡도 - O(n)\n",
    "\n",
    "def sum_array(arr):\n",
    "    sum = 0         \n",
    "    for num in arr:             \n",
    "        sum += num        \n",
    "    return sum\n",
    "\n",
    "sum_array([1, 2, 3, 4, 5])"
   ]
  },
  {
   "cell_type": "code",
   "execution_count": 46,
   "metadata": {},
   "outputs": [
    {
     "name": "stdout",
     "output_type": "stream",
     "text": [
      "1 1\n",
      "1 2\n",
      "2 1\n",
      "2 2\n",
      "3 1\n",
      "3 2\n",
      "4 1\n",
      "4 2\n"
     ]
    }
   ],
   "source": [
    "# 선형 로그 시간 복잡도 예제 코드\n",
    "# 로그 시간 복잡도와 선형 시간 복잡도를 곱한 만큼 커짐\n",
    "# for while 중첩 실행\n",
    "# for문과 while문이 중첩되어 while문은 log n에 곱하기 n번 한 만큼 반복 수행 (n * log n)\n",
    "# 시간 복잡도 - O(n log n)\n",
    "\n",
    "def nlogn(n):\n",
    "    for i in range(1, n+1):  \n",
    "        j = 1;  \n",
    "        while j < n: \n",
    "            print(i,j) \n",
    "            j = j * 2 \n",
    "            \n",
    "nlogn(4)"
   ]
  },
  {
   "cell_type": "code",
   "execution_count": 68,
   "metadata": {},
   "outputs": [
    {
     "name": "stdout",
     "output_type": "stream",
     "text": [
      "0 0\n",
      "0 1\n",
      "0 2\n",
      "1 0\n",
      "1 1\n",
      "1 2\n",
      "2 0\n",
      "2 1\n",
      "2 2\n"
     ]
    }
   ],
   "source": [
    "# 제곱 시간 복잡도 예제 코드\n",
    "# 제곱 시간 복잡도는 n의 제곱에 정비례로 커짐\n",
    "# 중첩된 for문 등 이중 반복문을 사용하는 알고리즘에서 자주 나타남\n",
    "# 시간 복잡도 - O(n**2)\n",
    "\n",
    "def twoforex(n):\n",
    "    for i in range(n):\n",
    "        for j in range(n):\n",
    "            print(i, j)\n",
    "            \n",
    "twoforex(3)"
   ]
  },
  {
   "cell_type": "code",
   "execution_count": 3,
   "metadata": {},
   "outputs": [
    {
     "data": {
      "text/plain": [
       "5"
      ]
     },
     "execution_count": 3,
     "metadata": {},
     "output_type": "execute_result"
    }
   ],
   "source": [
    "# 지수 시간 복잡도 예제 코드\n",
    "# 빅오 표기법 중 가장 느린 시간 복잡도를 가짐 -> 최악의 시간 복잡도로 꼽힘\n",
    "# 주로 재귀적으로 수행하는 알고리즘에서 자주 나타남. 중복 계산이 많이 발생\n",
    "# 함수를 실행할수록 점점 더 많은 호출을 하게 되는데, 이 때문에 함수 호출이 매우 많아져서 시간이 지수적으로 증가\n",
    "# 시간 복잡도 - O(c^n)\n",
    "\n",
    "def fibonacci(n):\n",
    "    if n <= 1:\n",
    "        return n\n",
    "    return fibonacci(n-1) + fibonacci(n-2)\n",
    "  \n",
    "fibonacci(5)"
   ]
  }
 ],
 "metadata": {
  "kernelspec": {
   "display_name": "Python 3",
   "language": "python",
   "name": "python3"
  },
  "language_info": {
   "codemirror_mode": {
    "name": "ipython",
    "version": 3
   },
   "file_extension": ".py",
   "mimetype": "text/x-python",
   "name": "python",
   "nbconvert_exporter": "python",
   "pygments_lexer": "ipython3",
   "version": "3.13.0"
  }
 },
 "nbformat": 4,
 "nbformat_minor": 2
}

{
 "cells": [
  {
   "cell_type": "markdown",
   "metadata": {},
   "source": [
    "# if문\n",
    "- 참 아니면 거짓으로 답할 수 있는 질문은 모두 조건식으로 사용 가능\n",
    "- if문 주어진 조건이 참일 때 특정 코드를 실행\n",
    "\n",
    "# if문의 기본 형식\n",
    "if 조건식:\n",
    "  실행할 코드"
   ]
  },
  {
   "cell_type": "markdown",
   "metadata": {},
   "source": [
    "# 파이썬은 들여쓰기가 중요한 언어!!!\n",
    "- 파이썬에서 들여쓰기는 코드 블록을 구분하고 가독성을 높이는데 중요한 역할\n",
    "- 조건문의 기본 형태를 살펴보면 콜론:과 띄어쓰기를 사용\n",
    "- 콜론: 은 조건문 코드 블록의 시작을 의미\n",
    "- 들여쓰기로 묶인 여러 줄의 코드는 '코드 블록'이라고 부름\n",
    "- if 문에서는 코드 블록을 명확하게 구분하기 위해 들여쓰기를 사용함"
   ]
  },
  {
   "cell_type": "code",
   "execution_count": null,
   "metadata": {},
   "outputs": [],
   "source": [
    "# 조건식이 참인 경우 들여쓰기를 통해 여러 줄의 코드를 실행하는 것도 가능\n",
    "\n",
    "if 조건식: # 조건식이 참이면, 아래 들여쓰기가 된 코드가 순차적으로 모두 실행\n",
    "  코드1\n",
    "  코드2\n",
    "  코드3\n",
    "  ..."
   ]
  },
  {
   "cell_type": "code",
   "execution_count": 3,
   "metadata": {},
   "outputs": [
    {
     "name": "stdout",
     "output_type": "stream",
     "text": [
      "7은 1보다 큽니다.\n"
     ]
    }
   ],
   "source": [
    "if 7 > 1:\n",
    "  print('7은 1보다 큽니다.')\n",
    "  \n",
    "if 2 > 5:\n",
    "  print('2는 5보다 큽니다.')"
   ]
  },
  {
   "cell_type": "code",
   "execution_count": 4,
   "metadata": {},
   "outputs": [
    {
     "name": "stdout",
     "output_type": "stream",
     "text": [
      "양수\n"
     ]
    }
   ],
   "source": [
    "if True:\n",
    "  print('양수')"
   ]
  },
  {
   "cell_type": "code",
   "execution_count": 5,
   "metadata": {},
   "outputs": [
    {
     "name": "stdout",
     "output_type": "stream",
     "text": [
      "20세 이상입니다.\n"
     ]
    }
   ],
   "source": [
    "age = 20\n",
    "\n",
    "if age >= 20:\n",
    "  print('20세 이상입니다.')"
   ]
  },
  {
   "cell_type": "code",
   "execution_count": 6,
   "metadata": {},
   "outputs": [
    {
     "name": "stdout",
     "output_type": "stream",
     "text": [
      "택시를 타고 간다.\n"
     ]
    }
   ],
   "source": [
    "money = True\n",
    "\n",
    "if money:\n",
    "  print('택시를 타고 간다.')"
   ]
  },
  {
   "cell_type": "code",
   "execution_count": 7,
   "metadata": {},
   "outputs": [
    {
     "name": "stdout",
     "output_type": "stream",
     "text": [
      "30대 입니다.\n"
     ]
    }
   ],
   "source": [
    "# if문이 여러개일 경우\n",
    "\n",
    "age = 31\n",
    "\n",
    "if age < 10:\n",
    "  print(\"어린이 입니다.\")\n",
    "  \n",
    "if 10 <= age < 20:\n",
    "  print(\"10대 입니다.\")\n",
    "  \n",
    "if 20 <= age < 30:\n",
    "  print(\"20대 입니다.\")\n",
    "  \n",
    "if 30 <= age < 40:\n",
    "  print(\"30대 입니다.\")"
   ]
  },
  {
   "cell_type": "code",
   "execution_count": 10,
   "metadata": {},
   "outputs": [
    {
     "name": "stdout",
     "output_type": "stream",
     "text": [
      "10입니다.\n"
     ]
    }
   ],
   "source": [
    "# if문에서 두 값을 비교하여 값이 같으면 True나 False를 반환하는 == 연산자도 사용 가능\n",
    "\n",
    "number = 10\n",
    "\n",
    "if number < 10:\n",
    "  print('10보다 작습니다.')\n",
    "  \n",
    "if number == 10:\n",
    "  print('10입니다.')\n",
    "  \n",
    "if number > 10:\n",
    "  print('10보다 큽니다.')"
   ]
  },
  {
   "cell_type": "markdown",
   "metadata": {},
   "source": [
    "# if-else문\n",
    "- if문은 조건식이 참일 때만 원하는 코드를 실행\n",
    "- 조건이 거짓인 경우도 고려가 필요\n",
    "- else문은 if문의 조건이 거짓일때, 즉 False일때 실행되는 코드를 정의\n",
    "- else문은 단독으로는 사용할 수 없고, 항상 if문과 함께 사용되어야 함"
   ]
  },
  {
   "cell_type": "code",
   "execution_count": null,
   "metadata": {},
   "outputs": [],
   "source": [
    "# if-else문의 기본 형식\n",
    "\n",
    "if 조건식:\n",
    "  조건식이_참일_때_실행할_코드\n",
    "else:\n",
    "  조건식이_거짓일_때_실행할_코드\n",
    "  \n",
    "# 조건식이 참이면 조건식이 참일 때 실행할 코드블록이 실행\n",
    "# 조건식이 거짓이면 조건식이 거짓일 때 실행할 코드블록이 실행"
   ]
  },
  {
   "cell_type": "code",
   "execution_count": 11,
   "metadata": {},
   "outputs": [
    {
     "name": "stdout",
     "output_type": "stream",
     "text": [
      "저는 바나나를 좋아합니다!\n"
     ]
    }
   ],
   "source": [
    "fruit = \"바나나\"\n",
    "\n",
    "if fruit == \"바나나\":\n",
    "  print(\"저는 바나나를 좋아합니다!\")\n",
    "else:\n",
    "  print(\"저는 바나나를 좋아하지 않습니다.\")"
   ]
  },
  {
   "cell_type": "code",
   "execution_count": 12,
   "metadata": {},
   "outputs": [
    {
     "name": "stdout",
     "output_type": "stream",
     "text": [
      "20세 미만입니다.\n"
     ]
    }
   ],
   "source": [
    "age = 14\n",
    "\n",
    "if age >= 20:\n",
    "  print(\"20세 이상입니다.\")\n",
    "else:\n",
    "  print(\"20세 미만입니다.\")"
   ]
  },
  {
   "cell_type": "code",
   "execution_count": 14,
   "metadata": {},
   "outputs": [
    {
     "name": "stdout",
     "output_type": "stream",
     "text": [
      "걸어가라\n"
     ]
    }
   ],
   "source": [
    "# 만약 3000원 이상의 돈을 가지고 있으면 택시를 타고 가고, 그렇지 않으면 걸어가라\n",
    "\n",
    "money = 2000\n",
    "\n",
    "if money >= 3000:\n",
    "  print('택시를 타고 가라')\n",
    "else:\n",
    "  print('걸어가라')"
   ]
  },
  {
   "cell_type": "code",
   "execution_count": 15,
   "metadata": {},
   "outputs": [
    {
     "name": "stdout",
     "output_type": "stream",
     "text": [
      "홀수입니다.\n"
     ]
    }
   ],
   "source": [
    "# 홀수, 짝수를 판단하는 조건식\n",
    "\n",
    "num = 17\n",
    "\n",
    "if num % 2 == 0:\n",
    "  print(\"짝수입니다.\")\n",
    "else:\n",
    "  print(\"홀수입니다.\")"
   ]
  },
  {
   "cell_type": "code",
   "execution_count": 16,
   "metadata": {},
   "outputs": [
    {
     "name": "stdout",
     "output_type": "stream",
     "text": [
      "택시를 타고 가라\n"
     ]
    }
   ],
   "source": [
    "# 조건문과 and, or, not\n",
    "# 돈이 3000원 이상 있거나 카드가 있다면 택시를 타고 가고, 그렇지 않으면 걸어가라\n",
    "\n",
    "money = 2000\n",
    "card = True\n",
    "\n",
    "if money >= 3000 or card:\n",
    "  print(\"택시를 타고 가라\")\n",
    "else:\n",
    "  print(\"걸어가라\")"
   ]
  },
  {
   "cell_type": "code",
   "execution_count": 17,
   "metadata": {},
   "outputs": [
    {
     "name": "stdout",
     "output_type": "stream",
     "text": [
      "택시를 타고 가라\n"
     ]
    }
   ],
   "source": [
    "# in과 not in을 통한 조건식\n",
    "# 만약 주머니에 돈이 있으면 택시를 타고 가고, 없으면 걸어가라\n",
    "\n",
    "pocket = ['paper', 'cellphone', 'money']\n",
    "\n",
    "if 'money' in pocket:\n",
    "  print('택시를 타고 가라')\n",
    "else:\n",
    "  print('걸어가라')"
   ]
  },
  {
   "cell_type": "code",
   "execution_count": 18,
   "metadata": {},
   "outputs": [],
   "source": [
    "# pass를 사용해 조건문에서 아무 일도 하지 않게 설정하기\n",
    "\n",
    "pocket = ['paper', 'money', 'cellphone']\n",
    "\n",
    "if 'money' in pocket:\n",
    "  pass # 'money'가 있으면 아무 작업도 하지 않음\n",
    "else:\n",
    "  print('카드를 꺼내라')"
   ]
  },
  {
   "cell_type": "markdown",
   "metadata": {},
   "source": [
    "# elif문\n",
    "- elif문은 세가지 이상의 흐름으로 프로그램을 제어 가능\n",
    "- 하나가 아닌 여러 개의 조건식을 사용할 수 있음\n",
    "\n",
    "# elif문의 기본 형식\n",
    "\n",
    "if 조건식1:\n",
    "  조건식이 1이 참일 때 실행할 코드\n",
    "elif 조건식2:\n",
    "  조건식 1이 거짓이고 조건식 2가 참일 때 실행할 코드\n",
    "elif 조건식3:\n",
    "  조건식 2는 거짓이고 조건식 3이 참일 때 실행할 코드\n",
    "else:\n",
    "  모든 조건이 거짓일 때 실행할 코드"
   ]
  },
  {
   "cell_type": "code",
   "execution_count": 1,
   "metadata": {},
   "outputs": [
    {
     "name": "stdout",
     "output_type": "stream",
     "text": [
      "택시를 타고 가라\n"
     ]
    }
   ],
   "source": [
    "# elif문을 사용하지 않은 코드와 사용한 코드 비교\n",
    "# 주머니에 돈이 있으면 택시를 타고 가고, 주머니에 돈은 없지만 카드가 있으면 택시를 타고 가고, 돈도 없고 카드도 없으면 걸어가라\n",
    "\n",
    "pocket = ['paper', 'cellphone']\n",
    "card = True\n",
    "\n",
    "if 'money' in pocket:\n",
    "  print(\"택시를 타고 가라\")\n",
    "else:\n",
    "  if card:\n",
    "    print(\"택시를 타고 가라\")\n",
    "  else:\n",
    "    print(\"걸어가라\")"
   ]
  },
  {
   "cell_type": "code",
   "execution_count": 2,
   "metadata": {},
   "outputs": [
    {
     "name": "stdout",
     "output_type": "stream",
     "text": [
      "택시를 타고 가라\n"
     ]
    }
   ],
   "source": [
    "pocket = ['paper', 'cellphone']\n",
    "card = True\n",
    "\n",
    "if 'money' in pocket:\n",
    "  print(\"택시를 타고 가라\")\n",
    "elif card:\n",
    "  print(\"택시를 타고 가라\")\n",
    "else:\n",
    "  print(\"걸어가라\")"
   ]
  },
  {
   "cell_type": "code",
   "execution_count": 4,
   "metadata": {},
   "outputs": [
    {
     "name": "stdout",
     "output_type": "stream",
     "text": [
      "F\n"
     ]
    }
   ],
   "source": [
    "# 성적 처리 프로그램\n",
    "score = 60\n",
    "\n",
    "if score >= 90:\n",
    "  print(\"A\")\n",
    "elif score >= 80:\n",
    "  print(\"B\")\n",
    "elif score >= 70:\n",
    "  print(\"C\")\n",
    "else:\n",
    "  print(\"F\")"
   ]
  },
  {
   "cell_type": "code",
   "execution_count": 6,
   "metadata": {},
   "outputs": [
    {
     "name": "stdout",
     "output_type": "stream",
     "text": [
      "겨울\n"
     ]
    }
   ],
   "source": [
    "# 계절 출력 프로그램\n",
    "month = 12\n",
    "\n",
    "if 3 <= month <= 5:\n",
    "  print(\"봄\")\n",
    "elif 6 <= month <= 8:\n",
    "  print(\"여름\")\n",
    "elif 9 <= month <= 11:\n",
    "  print(\"가을\")\n",
    "else:\n",
    "  print(\"겨울\")"
   ]
  },
  {
   "cell_type": "code",
   "execution_count": 9,
   "metadata": {},
   "outputs": [
    {
     "name": "stdout",
     "output_type": "stream",
     "text": [
      "회원가입을 진행해주세요.\n"
     ]
    }
   ],
   "source": [
    "# 로그인 프로그램\n",
    "id = \"korea123\"\n",
    "password = 7776\n",
    "\n",
    "if id == \"korea\" and password == 7777:\n",
    "  print(\"로그인 되었습니다.\")\n",
    "elif id == \"korea\" and password != 7777:\n",
    "  print(\"비밀번호가 틀렸습니다.\")\n",
    "else:\n",
    "  print(\"회원가입을 진행해주세요.\")"
   ]
  }
 ],
 "metadata": {
  "kernelspec": {
   "display_name": "Python 3",
   "language": "python",
   "name": "python3"
  },
  "language_info": {
   "codemirror_mode": {
    "name": "ipython",
    "version": 3
   },
   "file_extension": ".py",
   "mimetype": "text/x-python",
   "name": "python",
   "nbconvert_exporter": "python",
   "pygments_lexer": "ipython3",
   "version": "3.13.1"
  }
 },
 "nbformat": 4,
 "nbformat_minor": 2
}

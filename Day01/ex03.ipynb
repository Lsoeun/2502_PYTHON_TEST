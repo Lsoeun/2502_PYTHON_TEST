{
 "cells": [
  {
   "cell_type": "markdown",
   "metadata": {},
   "source": [
    "# 반복문\n",
    "- 여러 줄의 코드 블록을 반복적으로 실행하는데 사용\n",
    "- 특정 작업을 반복적으로 실행할 때 사용\n",
    "\n",
    "# for문\n",
    "- 반복 횟수를 미리 알고 있는 경우에 사용\n",
    "- 특정 범위 내의 값을 순차적으로 반복하며 코드 블록을 실행\n",
    "\n",
    "# while문\n",
    "- 반복 횟수를 미리 알 수 없는 경우에 사용\n",
    "- 조건이 참인 동안 계속해서 코드 블록을 반복\n",
    "- 조건이 거짓이 되면 반복문이 종료\n",
    "- 조건에 따라 반복문을 수행해야 하는 경우에 유용하게 사용"
   ]
  },
  {
   "cell_type": "code",
   "execution_count": null,
   "metadata": {},
   "outputs": [],
   "source": [
    "# while문의 기본 구조\n",
    "\n",
    "while 조건식:\n",
    "  조건식이_참이면_실행되는_코드\n",
    "  \n",
    "while 조건식: # 조건식이 참이면(True) 아래 들여쓰기가 되어 있는 코드가 순차적으로 실행되며 계속 반복 (조건이 거짓이 될때까지)\n",
    "  코드1\n",
    "  코드2\n",
    "  코드3"
   ]
  },
  {
   "cell_type": "code",
   "execution_count": null,
   "metadata": {},
   "outputs": [],
   "source": [
    "count = 0 # 초기값\n",
    "\n",
    "while count < 3: # 종료값\n",
    "  print(count)\n",
    "  count = count + 1 # 증감값\n"
   ]
  },
  {
   "cell_type": "code",
   "execution_count": null,
   "metadata": {},
   "outputs": [],
   "source": [
    "count = 10\n",
    "\n",
    "while count > 5:\n",
    "  count -= 1 # count = count - 1\n",
    "  print(count)\n",
    "  "
   ]
  },
  {
   "cell_type": "code",
   "execution_count": 4,
   "metadata": {},
   "outputs": [
    {
     "name": "stdout",
     "output_type": "stream",
     "text": [
      "아이스크림을 사먹었습니다.\n",
      "아이스크림을 사먹었습니다.\n"
     ]
    }
   ],
   "source": [
    "money = 5000\n",
    "\n",
    "while money > 3000:\n",
    "  print(\"아이스크림을 사먹었습니다.\")\n",
    "  money -= 1000"
   ]
  },
  {
   "cell_type": "code",
   "execution_count": null,
   "metadata": {},
   "outputs": [],
   "source": [
    "money = 5000 # 소지 금액\n",
    "count = 0 # 아이스크림을 구매한 갯수를 카운트\n",
    "\n",
    "while money > 3000:\n",
    "  money -= 1000\n",
    "  count += 1 # 구매한 아이스크림의 갯수를 하나씩 증가\n",
    "  print(\"아이스크림을 \", count, \"번 먹었습니다.\")"
   ]
  },
  {
   "cell_type": "code",
   "execution_count": 5,
   "metadata": {},
   "outputs": [
    {
     "name": "stdout",
     "output_type": "stream",
     "text": [
      "나무를 1번 찍었습니다.\n",
      "나무를 2번 찍었습니다.\n",
      "나무를 3번 찍었습니다.\n",
      "나무를 4번 찍었습니다.\n",
      "나무를 5번 찍었습니다.\n",
      "나무를 6번 찍었습니다.\n",
      "나무를 7번 찍었습니다.\n",
      "나무를 8번 찍었습니다.\n",
      "나무를 9번 찍었습니다.\n",
      "나무를 10번 찍었습니다.\n",
      "나무 넘어갑니다.\n"
     ]
    }
   ],
   "source": [
    "treeHit = 0\n",
    "\n",
    "while treeHit < 10:\n",
    "  treeHit = treeHit + 1\n",
    "  print(\"나무를 %d번 찍었습니다.\" % treeHit)\n",
    "  \n",
    "if treeHit == 10:\n",
    "  print(\"나무 넘어갑니다.\")\n",
    "  "
   ]
  },
  {
   "cell_type": "markdown",
   "metadata": {},
   "source": [
    "# 무한 루프\n",
    "- 무한히 반복한다\n",
    "- 파이썬에서 무한루프는 while문으로 구현\n",
    "- while문에서 종료 조건이 없는 경우 항상 참이 되어 while루프가 종료되지 않고 계속 반복\n",
    "\n",
    "while True:\n",
    "  무한 루프를 돌리는 코드"
   ]
  },
  {
   "cell_type": "code",
   "execution_count": null,
   "metadata": {},
   "outputs": [],
   "source": [
    "count = 0\n",
    "\n",
    "while count < 3:\n",
    "  print(count)"
   ]
  }
 ],
 "metadata": {
  "kernelspec": {
   "display_name": "Python 3",
   "language": "python",
   "name": "python3"
  },
  "language_info": {
   "codemirror_mode": {
    "name": "ipython",
    "version": 3
   },
   "file_extension": ".py",
   "mimetype": "text/x-python",
   "name": "python",
   "nbconvert_exporter": "python",
   "pygments_lexer": "ipython3",
   "version": "3.13.1"
  }
 },
 "nbformat": 4,
 "nbformat_minor": 2
}

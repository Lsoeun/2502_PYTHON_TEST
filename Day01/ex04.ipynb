{
 "cells": [
  {
   "cell_type": "markdown",
   "metadata": {},
   "source": [
    "# 큐란?\n",
    "- 큐는 뒤에서부터 요소를 추가하고 앞에서부터 요소를 꺼내는 선형 자료 구조\n",
    "- 대표적인 선입 선출(FIFO, First In First Out) 방식으로 동작\n",
    "- 즉, 가장 먼저 들어온 데이터가 가장 먼저 나가는 방식\n",
    "- 데이터가 들어오는 순서대로 나가기 때문에, 일종의 대기열처럼 동작\n",
    "- 큐의 양 끝에 각각 삽입과 삭제 연산을 지원함. 삽입은 큐의 뒤에서, 삭제는 큐의 앞에서 이루어짐\n",
    "\n",
    "# 인큐와 디큐\n",
    "- 인큐(Enqueue): 요소를 큐에 추가하는 연산. 이때 추가된 요소는 큐의 뒤에 삽입\n",
    "- 디큐(Dequeue): 요소를 큐에서 제거하는 연산. 이때 제거된 요소는 큐의 앞에서 제거"
   ]
  },
  {
   "cell_type": "code",
   "execution_count": 1,
   "metadata": {},
   "outputs": [],
   "source": [
    "# 큐 자료구조 구현하기(링크드 리스트 활용해 만들기)\n",
    "\n",
    "# 노드를 정의하는 클래스 정의\n",
    "class Node:\n",
    "  def __init__(self, data, next=None):\n",
    "    self.data = data  # 노드의 데이터\n",
    "    self.next = next  # 다음 노드를 가리키는 주소(디폴트는 None)\n",
    "    \n",
    "# 큐(Queue) 클래스 정의    \n",
    "class Queue:\n",
    "  def __init__(self): # 큐는 front(앞)과 rear(뒤) 노드를 가짐\n",
    "    self.front = None # 큐의 첫 번째 요소(앞쪽)\n",
    "    self.rear = None # 큐의 마지막 요소(뒤쪽)\n",
    "    self._size = 0 # 큐에 저장된 데이터의 개수\n",
    "    \n",
    "  # 큐에 새로운 요소를 추가하는 함수\n",
    "  def enqueue(self, item):\n",
    "    self._size += 1 # 큐의 크기 증가\n",
    "    node = Node(item)  # 새로운 노드를 생성 (주어진 데이터를 가진 노드)\n",
    "    if self.rear is None: # 큐가 비어 있는 경우\n",
    "      self.front = node # front와 rear 모두 새로운 노드가 됨\n",
    "      self.rear = node\n",
    "    else: # 큐가 비어 있지 않은 경우\n",
    "      self.rear.next = node # 기존 rear의 next에 새로운 노드를 연결\n",
    "      self.rear = node  # rear를 새로운 노드로 갱신\n",
    "      \n",
    "  # 큐에서 요소를 제거하는 함수\n",
    "  def dequeue(self): \n",
    "    if self.front is None: # 큐가 비어 있는 경우 예외 처리\n",
    "      raise IndexError('pop from empty queue') # 빈 큐에서 꺼낼 수 없음\n",
    "    self._size -= 1  # 큐의 크기 감소\n",
    "    temp = self.front  # 큐에서 제거할 노드를 임시로 저장\n",
    "    self.front = self.front.next  # front를 다음 노드로 갱신\n",
    "    if self.front is None:  # 만약 front가 None이면 큐가 비어 있는 상태\n",
    "      self.rear = None  # rear도 None으로 설정\n",
    "    return temp.data  # 제거된 노드의 데이터를 반환\n",
    "  \n",
    "  # 큐의 크기(저장된 요소의 개수)를 반환하는 함수\n",
    "  def size(self):\n",
    "    return self._size\n",
    "      "
   ]
  },
  {
   "cell_type": "code",
   "execution_count": 2,
   "metadata": {},
   "outputs": [
    {
     "name": "stdout",
     "output_type": "stream",
     "text": [
      "큐 크기: 3\n",
      "10\n",
      "20\n",
      "큐 크기: 1\n"
     ]
    }
   ],
   "source": [
    "# 큐 객체 생성\n",
    "queue = Queue()\n",
    "\n",
    "# 큐에 요소 추가\n",
    "queue.enqueue(10)\n",
    "queue.enqueue(20)\n",
    "queue.enqueue(30)\n",
    "\n",
    "print(\"큐 크기:\", queue.size())  # 큐 크기 출력\n",
    "\n",
    "# 큐에서 요소 제거\n",
    "print(queue.dequeue())  # 10 제거\n",
    "print(queue.dequeue())  # 20 제거\n",
    "\n",
    "print(\"큐 크기:\", queue.size())  # 큐 크기 출력"
   ]
  },
  {
   "cell_type": "code",
   "execution_count": 5,
   "metadata": {},
   "outputs": [
    {
     "name": "stdout",
     "output_type": "stream",
     "text": [
      "3\n",
      "a\n",
      "b\n",
      "c\n"
     ]
    }
   ],
   "source": [
    "# 파이썬에 내장된 큐 클래스\n",
    "# 파이썬에는 큐를 만들 수 있는 내장된 클래스가 있음\n",
    "from queue import Queue\n",
    "\n",
    "# 큐 객체 생성\n",
    "q = Queue()\n",
    "\n",
    "# 큐에 데이터를 추가하는 연산 (인큐)\n",
    "q.put('a')\n",
    "q.put('b')\n",
    "q.put('c')\n",
    "print(q.qsize()) # 큐에 들어있는 요소의 개수를 출력\n",
    "\n",
    "# 큐에서 요소를 하나씩 꺼내 제거하면서 출력\n",
    "for i in range(3):\n",
    "  print(q.get())\n",
    "  \n",
    "# put()은 큐에 요소를 추가하고, get()은 큐에서 요소를 제거하는 메서드\n",
    "# qsize()는 큐에 들어 있는 요소의 개수를 반환하는 메서드"
   ]
  },
  {
   "cell_type": "code",
   "execution_count": 6,
   "metadata": {},
   "outputs": [
    {
     "name": "stdout",
     "output_type": "stream",
     "text": [
      "서비스를 받는 고객: Alice\n",
      "서비스를 받는 고객: Bob\n",
      "서비스를 받는 고객: Charlie\n",
      "서비스를 받는 고객: David\n",
      "서비스를 받는 고객: Eve\n",
      "모든 고객이 서비스를 받았습니다!\n"
     ]
    }
   ],
   "source": [
    "# 큐 클래스로 대기열 시스템 만들기\n",
    "from queue import Queue\n",
    "\n",
    "def queue_service(customers):\n",
    "    q = Queue()  # 큐 생성\n",
    "    \n",
    "    # 고객들을 큐에 삽입\n",
    "    for customer in customers:\n",
    "        q.put(customer)\n",
    "    \n",
    "    # 고객 서비스 시작 (큐에서 하나씩 꺼내서 서비스)\n",
    "    while not q.empty():\n",
    "        customer = q.get()  # 큐에서 고객 한명 꺼내기\n",
    "        print(f\"서비스를 받는 고객: {customer}\")\n",
    "    \n",
    "    print(\"모든 고객이 서비스를 받았습니다!\")\n",
    "\n",
    "# 고객 리스트\n",
    "customers = [\"Alice\", \"Bob\", \"Charlie\", \"David\", \"Eve\"]\n",
    "queue_service(customers)\n"
   ]
  }
 ],
 "metadata": {
  "kernelspec": {
   "display_name": "Python 3",
   "language": "python",
   "name": "python3"
  },
  "language_info": {
   "codemirror_mode": {
    "name": "ipython",
    "version": 3
   },
   "file_extension": ".py",
   "mimetype": "text/x-python",
   "name": "python",
   "nbconvert_exporter": "python",
   "pygments_lexer": "ipython3",
   "version": "3.13.0"
  }
 },
 "nbformat": 4,
 "nbformat_minor": 2
}

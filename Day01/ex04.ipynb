{
 "cells": [
  {
   "cell_type": "markdown",
   "metadata": {},
   "source": [
    "# for문의 기본 구조\n",
    "\n",
    "for 변수 in 리스트(또는 튜플, 또는 문자열):\n",
    "  실행할 코드1\n",
    "  실행할 코드2"
   ]
  },
  {
   "cell_type": "code",
   "execution_count": 1,
   "metadata": {},
   "outputs": [
    {
     "name": "stdout",
     "output_type": "stream",
     "text": [
      "1\n",
      "2\n",
      "3\n",
      "4\n",
      "5\n"
     ]
    }
   ],
   "source": [
    "for n in [1, 2, 3, 4, 5]:\n",
    "  print(n)"
   ]
  },
  {
   "cell_type": "code",
   "execution_count": 2,
   "metadata": {},
   "outputs": [
    {
     "name": "stdout",
     "output_type": "stream",
     "text": [
      "1\n",
      "2\n",
      "3\n",
      "4\n",
      "5\n"
     ]
    }
   ],
   "source": [
    "nums = [1, 2, 3, 4, 5]\n",
    "\n",
    "for n in nums:\n",
    "  print(n)"
   ]
  },
  {
   "cell_type": "code",
   "execution_count": 3,
   "metadata": {},
   "outputs": [
    {
     "name": "stdout",
     "output_type": "stream",
     "text": [
      "안녕하세요. 제 이름은 jennie 입니다.\n",
      "만나서 반갑습니다.\n",
      "안녕하세요. 제 이름은 hani 입니다.\n",
      "만나서 반갑습니다.\n",
      "안녕하세요. 제 이름은 kelly 입니다.\n",
      "만나서 반갑습니다.\n"
     ]
    }
   ],
   "source": [
    "names = ['jennie', 'hani', 'kelly']\n",
    "\n",
    "for a in names:\n",
    "  print(\"안녕하세요. 제 이름은\", a, \"입니다.\")\n",
    "  print(\"만나서 반갑습니다.\")"
   ]
  },
  {
   "cell_type": "code",
   "execution_count": 4,
   "metadata": {},
   "outputs": [
    {
     "name": "stdout",
     "output_type": "stream",
     "text": [
      "H\n",
      "e\n",
      "l\n",
      "l\n",
      "o\n"
     ]
    }
   ],
   "source": [
    "# 문자열과 for문 활용하기\n",
    "for ch in 'Hello':\n",
    "  print(ch)"
   ]
  },
  {
   "cell_type": "code",
   "execution_count": 5,
   "metadata": {},
   "outputs": [
    {
     "name": "stdout",
     "output_type": "stream",
     "text": [
      "1번 학생은 합격입니다.\n",
      "2번 학생은 불합격입니다.\n",
      "3번 학생은 합격입니다.\n",
      "4번 학생은 불합격입니다.\n",
      "5번 학생은 합격입니다.\n"
     ]
    }
   ],
   "source": [
    "# for문의 응용\n",
    "# 총 5명의 학생이 시험을 보았는데, 시험 점수가 60점 이상이면 합격이고, 그렇지 않으면 불합격입니다.\n",
    "# 합격인지 불합격인지 결과를 출력하세요.\n",
    "\n",
    "marks = [90, 25, 67, 50, 60] # 학생들의 점수 리스트\n",
    "number = 0 # 학생에게 붙여줄 번호\n",
    "\n",
    "for mark in marks:\n",
    "  number = number + 1\n",
    "  if mark >= 60:\n",
    "    print(\"%d번 학생은 합격입니다.\" % number) # 문자열 포매팅 사용\n",
    "  else:\n",
    "    print(\"%d번 학생은 불합격입니다.\" % number)"
   ]
  },
  {
   "cell_type": "code",
   "execution_count": 6,
   "metadata": {},
   "outputs": [
    {
     "name": "stdout",
     "output_type": "stream",
     "text": [
      "1번 학생 축하합니다. 합격입니다!!\n",
      "5번 학생 축하합니다. 합격입니다!!\n"
     ]
    }
   ],
   "source": [
    "# for문과 continue문\n",
    "# for문 안의 문장을 수행하는 도중 continue문을 만나면 for 문의 처음으로 돌아감 -> 다음 반복을 수행\n",
    "\n",
    "marks = [90, 50, 25, 45, 80]\n",
    "number = 0\n",
    "\n",
    "for mark in marks:\n",
    "  number = number + 1\n",
    "  \n",
    "  if mark < 60:\n",
    "    continue # 60점 미만이면 합격 처리를 하지 않고 다음 반복으로 넘어감\n",
    "  print(\"%d번 학생 축하합니다. 합격입니다!!\" % number)"
   ]
  },
  {
   "cell_type": "code",
   "execution_count": null,
   "metadata": {},
   "outputs": [],
   "source": [
    "# for문과 함께 자주 사용되는 range() 함수\n",
    "# range() 함수는 연속된 정수 범위를 생성하는 내장함수\n",
    "# for문과 함께 사용하여 반복적인 작업을 수행하거나 특정 범위의 값을 처리하는데 유용\n",
    "\n",
    "# range() 함수의 기본 형태\n",
    "range(시작숫자, 종료숫자, 간격)\n",
    "# 시작 숫자는 생략 가능하며 생략하면 기본 값은 0\n",
    "# 종료 숫자는 포함되지 않음!!!!\n",
    "# 간격은 생략 가능하며, 생략하면 기본 값은 1"
   ]
  },
  {
   "cell_type": "code",
   "execution_count": 7,
   "metadata": {},
   "outputs": [
    {
     "name": "stdout",
     "output_type": "stream",
     "text": [
      "1\n",
      "2\n",
      "3\n",
      "4\n"
     ]
    }
   ],
   "source": [
    "for i in range(1, 5):\n",
    "  print(i)"
   ]
  },
  {
   "cell_type": "code",
   "execution_count": 8,
   "metadata": {},
   "outputs": [
    {
     "name": "stdout",
     "output_type": "stream",
     "text": [
      "1\n",
      "3\n",
      "5\n",
      "7\n",
      "9\n"
     ]
    }
   ],
   "source": [
    "for i in range(1, 10, 2):\n",
    "  print(i)"
   ]
  },
  {
   "cell_type": "code",
   "execution_count": 9,
   "metadata": {},
   "outputs": [
    {
     "name": "stdout",
     "output_type": "stream",
     "text": [
      "[0, 1, 2, 3, 4, 5, 6, 7, 8, 9]\n"
     ]
    }
   ],
   "source": [
    "# range 객체를 리스트로 변환\n",
    "# list()\n",
    "\n",
    "a = range(10)\n",
    "a_list = list(a)\n",
    "print(a_list)"
   ]
  },
  {
   "cell_type": "code",
   "execution_count": 11,
   "metadata": {},
   "outputs": [
    {
     "name": "stdout",
     "output_type": "stream",
     "text": [
      "55\n"
     ]
    }
   ],
   "source": [
    "# 1부터 10까지 합계 구하기\n",
    "add = 0\n",
    "\n",
    "for i in range(1, 11):\n",
    "  add = add + i\n",
    "  \n",
    "print(add)"
   ]
  },
  {
   "cell_type": "code",
   "execution_count": 12,
   "metadata": {},
   "outputs": [
    {
     "name": "stdout",
     "output_type": "stream",
     "text": [
      "5050\n"
     ]
    }
   ],
   "source": [
    "# 1부터 100까지 합계\n",
    "add = 0\n",
    "\n",
    "for i in range(1, 101):\n",
    "  add = add + i\n",
    "  \n",
    "print(add)"
   ]
  },
  {
   "cell_type": "code",
   "execution_count": null,
   "metadata": {},
   "outputs": [],
   "source": [
    "# 중첩된 for문\n",
    "for m in range(2, 10):\n",
    "  for n in range(1, 10):\n",
    "    print(m, \"X\", n, \"=\", m * n)"
   ]
  },
  {
   "cell_type": "code",
   "execution_count": 3,
   "metadata": {},
   "outputs": [
    {
     "name": "stdout",
     "output_type": "stream",
     "text": [
      "i : 1, j : 1\n",
      "i : 1, j : 2\n",
      "i : 2, j : 1\n",
      "i : 2, j : 2\n",
      "i : 3, j : 1\n",
      "i : 3, j : 2\n"
     ]
    }
   ],
   "source": [
    "# 중첩된 while문\n",
    "i = 1\n",
    "while i <= 3:  # 외부 반복 : i가 1부터 3까지\n",
    "  j = 1\n",
    "  while j <= 2: # 내부 반복 : j가 1부터 2까지\n",
    "    print(f\"i : {i}, j : {j}\")\n",
    "    j += 1 # j를 1 증가\n",
    "  i += 1 # i를 1 증가"
   ]
  }
 ],
 "metadata": {
  "kernelspec": {
   "display_name": "Python 3",
   "language": "python",
   "name": "python3"
  },
  "language_info": {
   "codemirror_mode": {
    "name": "ipython",
    "version": 3
   },
   "file_extension": ".py",
   "mimetype": "text/x-python",
   "name": "python",
   "nbconvert_exporter": "python",
   "pygments_lexer": "ipython3",
   "version": "3.13.1"
  }
 },
 "nbformat": 4,
 "nbformat_minor": 2
}

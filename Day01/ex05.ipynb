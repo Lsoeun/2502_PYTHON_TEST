{
 "cells": [
  {
   "cell_type": "markdown",
   "metadata": {},
   "source": [
    "# 함수\n",
    "- 함수는 특정 기능을 수행하는 여러 줄의 코드를 하나의 블록으로 묶어놓은 것\n",
    "- 함수는 이름과 코드 블록으로 구성(코드 블록은 함수의 기능을 구현하는 코드를 담고 있음)\n",
    "- 각 함수는 특정 기능을 수행하도록 설계\n",
    "- 원하는 기능을 수행할 때마다 해당 함수 이름을 호출하면 코드 블록에 작성된 명령들이 실행\n",
    "- 함수는 명확한 이름을 통해 그 기능을 쉽게 파악할 수 있도록 하는 것이 중요\n",
    "\n",
    "# 함수의 장점\n",
    "- 반복적인 코드 제거 및 재사용성 향상\n",
    "- 특정 기능을 한번만 구현해 놓으면, 필요할 때마다 호출하여 사용 가능\n",
    "- 코드의 가독성 및 유지보수 향상"
   ]
  },
  {
   "cell_type": "code",
   "execution_count": null,
   "metadata": {},
   "outputs": [],
   "source": [
    "# 파이썬 함수의 기본 구조\n",
    "def 함수이름(매개변수):\n",
    "  수행할_문장(코드)\n",
    "  수행할_문장(코드)\n",
    "  \n",
    "# 파이썬 함수는 def 키워드를 사용하여 정의. definition. 즉 정의한다는 뜻을 가지고 있음\n",
    "# def는 함수를 만들 때 사용하는 예약어이며, 함수 이름은 만드는 사람이 임의로 만들 수 있음\n",
    "# 함수 이름 뒤 괄호 안의 매개변수는 이 함수에 입력으로 전달되는 값을 받는 변수\n",
    "# : 콜론은 함수 정의 후 코드 블록의 시작을 나타냄"
   ]
  },
  {
   "cell_type": "code",
   "execution_count": null,
   "metadata": {},
   "outputs": [],
   "source": [
    "# 함수 선언\n",
    "def hello():\n",
    "  print(\"안녕하세요\")\n",
    "  print(\"제 이름은 파이썬 입니다.\")\n",
    "  print(\"만나서 반갑습니다.\")\n",
    "  \n",
    "# 함수 호출\n",
    "hello()\n",
    "hello()"
   ]
  },
  {
   "cell_type": "code",
   "execution_count": 4,
   "metadata": {},
   "outputs": [
    {
     "name": "stdout",
     "output_type": "stream",
     "text": [
      "30\n",
      "30\n",
      "30\n"
     ]
    }
   ],
   "source": [
    "def plus():\n",
    "  a = 10\n",
    "  b = 20\n",
    "  print(a + b)\n",
    "  \n",
    "plus()\n",
    "plus()\n",
    "plus()"
   ]
  },
  {
   "cell_type": "code",
   "execution_count": 7,
   "metadata": {},
   "outputs": [
    {
     "name": "stdout",
     "output_type": "stream",
     "text": [
      "14\n",
      "30\n"
     ]
    }
   ],
   "source": [
    "def add(a, b):\n",
    "  return a + b\n",
    "\n",
    "# 이 함수는 이름은 add이고, 입력값으로 2개의 값을 받으며, 리턴값(출력값)은 2개의 입력값을 더한 값이다.\n",
    "\n",
    "a = 10\n",
    "b = 4\n",
    "c = add(a, b)\n",
    "print(c)\n",
    "\n",
    "d = add(10, 20)\n",
    "print(d)"
   ]
  },
  {
   "cell_type": "markdown",
   "metadata": {},
   "source": [
    "# 매개변수와 인수\n",
    "- 매개변수는 함수에 입력으로 전달된 값을 받는 변수. 특정 데이터를 입력하는데 사용\n",
    "- 인수는 함수를 호출할 때 전달하는 입력값\n",
    "\n",
    "# 매개변수가 있는 함수 선언\n",
    "def 함수이름(매개변수1, 매개변수2):\n",
    "  수행할 코드\n",
    "  수행할 코드\n",
    "\n",
    "# 매개변수가 있는 함수 호출\n",
    "함수이름(값1, 값2)"
   ]
  },
  {
   "cell_type": "code",
   "execution_count": 13,
   "metadata": {},
   "outputs": [
    {
     "name": "stdout",
     "output_type": "stream",
     "text": [
      "7\n"
     ]
    }
   ],
   "source": [
    "def add(a, b): # a, b는 매개변수\n",
    "  return a + b\n",
    "\n",
    "print(add(3, 4)) # 3, 4는 인수"
   ]
  },
  {
   "cell_type": "code",
   "execution_count": 14,
   "metadata": {},
   "outputs": [
    {
     "name": "stdout",
     "output_type": "stream",
     "text": [
      "안녕하세요\n",
      "제 이름은 김이름 입니다.\n",
      "\n",
      "안녕하세요\n",
      "제 이름은 이이름 입니다.\n",
      "\n",
      "안녕하세요\n",
      "제 이름은 박이름 입니다.\n",
      "\n"
     ]
    }
   ],
   "source": [
    "# 함수 선언\n",
    "def hello(name):\n",
    "  print(\"안녕하세요\")\n",
    "  print(\"제 이름은\", name, \"입니다.\")\n",
    "  print()\n",
    "  \n",
    "# 함수 호출\n",
    "hello(\"김이름\")\n",
    "hello(\"이이름\")\n",
    "hello(\"박이름\")"
   ]
  },
  {
   "cell_type": "code",
   "execution_count": null,
   "metadata": {},
   "outputs": [],
   "source": [
    "# 함수 선언\n",
    "def introduce(name, age):\n",
    "  print(\"안녕하세요\", name, \"입니다.\")\n",
    "  print(\"저의 나이는\", age, \"살 입니다.\")\n",
    "  print()\n",
    "  \n",
    "# 함수 호출\n",
    "introduce(\"제니\", 20)\n",
    "introduce(\"켈리\", 7)\n",
    "\n",
    "# 파이썬의 함수는 어떤 타입이든 매개변수로 받을 수 있음\n",
    "introduce([1, 2, 3], True)"
   ]
  },
  {
   "cell_type": "markdown",
   "metadata": {},
   "source": [
    "# 리턴(return)\n",
    "- 리턴은 함수 내부에서 계산된 결과 값을 함수 외부로 전달하는데 사용하는 키워드\n",
    "- 함수 코드블록 내에서 return을 만나면, 함수는 종료되고 return 값이 함수를 호출한 위치로 전달됨\n",
    "\n",
    "def 함수이름(매개변수1, 매개변수2):\n",
    "  수행할 코드\n",
    "  수행할 코드\n",
    "  return 함수 밖으로 전달하고 싶은 값"
   ]
  },
  {
   "cell_type": "code",
   "execution_count": 18,
   "metadata": {},
   "outputs": [
    {
     "name": "stdout",
     "output_type": "stream",
     "text": [
      "15\n",
      "3\n",
      "None\n"
     ]
    }
   ],
   "source": [
    "# return 키워드가 있는 함수\n",
    "def plus(a, b):\n",
    "  return (a + b) # return 키워드를 사용하여 계산된 결과 값을 함수 외부로 전달\n",
    "\n",
    "plus(5, 5)\n",
    "sum = plus(5, 10)\n",
    "print(sum)\n",
    "\n",
    "# return 키워드가 없는 함수\n",
    "def plus2(a, b):\n",
    "  print(a + b)\n",
    "  \n",
    "sum2 = plus2(1, 2)\n",
    "print(sum2)"
   ]
  },
  {
   "cell_type": "code",
   "execution_count": 2,
   "metadata": {},
   "outputs": [
    {
     "name": "stdout",
     "output_type": "stream",
     "text": [
      "30\n",
      "70\n"
     ]
    }
   ],
   "source": [
    "# 1. 리턴값이 있는 함수\n",
    "# return 키워드를 사용하여 값을 함수 외부로 전달\n",
    "# 반환된 값은 다른 변수에 저장하거나, 다른 함수의 입력값으로 사용 가능\n",
    "# 주로 계산 결과를 반환하거나 데이터를 처리한 결과를 전달하는데 사용\n",
    "\n",
    "def add(a, b):\n",
    "  return a + b # 두 값을 더한 결과를 반환\n",
    "\n",
    "# 함수의 리턴값을 변수에 저장\n",
    "result = add(10, 20)\n",
    "print(result)\n",
    "\n",
    "# 반환값(리턴값)을 다른 함수의 입력값으로 사용\n",
    "result2 = add(result, 40)\n",
    "print(result2)"
   ]
  },
  {
   "cell_type": "code",
   "execution_count": 6,
   "metadata": {},
   "outputs": [
    {
     "name": "stdout",
     "output_type": "stream",
     "text": [
      "30\n",
      "30\n",
      "None\n"
     ]
    }
   ],
   "source": [
    "# 2. 리턴값이 없는 함수\n",
    "# return 키워드를 사용하지 않거나, return 뒤에 아무 값도 지정하지 않음\n",
    "# 호출한 곳에서는 항상 None이 반환됨\n",
    "\n",
    "def sum(a, b):\n",
    "  print(a + b) # 두 수를 더한 결과를 바로 출력 \n",
    "  \n",
    "# 함수 호출 (출력만 수행, 반환값(리턴값) 없음)\n",
    "sum(10, 20) \n",
    "\n",
    "# 리턴값이 없으므로 변수에 값이 저장되지 않음\n",
    "result = sum(10, 20) \n",
    "print(result)\n",
    "\n",
    "# 반환값을 다른 함수의 입력으로도 사용 불가\n",
    "# result2 = add(result, 40)\n",
    "# print(result2)"
   ]
  }
 ],
 "metadata": {
  "kernelspec": {
   "display_name": "Python 3",
   "language": "python",
   "name": "python3"
  },
  "language_info": {
   "codemirror_mode": {
    "name": "ipython",
    "version": 3
   },
   "file_extension": ".py",
   "mimetype": "text/x-python",
   "name": "python",
   "nbconvert_exporter": "python",
   "pygments_lexer": "ipython3",
   "version": "3.13.1"
  }
 },
 "nbformat": 4,
 "nbformat_minor": 2
}

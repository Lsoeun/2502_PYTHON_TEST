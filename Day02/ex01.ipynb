{
 "cells": [
  {
   "cell_type": "markdown",
   "metadata": {},
   "source": [
    "# 리스트란?\n",
    "- 일상생활에서 사용하는 목록과 비슷한 개념을 가진 자료구조\n",
    "- 여러 개의 데이터를 하나의 변수에 저장할 수 있는 순차적인 자료형\n",
    "- 다양한 데이터 타입의 값을 혼합하여 저장 가능\n",
    "- 저장된 값들은 순서가 있으며 인덱스를 통해 접근\n",
    "- 한번 생성된 리스트의 내용은 수정과 변경이 가능\n",
    "- 담을 수 있는 데이터의 종류에 제약이 없기 때문에 매우 유연"
   ]
  },
  {
   "cell_type": "markdown",
   "metadata": {},
   "source": [
    "# 자료형과 자료구조\n",
    "\n",
    "### **1. 자료형 (Data Type)**\n",
    "- 데이터의 형태(타입)을 정의하는 개념.\n",
    "- 정수형(int), 문자열형(str), 집합 자료형(set) 등 데이터의 성질을 나타냄.\n",
    "\n",
    "### **2. 자료구조 (Data Structure)**\n",
    "- 데이터를 효율적으로 저장하고 관리하는 방식.\n",
    "- 알고리즘과 결합하여 삽입, 삭제, 탐색 등의 연산을 최적화.\n",
    "- 기본 자료구조: 리스트, 튜플, 딕셔너리, 집합 등\n",
    "- 고급 자료구조: 스택, 큐, 트리 등\n",
    "\n",
    "---\n",
    "\n",
    "### **3. 파이썬 리스트**\n",
    "- 파이썬의 리스트는 자료형이자 자료구조입니다.\n",
    "  - 자료형: `list`라는 이름의 내장 데이터 타입.\n",
    "  - 자료구조: 동적 배열 기반으로 데이터를 순차적으로 저장하고 관리.\n",
    "\n",
    "#### **리스트의 주요 특징**\n",
    "1. 가변 크기: 리스트는 크기가 동적으로 확장됩니다.\n",
    "2. 다양한 자료형 저장 가능: 한 리스트에 서로 다른 자료형의 데이터를 저장할 수 있습니다.\n",
    "   list = [1, \"apple\", 3.14]  # 다양한 자료형 저장 가능"
   ]
  },
  {
   "cell_type": "code",
   "execution_count": 1,
   "metadata": {},
   "outputs": [
    {
     "name": "stdout",
     "output_type": "stream",
     "text": [
      "[1, 3, 5, 7, 9]\n",
      "[]\n",
      "[1, 2, 3]\n",
      "['Life', 'is', 'too', 'short']\n",
      "[1, 2, 'Life', 'is']\n",
      "[1, 2, ['Life', 'is']]\n",
      "[True, True, False]\n",
      "[3, 9, 'y', 2, 'Hi', True, {1, 2, 3}]\n",
      "[1]\n"
     ]
    }
   ],
   "source": [
    "# 리스트 자료형의 기본 구조\n",
    "# 리스트는 대괄호[] 사용하여 감싸고, 그 안에 저장할 데이터들을 쉼표,로 구분하여 나열\n",
    "# 리스트명 = [요소1, 요소2, 요소3, ...]\n",
    "\n",
    "odd = [1, 3, 5, 7, 9]\n",
    "\n",
    "print(odd)\n",
    "\n",
    "a = []\n",
    "b = [1, 2, 3]\n",
    "c = ['Life', 'is', 'too', 'short']\n",
    "d = [1, 2, 'Life', 'is']\n",
    "e = [1, 2, ['Life', 'is']]\n",
    "f = [True, True, False]\n",
    "g = [3, 9, 'y', 2, 'Hi', True, {1, 2, 3}]\n",
    "h = [1]\n",
    "\n",
    "print(a)\n",
    "print(b)\n",
    "print(c)\n",
    "print(d)\n",
    "print(e)\n",
    "print(f)\n",
    "print(g)\n",
    "print(h)\n",
    "\n",
    "# 리스트 안에는 어떠한 자료형도 포함 가능\n",
    "# 리스트에 들어가는 각 항목을 우리는 하나의 요소 또는 엘리먼트 라고 부름"
   ]
  },
  {
   "cell_type": "code",
   "execution_count": 8,
   "metadata": {},
   "outputs": [
    {
     "name": "stdout",
     "output_type": "stream",
     "text": [
      "kim\n",
      "lee\n",
      "park\n",
      "kim\n",
      "lee\n",
      "park\n"
     ]
    }
   ],
   "source": [
    "# 리스트의 인덱스\n",
    "# 리스트에도 각 요소에 부여되는 고유 번호인 인덱스가 있음(0부터 시작)\n",
    "# 리스트의 각 요소를 하나씩 다룰때는 인덱스를 활용\n",
    "\n",
    "names = ['kim', 'lee', 'park']\n",
    "\n",
    "first = names[0]\n",
    "second = names[1]\n",
    "third = names[2]\n",
    "\n",
    "print(first)\n",
    "print(second)\n",
    "print(third)\n",
    "\n",
    "print(names[0])\n",
    "print(names[1])\n",
    "print(names[2])"
   ]
  },
  {
   "cell_type": "code",
   "execution_count": 15,
   "metadata": {},
   "outputs": [
    {
     "name": "stdout",
     "output_type": "stream",
     "text": [
      "2\n",
      "4\n",
      "3\n",
      "[1, 2, 3, ['a', 'b', 'c']]\n",
      "1\n",
      "['a', 'b', 'c']\n",
      "['a', 'b', 'c']\n",
      "a\n",
      "c\n"
     ]
    }
   ],
   "source": [
    "# 리스트 인덱싱\n",
    "a = [1, 2, 3]\n",
    "\n",
    "print(a[1])\n",
    "print(a[0] + a[2])\n",
    "print(a[-1])\n",
    "\n",
    "b = [1, 2, 3, ['a', 'b', 'c']]\n",
    "print(b)\n",
    "print(b[0])\n",
    "print(b[-1])\n",
    "print(b[3])\n",
    "\n",
    "# 리스트에 포함된 리스트의 값 인덱싱\n",
    "print(b[-1][0])\n",
    "print(b[-1][2])\n"
   ]
  },
  {
   "cell_type": "code",
   "execution_count": 20,
   "metadata": {},
   "outputs": [
    {
     "name": "stdout",
     "output_type": "stream",
     "text": [
      "[1, 2]\n",
      "[9, 'y', 2]\n",
      "['y', 2, 'k', True]\n",
      "['y', 2, 'k', True]\n",
      "[3, 9, 'y', 2, 'k']\n",
      "[9, 2, True]\n"
     ]
    }
   ],
   "source": [
    "# 리스트 슬라이싱\n",
    "# 리스트[start:stop:step]\n",
    "\n",
    "a = [1, 2, 3, 4, 5]\n",
    "print(a[0:2])\n",
    "\n",
    "ex = [3, 9, 'y', 2, 'k', True]\n",
    "print(ex[1:4])\n",
    "print(ex[2:6])\n",
    "print(ex[2:])\n",
    "print(ex[:5])\n",
    "print(ex[1:6:2])"
   ]
  },
  {
   "cell_type": "code",
   "execution_count": 21,
   "metadata": {},
   "outputs": [
    {
     "name": "stdout",
     "output_type": "stream",
     "text": [
      "[1, 2, 3, 4, 5]\n",
      "[1, 2]\n",
      "[3, 4, 5]\n"
     ]
    }
   ],
   "source": [
    "# 리스트 슬라이싱 결과를 변수에 담기\n",
    "a = [1, 2, 3, 4, 5]\n",
    "b = a[:2]\n",
    "c = a[2:]\n",
    "\n",
    "print(a)\n",
    "print(b)\n",
    "print(c)"
   ]
  },
  {
   "cell_type": "code",
   "execution_count": 25,
   "metadata": {},
   "outputs": [
    {
     "name": "stdout",
     "output_type": "stream",
     "text": [
      "[1, 2, 3, 4, 5, 6]\n",
      "['A', 'B', 'C', 'D', 'E']\n",
      "[1, 2, 3, 1, 2, 3, 1, 2, 3]\n",
      "['A', 'B', 'C', 'A', 'B', 'C']\n",
      "3\n",
      "5\n"
     ]
    }
   ],
   "source": [
    "# 리스트 연산하기\n",
    "# 리스트는 연산자를 통해 결합과 반복이 가능\n",
    "\n",
    "# 리스트 더하기(결합)\n",
    "a = [1, 2, 3]\n",
    "b = [4, 5, 6]\n",
    "print(a + b)\n",
    "\n",
    "list1 = ['A', 'B', 'C']\n",
    "list2 = ['D', 'E']\n",
    "list3 = list1 + list2\n",
    "print(list3)\n",
    "\n",
    "# 리스트 반복하기\n",
    "a = [1, 2, 3]\n",
    "print(a * 3)\n",
    "\n",
    "b = ['A', 'B', 'C']\n",
    "print(b * 2)\n",
    "\n",
    "# 리스트 길이 구하기\n",
    "a = [1, 2, 3]\n",
    "print(len(a))\n",
    "\n",
    "b = ['A', 'B', 'C', 'D', 'E']\n",
    "print(len(b))"
   ]
  },
  {
   "cell_type": "code",
   "execution_count": 35,
   "metadata": {},
   "outputs": [
    {
     "name": "stdout",
     "output_type": "stream",
     "text": [
      "4\n",
      "10 20 30 40 50 "
     ]
    }
   ],
   "source": [
    "# 리스트의 길이를 확인하는 len()\n",
    "# 리스트의 요소가 몇개인지 길이를 확인\n",
    "# len(리스트)\n",
    "\n",
    "a = ['a', 'b', 'c', 'd']\n",
    "b = len(a)\n",
    "print(b)\n",
    "\n",
    "# for문과 len() 함께 사용\n",
    "# 반복 횟수를 리스트의 길이만큼 제어 -> 리스트의 모든 요소를 하나씩 출력하는 효과\n",
    "numbers = [10, 20, 30, 40, 50]\n",
    "for i in range(len(numbers)):\n",
    "  print(numbers[i], end=\" \")"
   ]
  },
  {
   "cell_type": "code",
   "execution_count": 27,
   "metadata": {},
   "outputs": [
    {
     "name": "stdout",
     "output_type": "stream",
     "text": [
      "3hi\n"
     ]
    }
   ],
   "source": [
    "# 리스트 연산 시 범하기 쉬운 오류\n",
    "a = [1, 2, 3]\n",
    "# print(a[2] + \"hi\") -> 파이썬은 정수와 문자열은 연산이 불가!\n",
    "print(str(a[2]) + \"hi\")"
   ]
  },
  {
   "cell_type": "code",
   "execution_count": 31,
   "metadata": {},
   "outputs": [
    {
     "name": "stdout",
     "output_type": "stream",
     "text": [
      "[1, 2, 4]\n",
      "[1, 4]\n",
      "[1, 2]\n"
     ]
    }
   ],
   "source": [
    "# 리스트의 수정과 삭제\n",
    "a = [1, 2, 3]\n",
    "a[2] = 4\n",
    "print(a)\n",
    "\n",
    "del a[1]\n",
    "print(a)\n",
    "# del a[x]는 x번째 요솟값을 삭제\n",
    "\n",
    "# 슬라이싱을 활용하여 요소 여러개를 한번에 삭제도 가능\n",
    "b = [1, 2, 3, 4, 5]\n",
    "del b[2:]\n",
    "print(b)"
   ]
  }
 ],
 "metadata": {
  "kernelspec": {
   "display_name": "Python 3",
   "language": "python",
   "name": "python3"
  },
  "language_info": {
   "codemirror_mode": {
    "name": "ipython",
    "version": 3
   },
   "file_extension": ".py",
   "mimetype": "text/x-python",
   "name": "python",
   "nbconvert_exporter": "python",
   "pygments_lexer": "ipython3",
   "version": "3.13.0"
  }
 },
 "nbformat": 4,
 "nbformat_minor": 2
}

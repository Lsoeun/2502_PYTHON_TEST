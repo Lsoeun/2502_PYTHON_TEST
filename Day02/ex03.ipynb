{
 "cells": [
  {
   "cell_type": "markdown",
   "metadata": {},
   "source": [
    "# 딕셔너리 자료형\n",
    "- 딕셔너리는 키(key)와 값(value) 쌍으로 이루어진 자료형\n",
    "- key는 사전의 단어와 같은 역할, value는 그 단어의 뜻과 같은 역할\n",
    "- 리스트나 튜플처럼 순차적으로 해당 요솟값을 구하지 않고 Key를 통해 Value를 얻음\n",
    "- 정보를 효율적으로 나타내는데 유용\n",
    "- 딕셔너리는 가변 자료형으로, 한번 생성된 딕셔너리의 내용은 수정, 추가, 삭제가 가능\n",
    "- 키는 중복될 수 없으며, 값은 다양한 자료형을 가질 수 있음"
   ]
  },
  {
   "cell_type": "markdown",
   "metadata": {},
   "source": [
    "# 딕셔너리의 특징\n",
    "- 키-값 쌍: 딕셔너리의 각 요소는 키와 그에 대응하는 값을 묶은 쌍으로 저장\n",
    "- 키의 고유성: 딕셔너리의 키는 중복될 수 없으며, 키는 변경 불가능한 자료형(예: 문자열, 숫자, 튜플 등)이어야 함\n",
    "- 리스트와 같은 가변 자료형은 키로 사용할 수 없음. 키는 불변해야 함!"
   ]
  },
  {
   "cell_type": "code",
   "execution_count": 4,
   "metadata": {},
   "outputs": [
    {
     "name": "stdout",
     "output_type": "stream",
     "text": [
      "{'name': 'pey', 'phone': '010-9999-1234', 'birth': '1118'}\n",
      "{'a': [1, 2, 3]}\n",
      "{'name': 'kim', 'age': 30, 'phone': '010-1234-1234', 'subject': ['python', 'java'], 'is_married': True, 'address': {'city': 'Seoul', 'zip_code': '12345'}, 'hobbies': ('reading', 'tennis'), 'skills': {'python', 'java'}}\n"
     ]
    }
   ],
   "source": [
    "dic = {'name': 'pey', 'phone': '010-9999-1234', 'birth': '1118'}\n",
    "print(dic)\n",
    "\n",
    "a = {'a': [1, 2, 3]}\n",
    "print(a)\n",
    "\n",
    "person = {\n",
    "  'name': 'kim',                  # 문자열\n",
    "  'age': 30,                      # 정수\n",
    "  'phone': '010-1234-1234',       # 문자열\n",
    "  'subject': ['python', 'java'],  # 리스트\n",
    "  'is_married': True,             # 불리언\n",
    "  'address': {                    # 딕셔너리\n",
    "      'city': 'Seoul',\n",
    "      'zip_code': '12345'\n",
    "  },\n",
    "  'hobbies': ('reading', 'tennis'),  # 튜플\n",
    "  'skills': {'python', 'java'},   # 세트\n",
    "}\n",
    "print(person)"
   ]
  },
  {
   "cell_type": "code",
   "execution_count": 9,
   "metadata": {},
   "outputs": [
    {
     "name": "stdout",
     "output_type": "stream",
     "text": [
      "{'a': 'abc', 'b': 3, 4: [1, 2, 3]}\n",
      "abc\n",
      "3\n",
      "[1, 2, 3]\n"
     ]
    }
   ],
   "source": [
    "# key를 사용해 원하는 값 출력하기(key를 사용해 값에 접근) / 딕셔너리는 인덱스 대신 키를 사용해 값에 접근\n",
    "# key = 데이터를 구분하는 식별자, value = 실제 데이터의 내용\n",
    "# key를 사용해 효율적으로 원하는 데이터를 검색할 수 있는 유용한 자료구조\n",
    "\n",
    "dic = {'a' : 'abc', 'b' : 3, 4: [1, 2, 3]}\n",
    "\n",
    "print(dic)\n",
    "print(dic['a'])\n",
    "print(dic['b'])\n",
    "print(dic[4])"
   ]
  },
  {
   "cell_type": "code",
   "execution_count": 11,
   "metadata": {},
   "outputs": [
    {
     "name": "stdout",
     "output_type": "stream",
     "text": [
      "{}\n",
      "{1: 'a', 2: 'b'}\n"
     ]
    }
   ],
   "source": [
    "# 딕셔너리 연산\n",
    "dic = {} # 빈 딕셔너리 생성\n",
    "print(dic) # 빈 딕셔너리 생성 후 필요에 따라 키-값 쌍을 추가하여 사용\n",
    "\n",
    "# key - value쌍 추가\n",
    "# 딕셔너리는 별도의 메서드나 연산자를 사용하지 않고 key-value쌍을 추가\n",
    "# 딕셔너리 변수명[새로운 key값] = 새로운 value값\n",
    "a = {1: 'a'}\n",
    "a[2] = 'b'\n",
    "print(a)"
   ]
  },
  {
   "cell_type": "code",
   "execution_count": 17,
   "metadata": {},
   "outputs": [
    {
     "name": "stdout",
     "output_type": "stream",
     "text": [
      "{'red': 'apple', 'yellow': 'banana', 'purple': 'grape'}\n",
      "{'red': 'apple', 'yellow': 'banana', 'purple': 'grape', 'orange': 'orange'}\n"
     ]
    }
   ],
   "source": [
    "color = {\n",
    "  'red' : 'apple',\n",
    "  'yellow' : 'banana',\n",
    "  'purple' : 'grape'\n",
    "}\n",
    "\n",
    "print(color)\n",
    "\n",
    "color['orange'] = 'orange'\n",
    "print(color)"
   ]
  },
  {
   "cell_type": "code",
   "execution_count": 22,
   "metadata": {},
   "outputs": [
    {
     "name": "stdout",
     "output_type": "stream",
     "text": [
      "{'red': 'apple', 'yellow': 'banana', 'purple': 'grape'}\n",
      "{'red': 'apple', 'yellow': 'banana', 'purple': 'grape', 'orange': 'orange'}\n",
      "{'red': 'cherry', 'yellow': 'banana', 'purple': 'grape', 'orange': 'orange'}\n"
     ]
    }
   ],
   "source": [
    "# 기존 key값에 value 대입하기 (key값이 이미 존재하는 경우)\n",
    "# 기존에 있는 key값에 valeu가 수정\n",
    "color = {\n",
    "  'red' : 'apple',\n",
    "  'yellow' : 'banana',\n",
    "  'purple' : 'grape'\n",
    "}\n",
    "\n",
    "print(color)\n",
    "\n",
    "color['orange'] = 'orange'\n",
    "print(color)\n",
    "\n",
    "color['red'] = 'cherry'\n",
    "print(color) # 수정된 딕셔너리 출력"
   ]
  },
  {
   "cell_type": "code",
   "execution_count": 23,
   "metadata": {},
   "outputs": [
    {
     "name": "stdout",
     "output_type": "stream",
     "text": [
      "{1: 'b'}\n"
     ]
    }
   ],
   "source": [
    "# 딕셔너리 생성 시 주의사항\n",
    "# 딕셔너리에서 key는 고유한 값이므로 중복되는 key값을 설정해 놓으면 하나를 제외한 나머지 것들은 모두 무시됨\n",
    "\n",
    "a = {1:'a', 1:'b'}\n",
    "print(a)\n",
    "\n",
    "# 동일한 key가 2개 존재할 경우 앞에 있는 쌍은 무시\n",
    "# 동일한 키가 여러번 지정되면, 마지막으로 지정된 값만 저장(덮어씌워짐)\n",
    "# 키가 중복되면 딕셔너리의 내부적은 구조에서 새로운 값으로 대체하기 때문!"
   ]
  },
  {
   "cell_type": "code",
   "execution_count": 24,
   "metadata": {},
   "outputs": [
    {
     "name": "stdout",
     "output_type": "stream",
     "text": [
      "{1: 'a', 2: 'b', 'name': 'pey', 3: [1, 2, 3]}\n",
      "{1: 'a', 2: 'b', 3: [1, 2, 3]}\n",
      "{1: 'a', 2: 'b'}\n"
     ]
    }
   ],
   "source": [
    "# 딕셔너리 요소 삭제하기\n",
    "# del 함수를 사용해서 del a[key]를 입력하면 지정한 Key에 해당하는 {Key: Value} 쌍이 삭제\n",
    "# del 딕셔너리 변수명[삭제하고 싶은 key값]\n",
    "\n",
    "a = {1: 'a'}\n",
    "a[2] = 'b'\n",
    "a['name'] = 'pey'\n",
    "a[3] = [1, 2, 3]\n",
    "print(a)\n",
    "\n",
    "del a['name']\n",
    "print(a)\n",
    "\n",
    "del a[3]\n",
    "print(a)"
   ]
  },
  {
   "cell_type": "code",
   "execution_count": 26,
   "metadata": {},
   "outputs": [
    {
     "name": "stdout",
     "output_type": "stream",
     "text": [
      "{'축구': '손흥민', '피겨': '김연아', '수영': '박태환'}\n",
      "{}\n"
     ]
    }
   ],
   "source": [
    "# 딕셔너리 전체 삭제\n",
    "# 딕셔너리 변수명.clear()\n",
    "\n",
    "sport = {\n",
    "  '축구' : '손흥민',\n",
    "  '피겨' : '김연아',\n",
    "  '수영' : '박태환'\n",
    "}\n",
    "print(sport)\n",
    "\n",
    "sport.clear() # 딕셔너리 전체 삭제\n",
    "print(sport)"
   ]
  }
 ],
 "metadata": {
  "kernelspec": {
   "display_name": "Python 3",
   "language": "python",
   "name": "python3"
  },
  "language_info": {
   "codemirror_mode": {
    "name": "ipython",
    "version": 3
   },
   "file_extension": ".py",
   "mimetype": "text/x-python",
   "name": "python",
   "nbconvert_exporter": "python",
   "pygments_lexer": "ipython3",
   "version": "3.13.0"
  }
 },
 "nbformat": 4,
 "nbformat_minor": 2
}

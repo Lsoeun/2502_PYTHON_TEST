{
 "cells": [
  {
   "cell_type": "markdown",
   "metadata": {},
   "source": [
    "# 집합 자료형 관련 유용한 함수\n",
    "- set은 변경 가능한 자료형으로 값을 추가하거나 제거할 수 있음\n",
    "- 하지만 순서가 없고 중복을 허용하지 않는다는 것이 가장 큰 특징"
   ]
  },
  {
   "cell_type": "code",
   "execution_count": 7,
   "metadata": {},
   "outputs": [
    {
     "name": "stdout",
     "output_type": "stream",
     "text": [
      "{1, 2, 3, 4}\n"
     ]
    }
   ],
   "source": [
    "# 요소를 추가하는 add()\n",
    "# 변수명.add(추가할 요소)\n",
    "\n",
    "a = {1, 2, 3}\n",
    "a.add(4)\n",
    "print(a)"
   ]
  },
  {
   "cell_type": "code",
   "execution_count": 8,
   "metadata": {},
   "outputs": [
    {
     "name": "stdout",
     "output_type": "stream",
     "text": [
      "{'a', 'c'}\n"
     ]
    }
   ],
   "source": [
    "# 요소를 삭제하는 remove()\n",
    "# 변수명.remove(삭제할 요소)\n",
    "a = {'a', 'b', 'c'}\n",
    "a.remove('b')\n",
    "print(a)"
   ]
  },
  {
   "cell_type": "code",
   "execution_count": 9,
   "metadata": {},
   "outputs": [
    {
     "name": "stdout",
     "output_type": "stream",
     "text": [
      "set()\n"
     ]
    }
   ],
   "source": [
    "# 모든 요소를 지우는 clear()\n",
    "# 변수명.clear()\n",
    "\n",
    "a = {1, 2, 3, 4}\n",
    "a.clear()\n",
    "print(a)"
   ]
  }
 ],
 "metadata": {
  "kernelspec": {
   "display_name": "Python 3",
   "language": "python",
   "name": "python3"
  },
  "language_info": {
   "codemirror_mode": {
    "name": "ipython",
    "version": 3
   },
   "file_extension": ".py",
   "mimetype": "text/x-python",
   "name": "python",
   "nbconvert_exporter": "python",
   "pygments_lexer": "ipython3",
   "version": "3.13.0"
  }
 },
 "nbformat": 4,
 "nbformat_minor": 2
}

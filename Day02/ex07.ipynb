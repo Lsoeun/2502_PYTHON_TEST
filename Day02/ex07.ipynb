{
 "cells": [
  {
   "cell_type": "markdown",
   "metadata": {},
   "source": [
    "# 튜플 자료형\n",
    "- 튜플은 리스트와 유사한 형태를 가지는 자료구조\n",
    "- 튜플도 자료형(데이터의 타입)이자 자료구조(데이터를 저장하고 관리하는 방식)\n",
    "- 튜플도 리스트와 마찬가지로 순서가 있는 데이터의 집합을 표현할 수 있음\n",
    "- 여러 개의 값을 순서대로 저장(다양한 자료형 저장 가능)\n",
    "- 하지만 튜플은 불변!\n",
    "- 튜플은 한번 생성된 후에는 요소의 값을 변경하거나 삭제할 수 없음\n",
    "- 값이 수정되지 않으므로 데이터가 변하지 않아야 하는 경우에 유용하게 사용(데이터를 안전하게 저장)\n",
    "- 인덱스를 사용해 각 요소에 접근할 수 있으며 슬라이싱 등을 통해 튜플의 요소를 처리 가능\n",
    "\n",
    "# 리스트와 튜플의 차이\n",
    "- 리스트는 [], 튜플은 ()로 둘러싼다.\n",
    "- 변수명 = [1, 2, 3] # 리스트\n",
    "- 변수명 = (1, 2, 3) # 튜플\n",
    "- 리스트는 요솟값의 생성, 삭제, 수정이 가능하지만, 튜플은 요솟값을 바꿀 수 없다.\n",
    "- 요소의 값을 바꿀 수 있나 없나의 차이!"
   ]
  },
  {
   "cell_type": "code",
   "execution_count": 3,
   "metadata": {},
   "outputs": [
    {
     "name": "stdout",
     "output_type": "stream",
     "text": [
      "<class 'int'>\n",
      "()\n",
      "(1,)\n",
      "(1, 2, 3)\n",
      "(1, 2, 3)\n",
      "('a', 'b', ('ab', 'cd'))\n"
     ]
    }
   ],
   "source": [
    "t1 = () # 소괄호 ()만 사용하면 빈 튜플 생성 가능\n",
    "t2 = (1,) # 튜플에 요소가 하나만 있을 때는 뒤에 쉼표를 꼭 붙여야 함\n",
    "t2_1 = (1) # 쉼표 없이 정의하면 튜플이 아님\n",
    "print(type(t2_1))  # <class 'int'>\n",
    "t3 = (1, 2, 3)\n",
    "t4 = 1, 2, 3 # 튜플은 소괄호 없이 쉼표만 사용해도 생성됨. 소괄호는 선택 사항, 하지만 빈 튜플은 반드시 소괄호 포함\n",
    "t5 = ('a', 'b', ('ab', 'cd')) # 튜플 안에 다른 요소들 포함 가능\n",
    "\n",
    "print(t1)\n",
    "print(t2)\n",
    "print(t3)\n",
    "print(t4)\n",
    "print(t5)"
   ]
  },
  {
   "cell_type": "code",
   "execution_count": 4,
   "metadata": {},
   "outputs": [
    {
     "name": "stdout",
     "output_type": "stream",
     "text": [
      "('a', 'b', 'c')\n",
      "(True, True, False)\n",
      "('안녕', 'hello', 'hi')\n",
      "('A', '안녕', 1, True, [1, 2, 3], (1, 2))\n"
     ]
    }
   ],
   "source": [
    "# 튜플에 다양한 값 넣기\n",
    "a = ('a', 'b', 'c') # 문자\n",
    "b = (True, True, False) # 논리값\n",
    "c = (\"안녕\", \"hello\", \"hi\") # 문자열\n",
    "d = (\"A\", \"안녕\", 1, True, [1, 2, 3], (1,2))\n",
    "\n",
    "print(a)\n",
    "print(b)\n",
    "print(c)\n",
    "print(d)"
   ]
  },
  {
   "cell_type": "code",
   "execution_count": 7,
   "metadata": {},
   "outputs": [
    {
     "name": "stdout",
     "output_type": "stream",
     "text": [
      "Kim\n",
      "Lee\n",
      "Park\n",
      "Park\n",
      "Kim\n"
     ]
    }
   ],
   "source": [
    "# 인덱스 활용해 튜플의 요소에 접근하기\n",
    "names = ('Kim', 'Lee', 'Park')\n",
    "\n",
    "names1 = names[0]\n",
    "names2 = names[1]\n",
    "names3 = names[2]\n",
    "\n",
    "print(names1)\n",
    "print(names2)\n",
    "print(names3)\n",
    "print(names[-1]) # 음수 인덱스도 사용 가능\n",
    "print(names[-3])"
   ]
  },
  {
   "cell_type": "code",
   "execution_count": 9,
   "metadata": {},
   "outputs": [
    {
     "name": "stdout",
     "output_type": "stream",
     "text": [
      "(1, 2, 'a', 'b')\n",
      "(1, 2, 'a', 'b')\n"
     ]
    }
   ],
   "source": [
    "# 튜플의 요솟값을 지우거나 변경 시도\n",
    "t1 = (1, 2, 'a', 'b')\n",
    "# del t1[0] # 불가능\n",
    "# t1[0] = 'c' # 불가능\n",
    "# t1.append(7) # 불가능\n",
    "print(t1)\n",
    "\n",
    "# 튜플은 불변성이라는 특징을 가지고 있어 요소를 변경, 추가, 삭제할 수 없음"
   ]
  },
  {
   "cell_type": "code",
   "execution_count": 13,
   "metadata": {},
   "outputs": [
    {
     "name": "stdout",
     "output_type": "stream",
     "text": [
      "1\n",
      "b\n",
      "(2, 'a', 'b')\n",
      "('a', 'b')\n",
      "(1, 2, 'a', 'b')\n"
     ]
    }
   ],
   "source": [
    "# 튜플 인덱싱과 슬라이싱\n",
    "t1 = (1, 2, 'a', 'b')\n",
    "print(t1[0])\n",
    "print(t1[3])\n",
    "\n",
    "t1 = (1, 2, 'a', 'b')\n",
    "print(t1[1:])\n",
    "print(t1[2:4])\n",
    "print(t1[:])"
   ]
  },
  {
   "cell_type": "code",
   "execution_count": 15,
   "metadata": {},
   "outputs": [
    {
     "name": "stdout",
     "output_type": "stream",
     "text": [
      "(1, 2, 'a', 'b', 3, 4)\n",
      "(3, 4, 3, 4, 3, 4)\n",
      "4\n"
     ]
    }
   ],
   "source": [
    "# 튜플 더하기와 곱하기, 길이 구하기\n",
    "t1 = (1, 2, 'a', 'b')\n",
    "t2 = (3, 4)\n",
    "t3 = t1 + t2\n",
    "print(t3)\n",
    "\n",
    "t2 = (3, 4)\n",
    "t3 = t2 * 3\n",
    "print(t3)\n",
    "\n",
    "t1 = (1, 2, 'a', 'b')\n",
    "print(len(t1))"
   ]
  },
  {
   "cell_type": "code",
   "execution_count": null,
   "metadata": {},
   "outputs": [],
   "source": [
    "# count() 메서드와 index() 메서드는 튜플에서 사용 가능\n",
    "\n",
    "# count() 메서드\n",
    "t1 = ('a', 'a', 'b', 'c', 'c','a')\n",
    "print(t1.count('a'))\n",
    "print(t1.count('b'))\n",
    "print(t1.count('c'))\n",
    "print(t1.count('d')) # 찾고자 하는 값이 존재하지 않으면 0을 반환"
   ]
  },
  {
   "cell_type": "code",
   "execution_count": null,
   "metadata": {},
   "outputs": [],
   "source": [
    "# index() 메서드\n",
    "t1 = ('a', 'a', 'b', 'c', 'c','a')\n",
    "print(t1.index('a'))\n",
    "print(t1.index('b'))\n",
    "print(t1.index('c'))\n",
    "print(t1.index('d')) # 찾고자 하는 값이 존재하지 않으면 오류 발생"
   ]
  }
 ],
 "metadata": {
  "kernelspec": {
   "display_name": "Python 3",
   "language": "python",
   "name": "python3"
  },
  "language_info": {
   "codemirror_mode": {
    "name": "ipython",
    "version": 3
   },
   "file_extension": ".py",
   "mimetype": "text/x-python",
   "name": "python",
   "nbconvert_exporter": "python",
   "pygments_lexer": "ipython3",
   "version": "3.13.0"
  }
 },
 "nbformat": 4,
 "nbformat_minor": 2
}

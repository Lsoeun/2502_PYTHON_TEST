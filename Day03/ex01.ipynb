{
 "cells": [
  {
   "cell_type": "markdown",
   "metadata": {},
   "source": [
    "# 선형 탐색 알고리즘\n",
    "- 선형 탐색은 데이터의 모든 요소를 비교하면서 원하는 데이터를 찾는 탐색 방식\n",
    "- 리스트나 배열의 처음부터 끝까지 순차적으로 데이터를 비교하면서 원하는 값을 찾는 방법\n",
    "- 어느 한 쪽 방향으로만 탐색할 수 있으며, 처음부터 끝까지 모든 요소를 검사하는 알고리즘이므로 순차 탐색이라고도 부름\n",
    "- 데이터를 한 번에 하나씩만 순차적을 확인하고, 데이터가 정렬되어 있지 않아도 사용 가능\n",
    "- 시간 복잡도는 O(n)"
   ]
  },
  {
   "cell_type": "markdown",
   "metadata": {},
   "source": [
    "# 선형 탐색 알고리즘의 기본 구조\n",
    "- for 문을 사용해서 반복 가능한 객체의 모든 요소를 하나씩 확인하고, 원하는 값을 찾으면 True를 반환하고, 끝까지 찾지 못하면 False를 반환하는 방식\n",
    "\n",
    "for i in 반복 가능한 객체:\n",
    "    if i == n:  # 찾고자 하는 값이 i와 같으면\n",
    "        return True  # 값을 찾았으므로 True를 반환\n",
    "return False  # 값이 없으면 False를 반환"
   ]
  },
  {
   "cell_type": "code",
   "execution_count": 2,
   "metadata": {},
   "outputs": [
    {
     "name": "stdout",
     "output_type": "stream",
     "text": [
      "True\n"
     ]
    }
   ],
   "source": [
    "# 주어진 리스트에서 특정 값(n)이 있는지 선형 탐색 알고리즘을 통해 확인\n",
    "a_list = [1, 8, 32, 91, 5, 15, 9, 100, 3]  # 탐색할 리스트\n",
    "\n",
    "# 선형 탐색 함수 정의\n",
    "def linear_search(a_list, n):\n",
    "    for i in a_list:\n",
    "        if i == n: # 만약 요소 i가 n과 같다면\n",
    "            return True  # n을 찾았으므로 True 반환\n",
    "    return False  # 리스트 끝까지 n을 찾지 못했다면 n이 리스트에 없으므로 False 반환\n",
    "\n",
    "print(linear_search(a_list, 91))\n",
    "# 선형 탐색을 호출하여 91이 리스트에 있는지 확인하고 결과 출력\n",
    "# 91이 리스트에 있으므로 True 출력"
   ]
  },
  {
   "cell_type": "code",
   "execution_count": 3,
   "metadata": {},
   "outputs": [
    {
     "name": "stdout",
     "output_type": "stream",
     "text": [
      "True\n",
      "False\n"
     ]
    }
   ],
   "source": [
    "# 주어진 문자열에서 특정 문자(n)를 찾는 선형 탐색 알고리즘\n",
    "a_string = \"hello world\"\n",
    "\n",
    "# 선형 탐색 함수 정의\n",
    "def search_string(a_string, n):\n",
    "    for i in a_string:\n",
    "        if i == n:\n",
    "            return True  # 문자를 찾으면 True 반환\n",
    "    return False  # 문자를 찾지 못하면 False 반환\n",
    "\n",
    "print(search_string(a_string, 'o')) \n",
    "print(search_string(a_string, 'z'))"
   ]
  },
  {
   "cell_type": "code",
   "execution_count": 4,
   "metadata": {},
   "outputs": [
    {
     "name": "stdout",
     "output_type": "stream",
     "text": [
      "3\n",
      "0\n"
     ]
    }
   ],
   "source": [
    "# 리스트에서 특정 값의 갯수 세기\n",
    "def count_num(a_list, n):\n",
    "    count = 0\n",
    "    for i in a_list:\n",
    "        if i == n:\n",
    "            count += 1  # 값을 찾을 때마다 카운트를 증가시킴\n",
    "    return count  # 최종적으로 카운트한 갯수를 반환\n",
    "\n",
    "a_list = [1, 2, 3, 1, 4, 1]\n",
    "print(count_num(a_list, 1))\n",
    "print(count_num(a_list, 5))"
   ]
  },
  {
   "cell_type": "code",
   "execution_count": 5,
   "metadata": {},
   "outputs": [
    {
     "name": "stdout",
     "output_type": "stream",
     "text": [
      "5\n",
      "90\n"
     ]
    }
   ],
   "source": [
    "# 리스트에서 최소값/최대값 찾기\n",
    "def find_min(a_list):\n",
    "    min_value = a_list[0]  # 첫 번째 요소를 최소값으로 설정\n",
    "    for i in a_list:\n",
    "        if i < min_value:\n",
    "            min_value = i  # 더 작은 값이 있으면 최소값을 갱신\n",
    "    return min_value\n",
    "\n",
    "def find_max(a_list):\n",
    "    max_value = a_list[0]  # 첫 번째 요소를 최대값으로 설정\n",
    "    for i in a_list:\n",
    "        if i > max_value:\n",
    "            max_value = i  # 더 큰 값이 있으면 최대값을 갱신\n",
    "    return max_value\n",
    "\n",
    "a_list = [10, 20, 5, 90, 30]\n",
    "print(find_min(a_list))\n",
    "print(find_max(a_list))"
   ]
  },
  {
   "cell_type": "code",
   "execution_count": 6,
   "metadata": {},
   "outputs": [
    {
     "name": "stdout",
     "output_type": "stream",
     "text": [
      "[10, 22, 44]\n",
      "[15, 33, 51]\n"
     ]
    }
   ],
   "source": [
    "# 리스트에서 짝수/홀수 찾아 구분하기\n",
    "def find_even(a_list): # 짝수를 찾는 함수\n",
    "    even_numbers = []\n",
    "    for i in a_list:\n",
    "        if i % 2 == 0:\n",
    "            even_numbers.append(i)  # 짝수일 경우 리스트에 추가\n",
    "    return even_numbers\n",
    "\n",
    "def find_odd(a_list): # 홀수를 찾는 함수\n",
    "    odd_numbers = [] \n",
    "    for i in a_list:\n",
    "        if i % 2 != 0:\n",
    "            odd_numbers.append(i)  # 홀수일 경우 리스트에 추가\n",
    "    return odd_numbers\n",
    "\n",
    "a_list = [10, 15, 22, 33, 44, 51]\n",
    "print(find_even(a_list)) # 짝수 찾기\n",
    "print(find_odd(a_list)) # 홀수 찾기"
   ]
  },
  {
   "cell_type": "code",
   "execution_count": 7,
   "metadata": {},
   "outputs": [
    {
     "name": "stdout",
     "output_type": "stream",
     "text": [
      "[25, 30, 18]\n"
     ]
    }
   ],
   "source": [
    "# 조건에 맞는 값 찾기\n",
    "def find_values(a_list, n):\n",
    "    result = []\n",
    "    for i in a_list:\n",
    "        if i > n:\n",
    "            result.append(i)  # n보다 큰 값들만 리스트에 추가\n",
    "    return result\n",
    "\n",
    "a_list = [5, 12, 8, 25, 30, 18]\n",
    "print(find_values(a_list, 15))"
   ]
  },
  {
   "cell_type": "code",
   "execution_count": 8,
   "metadata": {},
   "outputs": [
    {
     "name": "stdout",
     "output_type": "stream",
     "text": [
      "True\n"
     ]
    }
   ],
   "source": [
    "# 간단한 선형 탐색이 필요한 상황에서는 선형 탐색 코드를 직접 구현하기보다는 파이썬에 내장된 in 키워드 사용하는 것이 효율적\n",
    "unsorted_list = [1, 45, 4, 2, 32, 3]\n",
    "print(45 in unsorted_list)"
   ]
  },
  {
   "cell_type": "code",
   "execution_count": 9,
   "metadata": {},
   "outputs": [
    {
     "name": "stdout",
     "output_type": "stream",
     "text": [
      "True\n"
     ]
    }
   ],
   "source": [
    "print('a' in 'apple')"
   ]
  },
  {
   "cell_type": "markdown",
   "metadata": {},
   "source": [
    "# 이진 탐색 알고리즘\n",
    "- 정렬된 리스트에서 중간 값을 기준으로 반씩 나누어 검색 범위를 좁히는 방법\n",
    "- 리스트에서 값을 더 빠르게 탐색할 수 있음\n",
    "- 정렬된 자료에서만 사용 가능 -> 모든 데이터 세트에 적용할 수 있는 것은 아님\n",
    "- 이진 탐색의 가장 첫번째 단계는 중앙에 위치하는 값을 찾는 것\n",
    "- 시간 복잡도는 O(log n)"
   ]
  },
  {
   "cell_type": "markdown",
   "metadata": {},
   "source": [
    "# 이진 탐색 알고리즘의 기본 구조\n",
    "- 정렬된 리스트나 배열에서 특정 값을 찾는 효율적인 알고리즘\n",
    "- 데이터가 정렬되어 있어야만 정확하게 동작\n",
    "- 리스트, 배열, 튜플, 문자열 등 정렬이 가능하고 정렬된 자료구조에서만 사용 가능\n",
    "\n",
    "def binary_search(정렬된 데이터, 찾고자 하는 값):\n",
    "    first = 0  # 탐색할 범위의 첫 번째 인덱스\n",
    "    last = len(a_list) - 1  # 탐색할 범위의 마지막 인덱스\n",
    "    \n",
    "    while first <= last:  # 탐색 범위가 남아있을 동안 반복\n",
    "        mid = (first + last) // 2  # 중간 인덱스를 계산\n",
    "        \n",
    "        if a_list[mid] == n:  # 중간값이 찾고자 하는 값과 일치하면\n",
    "            return mid  # 중간 인덱스를 반환 (값을 찾았으므로)\n",
    "        \n",
    "        elif a_list[mid] < n:  # 찾고자 하는 값이 더 크면\n",
    "            first = mid + 1  # 오른쪽 절반을 탐색\n",
    "        \n",
    "        else:  # 찾고자 하는 값이 더 작으면\n",
    "            last = mid - 1  # 왼쪽 절반을 탐색\n",
    "    \n",
    "    return -1  # 값을 찾지 못하면 -1을 반환"
   ]
  },
  {
   "cell_type": "code",
   "execution_count": 14,
   "metadata": {},
   "outputs": [
    {
     "name": "stdout",
     "output_type": "stream",
     "text": [
      "True\n",
      "False\n"
     ]
    }
   ],
   "source": [
    "# 주어진 정렬된 리스트에서 특정 값(n)이 있는지 이진 탐색 알고리즘을 통해 확인\n",
    "def binary_search(a_list, n):\n",
    "    first = 0  # 탐색할 범위의 첫 번째 인덱스\n",
    "    last = len(a_list) - 1  # 탐색할 범위의 마지막 인덱스\n",
    "    \n",
    "    # 첫 번째 인덱스가 마지막 인덱스보다 작거나 같을 때까지 반복\n",
    "    while last >= first:\n",
    "        mid = (first + last) // 2  # 중간 인덱스를 계산 (first와 last의 평균값)\n",
    "        \n",
    "        if a_list[mid] == n:  # 중간값이 찾고자 하는 값과 일치하는지 확인\n",
    "            return True  # 값을 찾으면 True 반환\n",
    "        elif n < a_list[mid]:  # 찾고자 하는 값이 중간값보다 작은 경우\n",
    "            last = mid - 1  # 중간값보다 작은 값은 왼쪽 절반에 있으므로, last를 mid-1로 설정\n",
    "        else:  # 찾고자 하는 값이 중간값보다 큰 경우\n",
    "            first = mid + 1  # 중간값보다 큰 값은 오른쪽 절반에 있으므로, first를 mid+1로 설정\n",
    "    \n",
    "    return False  # 반복문을 종료하면 값을 찾지 못한 경우이므로 False 반환\n",
    "\n",
    "a_list = [1, 3, 5, 7, 9, 11, 13]\n",
    "print(binary_search(a_list, 5)) \n",
    "print(binary_search(a_list, 6)) "
   ]
  },
  {
   "cell_type": "code",
   "execution_count": 12,
   "metadata": {},
   "outputs": [
    {
     "name": "stdout",
     "output_type": "stream",
     "text": [
      "3\n",
      "6\n",
      "-1\n"
     ]
    }
   ],
   "source": [
    "# 정렬된 리스트에서 특정 값의 인덱스 찾기\n",
    "def binary_search(a_list, n):\n",
    "    first = 0\n",
    "    last = len(a_list) - 1\n",
    "    \n",
    "    while first <= last:\n",
    "        mid = (first + last) // 2\n",
    "        if a_list[mid] == n:\n",
    "            return mid  # 값을 찾으면 해당 인덱스를 반환\n",
    "        elif n < a_list[mid]:\n",
    "            last = mid - 1  # 중간값보다 작은 값은 왼쪽 절반에 있음\n",
    "        else:\n",
    "            first = mid + 1  # 중간값보다 큰 값은 오른쪽 절반에 있음\n",
    "    return -1  # 값을 못 찾으면 -1 반환\n",
    "\n",
    "\n",
    "a_list = [1, 2, 3, 5, 7, 9, 11]\n",
    "print(binary_search(a_list, 5))  # 3 (5는 3번 인덱스)\n",
    "print(binary_search(a_list, 11)) # 6 (11은 6번 인덱스)\n",
    "print(binary_search(a_list, 4))  # -1 (4는 리스트에 없음)\n"
   ]
  },
  {
   "cell_type": "code",
   "execution_count": 16,
   "metadata": {},
   "outputs": [
    {
     "name": "stdout",
     "output_type": "stream",
     "text": [
      "5\n"
     ]
    }
   ],
   "source": [
    "# 특정 값보다 작은 값 중 최대값 찾기\n",
    "def lower_bound(a_list, n):\n",
    "    first = 0  # 탐색할 범위의 첫 번째 인덱스\n",
    "    last = len(a_list) - 1  # 탐색할 범위의 마지막 인덱스\n",
    "    result = -1  # 결과를 저장할 변수. 찾은 결과가 없으면 -1 반환\n",
    "    \n",
    "    while first <= last:\n",
    "        mid = (first + last) // 2  # 중간 인덱스 계산\n",
    "        \n",
    "        if a_list[mid] < n:  # 중간 값이 n보다 작으면\n",
    "            result = a_list[mid]  # 중간 값은 n보다 작은 값 중에서 최대값일 수 있음\n",
    "            first = mid + 1  # 오른쪽 절반을 탐색해서 더 큰 값을 찾기 위해 first를 mid+1로 설정\n",
    "        else:  # 중간 값이 n보다 크거나 같으면\n",
    "            last = mid - 1  # 왼쪽 절반을 탐색해서 작은 값을 찾기 위해 last를 mid-1로 설정\n",
    "    \n",
    "    return result  # 최종적으로 찾은 가장 큰 값 반환\n",
    "\n",
    "\n",
    "a_list = [1, 2, 3, 5, 7, 9, 11]\n",
    "print(lower_bound(a_list, 7))\n",
    "\n",
    "# 중간값이 n보다 작으면: 오른쪽 절반에 더 큰 값이 있을 수 있으므로 first를 mid + 1로 설정해서 오른쪽 절반을 탐색\n",
    "# 중간값이 n보다 크거나 같으면: 왼쪽 절반에 n보다 작은 값들이 있을 수 있으므로 last를 mid - 1로 설정해서 왼쪽 절반을 탐색"
   ]
  },
  {
   "cell_type": "code",
   "execution_count": null,
   "metadata": {},
   "outputs": [],
   "source": [
    "# 특정 값보다 큰 값 중 최소값 찾기\n",
    "def upper_bound(a_list, n):\n",
    "    first = 0  # 탐색할 범위의 첫 번째 인덱스\n",
    "    last = len(a_list) - 1  # 탐색할 범위의 마지막 인덱스\n",
    "    result = -1  # 결과를 저장할 변수. 찾은 결과가 없으면 -1 반환\n",
    "    \n",
    "    while first <= last: \n",
    "        mid = (first + last) // 2  # 중간 인덱스를 계산\n",
    "        \n",
    "        if a_list[mid] > n:  # 중간 값이 n보다 크면\n",
    "            result = a_list[mid]  # 중간 값은 n보다 큰 최소값일 수 있음\n",
    "            last = mid - 1  # 더 작은 값을 찾기 위해 왼쪽 절반을 탐색\n",
    "        else:  # 중간 값이 n보다 작거나 같으면\n",
    "            first = mid + 1  # 더 큰 값을 찾기 위해 오른쪽 절반을 탐색\n",
    "    \n",
    "    return result  # 가장 작은 값 반환\n",
    "\n",
    "a_list = [1, 2, 5, 7, 9, 11]\n",
    "print(upper_bound(a_list, 6))\n",
    "\n",
    "# 중간값이 n보다 크다면 이 중간값은 n보다 큰 값 중에서 가장 작은 값일 수 있음을 의미\n",
    "# 따라서 왼쪽 절반에 더 작은 값들이 있을 수 있으므로, last = mid - 1로 설정하여 왼쪽 절반을 탐색\n",
    "# 중간값이 n보다 작다면, 이 중간값은 n보다 작은 값 중에서 가장 큰 값일 수 있음을 의미미\n",
    "# 따라서 오른쪽 절반에 더 큰 값들이 있을 수 있으므로, first = mid + 1로 설정하여 오른쪽 절반을 탐색"
   ]
  }
 ],
 "metadata": {
  "kernelspec": {
   "display_name": "Python 3",
   "language": "python",
   "name": "python3"
  },
  "language_info": {
   "codemirror_mode": {
    "name": "ipython",
    "version": 3
   },
   "file_extension": ".py",
   "mimetype": "text/x-python",
   "name": "python",
   "nbconvert_exporter": "python",
   "pygments_lexer": "ipython3",
   "version": "3.13.0"
  }
 },
 "nbformat": 4,
 "nbformat_minor": 2
}

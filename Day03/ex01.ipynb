{
 "cells": [
  {
   "cell_type": "markdown",
   "metadata": {},
   "source": [
    "# 자료 구조란?\n",
    "- 자료 구조는 데이터를 효율적으로 저장하고 관리하는 방법\n",
    "- 데이터를 어떻게 저장하고, 어떤 방식으로 처리할지 결정하는 방식\n",
    "- 자료구조의 특성을 이해하고 효율적인 자료구조를 선택하면, 작업을 더 빠르고 효율적으로 저장하고 처리할 수 있음\n",
    "\n",
    "# 선형 자료 구조\n",
    "- 데이터를 일렬로 나열한 자료구조\n",
    "- 배열(Array) · 연결 리스트(Linked List) · 스택(Stack) · 큐(Queue)가 있음\n",
    "\n",
    "# 비선형 자료 구조\n",
    "- 데이터를 순서에 상관없이 계층 구조나 그래프 구조로 연결하는 자료 구조\n",
    "- 트리(Tree) · 그래프(Graph) 등이 이에 해당\n",
    "\n",
    "# 정적 자료 구조\n",
    "- 크기가 고정되어 있는 자료구조\n",
    "- 한 번 정적 자료 구조를 정의하면 그 크기는 고정되어 바꿀 수 없지만, 안에 저장된 데이터의 값은 바꿀 수 있음\n",
    "- 저장할 요소의 갯수를 미리 알고 있고, 그 갯수가 변하지 않는 상황이라면 뛰어난 성능을 보임\n",
    "\n",
    "# 동적 자료 구조\n",
    "- 크기가 바뀔 수 있는 자료구조. 리스트, 딕셔너리, 세트, 큐, 스택 등이 있음\n",
    "- 크기를 자유롭게 변경 가능하고, 효율적으로 요소를 추가하거나 제거할 수 있음\n",
    "- 저장해야 할 데이터의 양을 특정할 수 없고, 특히 메모리 공간이 한정적인 경우에는 동적 자료 구조가 더 나은 선택이 됨"
   ]
  },
  {
   "cell_type": "markdown",
   "metadata": {},
   "source": [
    "# 링크드 리스트\n",
    "- 데이터를 저장하는 연결된 노드들로 구성된 자료구조\n",
    "- 앞이나 뒤의 요소를 추가, 탐색, 삭제할 수 있지만, 인덱스를 사용한 직접 접근은 불가능\n",
    "- 링크드 리스트의 요소는 연속적인 메모리 블록에 저장되지 않기 때문에, 메모리에서 비연속적으로 배치됨\n",
    "- 링크드 리스트의 각 노드는 데이터를 보관하는 필드와 다음 노드의 위치를 나타내는 참조(주소, 포인터)를 가지고 있음\n",
    "- 링크드 리스트는 이러한 노드를 연결하여 만든 리스트를 말함\n",
    "\n",
    "# 링크드 리스트의 특징\n",
    "- 크기가 동적으로 변할 수 있어, 메모리를 효율적으로 사용할 수 있음\n",
    "- 리스트의 앞부분에 데이터를 추가하거나 삭제하는 작업이 빠르고 용이\n",
    "- 인덱스가 없기 때문에, 인덱스를 통한 빠른 접근은 불가능하고, 차례대로 탐색해야만 해당 요소에 접근 가능"
   ]
  },
  {
   "cell_type": "code",
   "execution_count": 1,
   "metadata": {},
   "outputs": [],
   "source": [
    "# 노드를 나타내는 클래스 정의\n",
    "class Node:\n",
    "  def __init__(self, data, next=None):\n",
    "    self.data = data\n",
    "    self.next = next\n",
    "    \n",
    "# 첫 번째 변수 data: 노드에 저장할 실제 데이터\n",
    "# 두 번째 변수 next: 현재 노드가 가리킬 다음 노드를 의미(기본값은 None, 즉 다음 노드가 없다는 의미. 기본적으로 링크드 리스트에서 마지막 노드를 나타내게 됨)\n",
    "# Node 클래스의 인스턴스를 만들면 파이썬은 이 객체를 가리키는 포인터를 반환\n",
    "# 이 포인터는 실제 데이터가 위치하고 있는 메모리 주소를 말함"
   ]
  },
  {
   "cell_type": "code",
   "execution_count": 2,
   "metadata": {},
   "outputs": [],
   "source": [
    "# 링크드 리스트를 나타내는 클래스 정의\n",
    "# 링크드 리스트 클래스 내부에 새로운 노드를 추가할 때 사용하는 append 메서드도 클래스 내부에 정의\n",
    "class LinkedList:\n",
    "  def __init__(self):\n",
    "    self.head = None  # head: 링크드 리스트의 첫 번째 노드를 가리키는 포인터\n",
    "    # 처음에는 리스트가 비어 있으므로 head를 None으로 설정\n",
    "    \n",
    "  def append(self, data): # 링크드 리스트의 끝에 새로운 데이터를 추가\n",
    "    if not self.head: # 만약 링크드 리스트가 비어 있다면,\n",
    "      self.head = Node(data) # 새로운 노드를 첫 번째 노드로 설정\n",
    "      return\n",
    "    # 리스트가 비어 있지 않으면, 마지막 노드까지 순차적으로 이동하면서 찾기\n",
    "    current = self.head\n",
    "    while current.next: # current.next가 None이 아닐 경우, 즉 아직 마지막 노드가 아니면 계속해서 다음 노드로 이동\n",
    "      current = current.next\n",
    "    current.next = Node(data) # 마지막 노드에 새로운 노드를 연결\n",
    "    # current는 마지막 노드를 가리키고 있으므로, 그 노드의 next가 새로 추가된 노드를 가리키도록 설정\n",
    "    \n",
    "# append 메서드는 매개변수로 데이터를 받아 새로운 노드를 만든 다음, 링크드 리스트에 추가\n",
    "# 리스트에 헤드가 없다면 새로운 노드를 만들어 헤드로 삼음\n",
    "# 이미 리스트에 헤드가 있다면, 새로운 노드를 만든 다음 마지막 노드를 찾아 새로운 노드를 연결"
   ]
  },
  {
   "cell_type": "code",
   "execution_count": 3,
   "metadata": {},
   "outputs": [
    {
     "name": "stdout",
     "output_type": "stream",
     "text": [
      "Monday\n",
      "Tuesday\n",
      "Wednesday\n",
      "end\n"
     ]
    }
   ],
   "source": [
    "# 링크드 리스트에 새로운 노드 추가하고 출력하기\n",
    "class LinkedList:\n",
    "  def __init__(self):\n",
    "    self.head = None \n",
    "    \n",
    "  def append(self, data): \n",
    "    if not self.head:\n",
    "      self.head = Node(data)\n",
    "      return\n",
    "    current = self.head\n",
    "    while current.next: \n",
    "      current = current.next\n",
    "    current.next = Node(data) \n",
    "\n",
    "  # 매직 메서드 추가\n",
    "   # __str__ 매직 메서드는 객체를 출력할 때 사용되는 메서드\n",
    "  # 이 메서드로 링크드 리스트의 데이터를 문자열 형태로 출력할 수 있게 함\n",
    "  def __str__(self):\n",
    "    node = self.head\n",
    "    while node is not None:\n",
    "      print(node.data) # 각 노드의 데이터를 출력\n",
    "      node = node.next\n",
    "    return \"end\" # 마지막에는 \"end\" 문자열을 반환\n",
    "  \n",
    "a_list = LinkedList() # 링크드 리스트 객체 생성\n",
    "a_list.append(\"Monday\") # 데이터를 링크드 리스트에 추가\n",
    "a_list.append(\"Tuesday\")\n",
    "a_list.append(\"Wednesday\")\n",
    "print(a_list) # 링크드 리스트를 출력 -> __str__ 매직 메서드 실행"
   ]
  },
  {
   "cell_type": "markdown",
   "metadata": {},
   "source": [
    "# 링크드 리스트와 디큐\n",
    "- 파이썬에는 내부적으로 링크드 리스트를 사용하는 디큐라는 자료구조를 가지고 있음\n",
    "- 파이썬에 내장된 디큐를 사용하면, 링크드 리스트를 직접 구현하지 않고도 링크드 리스트의 효율성을 이용할 수 있음"
   ]
  },
  {
   "cell_type": "code",
   "execution_count": 4,
   "metadata": {},
   "outputs": [
    {
     "name": "stdout",
     "output_type": "stream",
     "text": [
      "Harry\n",
      "Poter\n",
      "Harry\n",
      "Poter\n",
      "True\n",
      "False\n",
      "Harry\n",
      "Poter\n",
      "deque([])\n"
     ]
    }
   ],
   "source": [
    "# 디큐 활용하기\n",
    "from collections import deque # collections 모듈에서 deque를 임포트\n",
    "\n",
    "d = deque()\n",
    "d.append(\"Harry\") # 디큐의 뒤에 요소 추가\n",
    "d.append(\"Poter\")\n",
    "\n",
    "for i in d:\n",
    "  print(i)\n",
    "\n",
    "# 인덱스로 접근도 가능\n",
    "print(d[0])\n",
    "print(d[1])\n",
    "\n",
    "# in 연산자를 통해 특정 요소가 있는지 확인도 가능\n",
    "print(\"Harry\" in d)\n",
    "print(\"Ron\" in d) \n",
    "\n",
    "# 디큐의 요소 제거\n",
    "# popleft(): 왼쪽(앞쪽)에서 요소 제거\n",
    "# pop(): 오른쪽(뒤쪽)에서 요소 제거\n",
    "print(d.popleft())  # \"Harry\" 삭제\n",
    "print(d.pop())      # \"Poter\" 삭제\n",
    "\n",
    "print(d)\n",
    "\n",
    "# clear()를 사용하면 모든 요소를 제거 가능\n"
   ]
  }
 ],
 "metadata": {
  "kernelspec": {
   "display_name": "Python 3",
   "language": "python",
   "name": "python3"
  },
  "language_info": {
   "codemirror_mode": {
    "name": "ipython",
    "version": 3
   },
   "file_extension": ".py",
   "mimetype": "text/x-python",
   "name": "python",
   "nbconvert_exporter": "python",
   "pygments_lexer": "ipython3",
   "version": "3.13.0"
  }
 },
 "nbformat": 4,
 "nbformat_minor": 2
}

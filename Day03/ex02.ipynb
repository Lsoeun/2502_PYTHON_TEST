{
 "cells": [
  {
   "cell_type": "markdown",
   "metadata": {},
   "source": [
    "# 스택이란?\n",
    "- 스택(Stack)은 가장 최근에 추가한 요소만 제거할 수 있는 선형 자료구조\n",
    "- 대표적인 후입 선출(LIFO, Last In First Out) 자료구조\n",
    "- 후입 선출이란 말 그대로 마지막에 추가한 요소부터 꺼낼 수 있는 자료구조를 의미\n",
    "- 처음에 추가한 데이터는 마지막에 꺼낼 수 있기 때문에, 처음 추가한 요소부터 순차적 접근은 불가능\n",
    "- 중간 값이나 전체 요소에 접근하는 것도 스택의 제약 때문에 비효율적\n",
    "- 데이터 추가와 제거에 빠르고 효율적이며, 특히 연속적인 삽입과 삭제가 중요한 경우 유용\n",
    "\n",
    "# 스택의 중요 두 가지 동작\n",
    "- 푸시 : 스택에 요소를 추가하는 동작(스택의 맨 위에 추가)\n",
    "- 팝 : 스택에서 가장 최근에 추가한 요소를 꺼내는 동작(스택의 맨 위에서 꺼냄)"
   ]
  },
  {
   "cell_type": "code",
   "execution_count": 1,
   "metadata": {},
   "outputs": [],
   "source": [
    "# 스택 만들기\n",
    "class Stack:\n",
    "    def __init__(self):\n",
    "        # 스택을 리스트로 구현, 빈 리스트로 초기화. 스택의 요소 관리\n",
    "        self.items = []\n",
    "    \n",
    "    def push(self, data):\n",
    "        # 스택에 데이터를 추가하는 메서드 (푸시 연산)\n",
    "        # 리스트의 끝에 데이터를 추가함\n",
    "        self.items.append(data)\n",
    "    \n",
    "    def pop(self):\n",
    "        # 스택에서 데이터를 꺼내는 메서드 (팝 연산)\n",
    "        # 리스트에서 마지막 요소를 제거하고 그 값을 반환함(가장 최근에 추가된 요소)\n",
    "        return self.items.pop()\n",
    "    \n",
    "    def size(self):\n",
    "        # 스택의 크기(저장된 요소의 개수)를 반환하는 메서드\n",
    "        # 리스트의 길이를 반환함\n",
    "        return len(self.items)\n",
    "    \n",
    "    def is_empty(self):\n",
    "        # 스택이 비었는지 확인하는 메서드\n",
    "        # 스택이 비었으면 True, 아니면 False를 반환\n",
    "        return len(self.items) == 0\n",
    "    \n",
    "    def peek(self):\n",
    "        # 스택의 맨 위 요소를 확인하는 메서드 (제거하지 않음)\n",
    "        # 리스트의 마지막 요소를 반환(가장 최근에 추가된 요소)\n",
    "        return self.items[-1]"
   ]
  },
  {
   "cell_type": "code",
   "execution_count": 2,
   "metadata": {},
   "outputs": [
    {
     "name": "stdout",
     "output_type": "stream",
     "text": [
      "3\n",
      "3\n",
      "False\n",
      "3\n",
      "2\n",
      "1\n",
      "False\n"
     ]
    }
   ],
   "source": [
    "# 스택 활용하기\n",
    "# Stack 객체 생성\n",
    "stack = Stack()\n",
    "\n",
    "# 스택에 데이터 푸시\n",
    "stack.push(1)\n",
    "stack.push(2)\n",
    "stack.push(3)\n",
    "\n",
    "print(stack.peek())  # 맨 위의 요소 확인\n",
    "print(stack.size())  # 스택에 들어있는 요소의 개수 확인\n",
    "print(stack.is_empty())  # 스택이 비어 있는지 확인\n",
    "\n",
    "# 스택에서 데이터 팝\n",
    "print(stack.pop())  # 맨 위의 요소 제거\n",
    "print(stack.pop())  # 다음 요소 제거\n",
    "\n",
    "print(stack.size())  # 남은 요소의 개수 확인\n",
    "print(stack.is_empty())  # 스택이 비어 있는지 확인"
   ]
  },
  {
   "cell_type": "code",
   "execution_count": 3,
   "metadata": {},
   "outputs": [
    {
     "name": "stdout",
     "output_type": "stream",
     "text": [
      "[]\n",
      "['Hi']\n",
      "['Hi', 'Hello']\n",
      "['Hi', 'Hello', 'By']\n",
      "['Hi', 'Hello']\n"
     ]
    }
   ],
   "source": [
    "# 리스트를 사용해서 스택 만들기\n",
    "# 리스트의 append와 pop 메서드는 스택의 푸시, 팝과 같음\n",
    "stack = []\n",
    "print(stack)\n",
    "stack.append(\"Hi\")\n",
    "print(stack)\n",
    "stack.append(\"Hello\")\n",
    "print(stack)\n",
    "stack.append(\"By\")\n",
    "print(stack)\n",
    "stack.pop()\n",
    "print(stack)"
   ]
  },
  {
   "cell_type": "code",
   "execution_count": 5,
   "metadata": {},
   "outputs": [
    {
     "name": "stdout",
     "output_type": "stream",
     "text": [
      "olleH\n"
     ]
    }
   ],
   "source": [
    "# 스택을 사용해 문자열 뒤집기\n",
    "def reverse_string(a_string):\n",
    "    stack = [] # 빈 스택을 생성\n",
    "    string = \"\" # 뒤집은 문자열을 저장할 빈 문자열 생성\n",
    "    \n",
    "    # 주어진 문자열의 각 문자를 스택에 추가가\n",
    "    for c in a_string:\n",
    "        stack.append(c)\n",
    "    \n",
    "    # 스택에서 문자를 하나씩 꺼내서 (팝(pop)) 새로운 문자열에 추가\n",
    "    for c in a_string:\n",
    "        string += stack.pop()  # 스택에서 꺼낸 문자를 뒤에 추가\n",
    "    \n",
    "    # 뒤집힌 문자열 반환\n",
    "    return string\n",
    "\n",
    "print(reverse_string(\"Hello\"))"
   ]
  },
  {
   "cell_type": "code",
   "execution_count": 7,
   "metadata": {},
   "outputs": [
    {
     "name": "stdout",
     "output_type": "stream",
     "text": [
      "True\n",
      "True\n",
      "False\n"
     ]
    }
   ],
   "source": [
    "# 스택을 사용해 괄호의 짝이 맞는지 확인하기\n",
    "def check_parens(a_string):\n",
    "    stack = [] # 스택을 빈 리스트로 초기화\n",
    "\n",
    "    # 주어진 문자열에서 각 문자에 대해 반복\n",
    "    for c in a_string:\n",
    "        if c == \"(\": # 열린 괄호 \"(\"를 만나면 스택에 추가(푸시)\n",
    "            stack.append(c)\n",
    "\n",
    "        if c == \")\": # 닫힌 괄호 \")\"를 만나면\n",
    "            if len(stack) == 0: # 스택이 비어 있다면 짝이 맞지 않음(열린 괄호가 없으므로)\n",
    "                return False\n",
    "            else: # 스택이 비어 있지 않으면 열린 괄호와 짝을 맞추기 위해 팝\n",
    "                stack.pop()\n",
    "    return len(stack) == 0 # 마지막에 스택이 비어 있으면 괄호의 짝이 맞고, 비어 있지 않으면 맞지 않음. 괄호의 짝이 맞으면 True 반환\n",
    "  \n",
    "print(check_parens(\"()\"))        \n",
    "print(check_parens(\"(())\"))      \n",
    "print(check_parens(\"(()\"))   \n"
   ]
  }
 ],
 "metadata": {
  "kernelspec": {
   "display_name": "Python 3",
   "language": "python",
   "name": "python3"
  },
  "language_info": {
   "codemirror_mode": {
    "name": "ipython",
    "version": 3
   },
   "file_extension": ".py",
   "mimetype": "text/x-python",
   "name": "python",
   "nbconvert_exporter": "python",
   "pygments_lexer": "ipython3",
   "version": "3.13.0"
  }
 },
 "nbformat": 4,
 "nbformat_minor": 2
}

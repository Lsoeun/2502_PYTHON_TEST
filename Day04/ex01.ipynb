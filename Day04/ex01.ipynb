{
 "cells": [
  {
   "cell_type": "markdown",
   "metadata": {},
   "source": [
    "# 트리 구조\n",
    "- 트리 구조는 계층적인 데이터를 표현하기 위한 자료 구조로, 각 노드가 다른 노드와 관계를 가지며 구성\n",
    "- 노드를 연결해 계층 구조를 만드는 비선형 데이터 타입\n",
    "- 주로 부모-자식 관계로 이루어져 있으며, 루트 노드에서 시작해 여러 자식 노드가 연결되는 형태\n",
    "\n",
    "# 일반 트리\n",
    "- 맨 위에 하나의 노드를 두고 시작하는 자료 구조\n",
    "- 트리의 맨 위에 있는 노드를 루트 노드, 그 아래로 연결된 링크드 노드를 자식 노드라고 함\n",
    "- 부모 노드는 하나 이상의 자식 노드를 가지고, 형제 노드는 같은 부모 노드를 공유\n",
    "- 부모 노드가 가질 수 있는 자식 노드의 수는 제한이 없어서, 자식 노드의 수는 트리의 설계에 따라 달라짐\n",
    "\n",
    "# 이진 트리\n",
    "- 특수한 종류의 일반 트리로, 각 노드가 최대 2개의 자식 노드를 가질 수 있는 트리 자료 구조 \n",
    "- 이진 트리의 모든 노드는 루트 노드를 제외하고 부모 노드의 왼쪽 또는 오른쪽 자식 노드\n",
    "- 일반 트리와의 유일한 차이는 자식 노드의 제한"
   ]
  },
  {
   "cell_type": "code",
   "execution_count": 1,
   "metadata": {},
   "outputs": [],
   "source": [
    "# 이진 트리 만들기\n",
    "class BinaryTree:\n",
    "  def __init__(self, value):\n",
    "    self.key = value  # 노드의 값\n",
    "    self.left_child = None  # 왼쪽 자식 노드\n",
    "    self.right_child = None  # 오른쪽 자식 노드\n",
    "    \n",
    "  def insert_left(self, value): # 왼쪽 자식 노드를 삽입하는 메서드\n",
    "    if self.left_child == None:  # 왼쪽 자식 노드가 없으면 새 노드를 생성\n",
    "      self.left_child = BinaryTree(value)\n",
    "    else:  # 왼쪽 자식 노드가 이미 있다면, 기존 왼쪽 자식 노드를 새로운 노드의 왼쪽 자식으로 설정\n",
    "      bin_tree = BinaryTree(value)\n",
    "      bin_tree.left_child = self.left_child  # 기존 왼쪽 자식 트리를 새로운 노드의 왼쪽 자식으로 이동\n",
    "      self.left_child = bin_tree  # 새로운 노드를 왼쪽 자식으로 설정\n",
    "      \n",
    "  def insert_right(self, value): # 오른쪽 자식 노드를 삽입하는 메서드\n",
    "    if self.right_child == None: # 오른쪽 자식 노드가 없으면 새 노드를 생성\n",
    "      self.right_child = BinaryTree(value)\n",
    "    else:  # 오른쪽 자식 노드가 이미 있다면, 기존 오른쪽 자식 노드를 새로운 노드의 오른쪽 자식으로 설정\n",
    "      bin_tree = BinaryTree(value)\n",
    "      bin_tree.right_child = self.right_child  # 기존 오른쪽 자식 트리를 새로운 노드의 오른쪽 자식으로 이동\n",
    "      self.right_child = bin_tree  # 새로운 노드를 오른쪽 자식으로 설정\n",
    "      \n",
    "# 자식 노드를 삽입할 때, 만약 자식이 이미 존재하면 기존 자식 노드를 새로운 노드의 자식으로 이동시키는 구조\n",
    "# 새로운 노드를 삽입할 때 기존 노드가 밀려나는 방식 -> 트리의 왼쪽/오른쪽을 덧붙이는 방식이 아니라 교체하는 방식으로 볼 수 있음"
   ]
  },
  {
   "cell_type": "code",
   "execution_count": 2,
   "metadata": {},
   "outputs": [
    {
     "name": "stdout",
     "output_type": "stream",
     "text": [
      "1\n",
      "4\n",
      "2\n",
      "6\n",
      "5\n",
      "3\n"
     ]
    }
   ],
   "source": [
    "# 트리 생성\n",
    "tree = BinaryTree(1)  # 루트 노드는 1\n",
    "\n",
    "# 왼쪽 자식, 오른쪽 자식 삽입\n",
    "tree.insert_left(2)   # 1의 왼쪽 자식은 2\n",
    "tree.insert_right(3)  # 1의 오른쪽 자식은 3\n",
    "\n",
    "# 왼쪽 자식에 새로운 값 삽입 (기존 왼쪽 자식은 밀려남)\n",
    "tree.insert_left(4)   # 1의 왼쪽 자식은 4, 2는 4의 왼쪽 자식으로 밀려남\n",
    "\n",
    "# 오른쪽 자식에 새로운 값 삽입(기존 오른쪽 자식은 밀려남)\n",
    "tree.insert_right(5) # 1의 오른쪽 자식은 5, 3은 5의 오른쪽 자식으로 밀려남\n",
    "\n",
    "# 왼쪽 자식에게 오른쪽 자식 삽입\n",
    "tree.left_child.insert_right(6) # 4의 오른쪽 자식으로 6이 들어감 \n",
    "\n",
    "# 트리 구조 확인\n",
    "print(tree.key)                # 1 (루트)\n",
    "print(tree.left_child.key)     # 4 (1의 왼쪽 자식)\n",
    "print(tree.left_child.left_child.key)  # 2 (4의 왼쪽 자식)\n",
    "print(tree.left_child.right_child.key) # 6 (4의 오른쪽 자식)\n",
    "print(tree.right_child.key)    # 5 (1의 오른쪽 자식)\n",
    "print(tree.right_child.right_child.key) # 3 (5의 오른쪽 자식)"
   ]
  },
  {
   "cell_type": "markdown",
   "metadata": {},
   "source": [
    "# 너비 우선 탐색\n",
    "- 너비 우선 탐색(Breadth-First Search, BFS)은 그래프나 트리 구조에서 각 레벨의 순서대로 노드를 탐색하는 알고리즘\n",
    "- 루트 노트가 레벨 0이고, 자식 노드는 레벨1, 손자 노드는 레벨2\n",
    "- 루트에서 시작해 인접한 노드들을 먼저 탐색한 뒤 그 다음 레벨의 노드를 탐색하는 방식\n",
    "- 각 레벨의 모든 노드를 하나씩 방문하여 탐색하며, 마지막 레벨에 도달할 때까지 단계를 반복"
   ]
  },
  {
   "cell_type": "code",
   "execution_count": 3,
   "metadata": {},
   "outputs": [],
   "source": [
    "# 너비 우선 탐색\n",
    "from collections import deque  # 큐를 사용하기 위해 deque 모듈을 import\n",
    "\n",
    "class BinaryTree:\n",
    "    def __init__(self, value):\n",
    "        self.key = value  # 노드의 값\n",
    "        self.left_child = None  # 왼쪽 자식 노드\n",
    "        self.right_child = None  # 오른쪽 자식 노드\n",
    "    \n",
    "    def insert_left(self, value):  # 왼쪽 자식 노드를 삽입하는 메서드\n",
    "        if self.left_child is None: \n",
    "            self.left_child = BinaryTree(value)\n",
    "        else: \n",
    "            bin_tree = BinaryTree(value)\n",
    "            bin_tree.left_child = self.left_child\n",
    "            self.left_child = bin_tree\n",
    "    \n",
    "    def insert_right(self, value):  # 오른쪽 자식 노드를 삽입하는 메서드\n",
    "        if self.right_child is None:\n",
    "            self.right_child = BinaryTree(value)\n",
    "        else:  \n",
    "            bin_tree = BinaryTree(value)\n",
    "            bin_tree.right_child = self.right_child\n",
    "            self.right_child = bin_tree\n",
    "\n",
    "    def explore_value(self):  # 너비 우선 탐색 (BFS) 메서드\n",
    "        queue = deque([self])  # 큐에 루트 노드 넣기 -> self는 BinaryTree 클래스의 루트 노드를 가리킴\n",
    "        \n",
    "        while queue:  # 큐가 비어있지 않다면 계속 반복\n",
    "            node = queue.popleft()  # 큐에서 첫 번째 노드를 꺼냄\n",
    "            print(node.key)  # 노드 출력\n",
    "            \n",
    "            if node.left_child:  # 왼쪽 자식이 있으면\n",
    "                queue.append(node.left_child)  # 큐에 왼쪽 자식 추가\n",
    "            if node.right_child:  # 오른쪽 자식이 있으면\n",
    "                queue.append(node.right_child)  # 큐에 오른쪽 자식 추가"
   ]
  },
  {
   "cell_type": "code",
   "execution_count": 4,
   "metadata": {},
   "outputs": [
    {
     "name": "stdout",
     "output_type": "stream",
     "text": [
      "1\n",
      "2\n",
      "3\n",
      "4\n",
      "5\n"
     ]
    }
   ],
   "source": [
    "# 트리 생성 후 노드 추가\n",
    "exploretree = BinaryTree(1)\n",
    "exploretree.insert_left(2)\n",
    "exploretree.insert_right(3)\n",
    "exploretree.left_child.insert_left(4)\n",
    "exploretree.left_child.insert_right(5)\n",
    "\n",
    "# 너비 우선 탐색\n",
    "exploretree.explore_value()"
   ]
  },
  {
   "cell_type": "code",
   "execution_count": 5,
   "metadata": {},
   "outputs": [],
   "source": [
    "# 너비 우선 탐색으로 특정 값이 트리 안에 있는지 확인\n",
    "class BinaryTree:\n",
    "  def __init__(self, value):\n",
    "    self.key = value  # 노드의 값\n",
    "    self.left_child = None  # 왼쪽 자식 노드\n",
    "    self.right_child = None  # 오른쪽 자식 노드\n",
    "    \n",
    "  def insert_left(self, value): # 왼쪽 자식 노드를 삽입하는 메서드\n",
    "    if self.left_child == None: \n",
    "      self.left_child = BinaryTree(value)\n",
    "    else: \n",
    "      bin_tree = BinaryTree(value)\n",
    "      bin_tree.left_child = self.left_child \n",
    "      self.left_child = bin_tree \n",
    "      \n",
    "  def insert_right(self, value): # 오른쪽 자식 노드를 삽입하는 메서드\n",
    "    if self.right_child == None:\n",
    "      self.right_child = BinaryTree(value)\n",
    "    else:  \n",
    "      bin_tree = BinaryTree(value)\n",
    "      bin_tree.right_child = self.right_child\n",
    "      self.right_child = bin_tree\n",
    "      \n",
    "  def search_value(self, n):  # 너비 우선 탐색(BFS) 메서드. 탐색 하려는 데이터 n을 매개변수로 받음\n",
    "      current_level = [self]  # 현재 탐색중인 레벨에 있는 노드 리스트 -> 루트 노드(레벨0에서 시작)\n",
    "      next_level = []  # 다음 레벨에 있을 노드 리스트\n",
    "\n",
    "      while current_level:  # 현재 레벨의 모든 노드를 방문(current_level에 탐색할 노드가 남아 있는 한 계속 반복)\n",
    "          for node in current_level:  # current_level의 모든 노드 순회\n",
    "              if node.key == n:  # 찾으려는 값이 노드의 값과 일치하면 True 반환\n",
    "                  return True\n",
    "               # 찾으려는 값과 노드의 값이 일치하지 않는다면!\n",
    "              if node.left_child:  # 왼쪽 자식 노드가 있으면 다음 레벨 리스트에 추가\n",
    "                  next_level.append(node.left_child)\n",
    "              if node.right_child:  # 오른쪽 자식 노드가 있으면 다음 레벨 리스트에 추가\n",
    "                  next_level.append(node.right_child)\n",
    "\n",
    "          # 다음 레벨로 넘어가도록 갱신\n",
    "          current_level = next_level\n",
    "          next_level = []  # 다음 레벨 초기화\n",
    "\n",
    "      return False  # 값을 찾지 못했을 경우 False 반환"
   ]
  },
  {
   "cell_type": "code",
   "execution_count": 6,
   "metadata": {},
   "outputs": [
    {
     "name": "stdout",
     "output_type": "stream",
     "text": [
      "True\n",
      "False\n"
     ]
    }
   ],
   "source": [
    "# 트리 생성 후 노드 추가\n",
    "searchtree = BinaryTree(1)\n",
    "searchtree.insert_left(2)\n",
    "searchtree.insert_right(3)\n",
    "searchtree.left_child.insert_left(4)\n",
    "searchtree.left_child.insert_right(5)\n",
    "searchtree.right_child.insert_left(6)\n",
    "\n",
    "# 너비 우선 탐색으로 특정 값이 트리 안에 있는지 확인\n",
    "result = searchtree.search_value(4)\n",
    "print(result)\n",
    "\n",
    "result = searchtree.search_value(7)\n",
    "print(result)"
   ]
  },
  {
   "cell_type": "markdown",
   "metadata": {},
   "source": [
    "# 깊이 우선 탐색\n",
    "- 깊이 우선 탐색 (Depth-First Search, DFS)은 그래프나 트리에서 깊이를 우선으로 탐색하는 알고리즘\n",
    "- 트리의 모든 노드를 한 방향으로 방문한 후 다음 형제 노드로 이동\n",
    "- 한 노드를 방문한 후 자식 노드를 차례대로 깊게 탐색하고, 더 이상 자식 노드가 없으면 다시 돌아와서 다른 노드를 탐색하는 방식\n",
    "- 그래프나 트리의 모든 노드를 방문할 때까지 진행되며, 특정 경로를 깊게 탐색할 때 유용"
   ]
  },
  {
   "cell_type": "code",
   "execution_count": 7,
   "metadata": {},
   "outputs": [],
   "source": [
    "# 깊이 우선 탐색\n",
    "class BinaryTree:\n",
    "  def __init__(self, value):\n",
    "    self.key = value  # 노드의 값\n",
    "    self.left_child = None  # 왼쪽 자식 노드\n",
    "    self.right_child = None  # 오른쪽 자식 노드\n",
    "    \n",
    "  def insert_left(self, value): # 왼쪽 자식 노드를 삽입하는 메서드\n",
    "    if self.left_child == None: \n",
    "      self.left_child = BinaryTree(value)\n",
    "    else: \n",
    "      bin_tree = BinaryTree(value)\n",
    "      bin_tree.left_child = self.left_child \n",
    "      self.left_child = bin_tree \n",
    "      \n",
    "  def insert_right(self, value): # 오른쪽 자식 노드를 삽입하는 메서드\n",
    "    if self.right_child == None:\n",
    "      self.right_child = BinaryTree(value)\n",
    "    else:  \n",
    "      bin_tree = BinaryTree(value)\n",
    "      bin_tree.right_child = self.right_child\n",
    "      self.right_child = bin_tree\n",
    "      \n",
    "  def find_value(self):  # 깊이 우선 탐색(DFS) 메서드\n",
    "        if self is not None:  # 트리가 None이 아닌 경우에만 탐색\n",
    "            print(self.key)  # 현재 노드 출력\n",
    "            if self.left_child:  # 왼쪽 자식이 있으면\n",
    "                self.left_child.find_value()  # 왼쪽 자식으로 재귀 호출\n",
    "            if self.right_child:  # 오른쪽 자식이 있으면\n",
    "                self.right_child.find_value()  # 오른쪽 자식으로 재귀 호출"
   ]
  },
  {
   "cell_type": "code",
   "execution_count": 8,
   "metadata": {},
   "outputs": [
    {
     "name": "stdout",
     "output_type": "stream",
     "text": [
      "1\n",
      "2\n",
      "4\n",
      "5\n",
      "3\n"
     ]
    }
   ],
   "source": [
    "# 트리 생성 후 노드 추가\n",
    "findtree = BinaryTree(1)\n",
    "findtree.insert_left(2)\n",
    "findtree.insert_right(3)\n",
    "findtree.left_child.insert_left(4)\n",
    "findtree.left_child.insert_right(5)\n",
    "\n",
    "# 깊이 우선 탐색\n",
    "findtree.find_value()"
   ]
  }
 ],
 "metadata": {
  "kernelspec": {
   "display_name": "Python 3",
   "language": "python",
   "name": "python3"
  },
  "language_info": {
   "codemirror_mode": {
    "name": "ipython",
    "version": 3
   },
   "file_extension": ".py",
   "mimetype": "text/x-python",
   "name": "python",
   "nbconvert_exporter": "python",
   "pygments_lexer": "ipython3",
   "version": "3.13.0"
  }
 },
 "nbformat": 4,
 "nbformat_minor": 2
}

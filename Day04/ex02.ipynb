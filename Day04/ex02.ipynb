{
 "cells": [
  {
   "cell_type": "markdown",
   "metadata": {},
   "source": [
    "# 파이썬의 내장 함수 sorted()와 sort()\n",
    "- sorted() 함수는 반복 가능한 데이터(예: 리스트, 튜플, 문자열 등)를 정렬하여 새로운 리스트를 반환\n",
    "- 예를 들어 정수로 이루어진 리스트에서 sorted() 함수를 호출하면, 리스트의 정수를 오름차순으로 정렬한 새로운 리스트가 반환\n",
    "- sort()는 리스트 객체의 메서드로, 해당 리스트를 원본에서 직접 수정하고 정렬된 리스트를 반환하지 않음\n",
    "- sort()는 리스트에만 적용되며 다른 자료형에서는 사용할 수 없고, 리스트를 정렬한 결과를 원본 리스트에 직접 적용"
   ]
  },
  {
   "cell_type": "code",
   "execution_count": 3,
   "metadata": {},
   "outputs": [
    {
     "name": "stdout",
     "output_type": "stream",
     "text": [
      "[1, 4, 8, 10, 33, 100]\n"
     ]
    }
   ],
   "source": [
    "# 파이썬의 정렬 알고리즘\n",
    "# sorted()와 sort() 함수\n",
    "# sorted() 함수는 데이터를 정렬한 새로운 리스트를 반환\n",
    "a_list = [1, 8, 10, 33, 4, 100]\n",
    "print(sorted(a_list))"
   ]
  },
  {
   "cell_type": "code",
   "execution_count": 4,
   "metadata": {},
   "outputs": [
    {
     "name": "stdout",
     "output_type": "stream",
     "text": [
      "[100, 33, 10, 8, 4, 1]\n"
     ]
    }
   ],
   "source": [
    "# sorted() 함수는 옵션으로 reverse를 매개 변수로 받음\n",
    "# 내림차순으로 정렬하고 싶다면 reverse=True 속성을 사용하면 됨\n",
    "a_list = [1, 8, 10, 33, 4, 100]\n",
    "print(sorted(a_list, reverse=True))"
   ]
  },
  {
   "cell_type": "code",
   "execution_count": 8,
   "metadata": {},
   "outputs": [
    {
     "name": "stdout",
     "output_type": "stream",
     "text": [
      "[1, 4, 8, 10, 33, 100]\n",
      "[100, 33, 10, 8, 4, 1]\n"
     ]
    }
   ],
   "source": [
    "# sort() 함수(메서드)는 새로운 리스트를 반환하지 않고 원래 리스트를 수정함\n",
    "a_list = [1, 8, 10, 33, 4, 100]\n",
    "\n",
    "a_list.sort()  # 오름차순 정렬\n",
    "print(a_list)  \n",
    "# 출력 결과 [1, 4, 8, 10, 33, 100]\n",
    "\n",
    "a_list.sort(reverse=True)  # 내림차순 정렬\n",
    "print(a_list)  \n",
    "# 출력 결과 [100, 33, 10, 8, 4, 1]"
   ]
  },
  {
   "cell_type": "markdown",
   "metadata": {},
   "source": [
    "# 버블 정렬\n",
    "- 인접한 두 요소를 비교하여, 더 큰 값을 뒤로 보내고 작은 값을 앞으로 보내며 위치를 바꾸는 방식으로 정렬\n",
    "- 이 과정을 리스트의 끝까지 반복하며 마지막에는 가장 큰 값이 맨 뒤로 가는 방식\n",
    "- 리스트, 문자열 등을 정렬할 수 있지만, 효율성 면에서는 비효율적"
   ]
  },
  {
   "cell_type": "code",
   "execution_count": null,
   "metadata": {},
   "outputs": [],
   "source": [
    "# 버블 정렬 알고리즘 기본 구현\n",
    "def bubble_sort(a_list):\n",
    "    list_length = len(a_list) - 1 \n",
    "    for i in range(list_length):\n",
    "        for j in range(list_length - i): \n",
    "            if a_list[j] > a_list[j + 1]:\n",
    "                a_list[j], a_list[j + 1] = a_list[j + 1], a_list[j]\n",
    "    return a_list"
   ]
  },
  {
   "cell_type": "code",
   "execution_count": 1,
   "metadata": {},
   "outputs": [
    {
     "data": {
      "text/plain": [
       "[1, 2, 4, 6, 7, 8, 9]"
      ]
     },
     "execution_count": 1,
     "metadata": {},
     "output_type": "execute_result"
    }
   ],
   "source": [
    "# 버블 정렬 알고리즘 구현\n",
    "def bubble_sort(a_list):\n",
    "    list_length = len(a_list) - 1  # 마지막 인덱스를 구함\n",
    "    # 버블 정렬에서 a_list[j]와 a_list[j + 1]을 비교하기 때문에, j + 1이 범위 밖으로 벗어나지 않도록 하기 위해 마지막 인덱스를 구함\n",
    "    \n",
    "    # 첫 번째 for문: 리스트 전체를 반복하면서 순차적으로 비교\n",
    "    for i in range(list_length):\n",
    "        # 두 번째 for문: 리스트를 앞에서부터 뒤로 탐색\n",
    "        for j in range(list_length - i):  # 뒤에서부터 이미 정렬된 부분을 제외하고 탐색\n",
    "            # 만약 현재 요소가 다음 요소보다 크면, 두 값을 교환\n",
    "            if a_list[j] > a_list[j + 1]:\n",
    "                a_list[j], a_list[j + 1] = a_list[j + 1], a_list[j]  # 두 값을 교환\n",
    "    \n",
    "    return a_list  # 정렬된 리스트 반환\n",
    "  \n",
    "a_list = [4, 6, 2, 7, 8, 9, 1]\n",
    "bubble_sort(a_list)\n",
    "\n",
    "# 외부 for문과 내부 for문이 있는 이유? - 알고리즘의 비교 과정은 모두 내부 for문 루프에서 일어남. 내부 루프만 있다면 알고리즘은 조기 종료되고 리스트는 완전히 정렬되지 않을 것이므로, 리스트가 완전히 정렬될 때까지 내부 루프를 반복하도록 하는 외부 루프가 필요함 -> 그래서 2중 for문으로 구현\n",
    "# 버블 정렬은 리스트를 정렬할 수 있지만, 효율성 면에서는 비효율적\n",
    "# 시간 복잡도가 O(n²)이기 때문에, 리스트가 매우 길 경우 성능이 급격히 떨어진다는 단점이 있음"
   ]
  },
  {
   "cell_type": "markdown",
   "metadata": {},
   "source": [
    "# 선택 정렬\n",
    "- 리스트에서 가장 작은 값을 찾아 맨 앞에 배치하고, 그 다음 작은 값을 두 번째 위치에 배치하는 방식\n",
    "- 이 과정이 리스트 전체에 대해 반복되며, 매 반복마다 하나씩 정렬된 부분이 확정\n",
    "- 리스트에서 가장 작은 값을 찾아 맨 첫 번째 요소와 교환 -> 나머지 부분에서 가장 작은 값을 찾아 두 번째 위치에 있는 값과 교환 -> 세 번째 위치부터 나머지 값 중에서 가장 작은 값을 찾아 세 번째 위치에 있는 값과 교환"
   ]
  },
  {
   "cell_type": "code",
   "execution_count": null,
   "metadata": {},
   "outputs": [],
   "source": [
    "# 선택 정렬 알고리즘 기본 구현\n",
    "def selection_sort(a_list):\n",
    "    n = len(a_list)\n",
    "    \n",
    "    for i in range(n):\n",
    "        min_index = i\n",
    "        for j in range(i + 1, n):\n",
    "            if a_list[j] < a_list[min_index]:\n",
    "                min_index = j\n",
    "        a_list[i], a_list[min_index] = a_list[min_index], a_list[i]\n",
    "    \n",
    "    return a_list"
   ]
  },
  {
   "cell_type": "code",
   "execution_count": null,
   "metadata": {},
   "outputs": [],
   "source": [
    "# 선택 정렬 알고리즘 구현\n",
    "def selection_sort(a_list):\n",
    "    n = len(a_list)  # 리스트의 길이를 구하기(정렬할 리스트 길이 구해서 저장)\n",
    "    \n",
    "    # 리스트의 각 인덱스에서 i번째부터 끝까지의 리스트에서 최소값 찾기\n",
    "    for i in range(n):\n",
    "        min_index = i  # 처음에는 현재 인덱스를 최소값 인덱스로 가정\n",
    "        for j in range(i + 1, n):  # i + 1부터 리스트 끝까지 탐색\n",
    "            if a_list[j] < a_list[min_index]:  # 만약 j번째 값이 min_index번째 값보다 작으면\n",
    "                min_index = j  # 최소값을 찾았으므로 min_index를 갱신\n",
    "        \n",
    "        # 최소값을 i번째 값과 교환\n",
    "        a_list[i], a_list[min_index] = a_list[min_index], a_list[i]  # 최소값을 i번째 값과 위치 교환\n",
    "    \n",
    "    return a_list  # 정렬된 리스트 반환\n",
    "\n",
    "a_list = [64, 25, 12, 22, 11]\n",
    "sorted_list = selection_sort(a_list)\n",
    "print(sorted_list) \n"
   ]
  },
  {
   "cell_type": "markdown",
   "metadata": {},
   "source": [
    "# 삽입 정렬\n",
    "- 카드 묶음을 정렬하는 것과 비슷한 정렬 알고리즘\n",
    "- 리스트의 두 번째 요소부터 시작하여 각 요소를 앞에 있는 정렬된 부분에 삽입하는 방식\n",
    "- 삽입할 위치를 찾을 때마다 이전 요소들과 비교하여 순서를 맞춤\n",
    "- 정렬된 리스트나 거의 정렬된 리스트에서는 삽입 정렬의 루프가 거의 실행되지 않아 효율적"
   ]
  },
  {
   "cell_type": "code",
   "execution_count": null,
   "metadata": {},
   "outputs": [],
   "source": [
    "# 삽입 정렬 알고리즘 기본 구현\n",
    "def insertion_sort(a_list):\n",
    "    for i in range(1, len(a_list)):\n",
    "        value = a_list[i]\n",
    "        j = i\n",
    "\n",
    "        # j가 0보다 크고, 이전 원소가 현재 원소보다 크면 이동\n",
    "        while j > 0 and a_list[j - 1] > value:\n",
    "            a_list[j] = a_list[j - 1]\n",
    "            j -= 1  # j 감소\n",
    "        \n",
    "        # 적절한 위치에 value 삽입\n",
    "        a_list[j] = value  \n",
    "    return a_list\n",
    "\n",
    "a_list = [3, 7, 2, 5, 1, 4]\n",
    "print(insertion_sort(a_list))"
   ]
  },
  {
   "cell_type": "code",
   "execution_count": null,
   "metadata": {},
   "outputs": [],
   "source": [
    "# 삽입 정렬 알고리즘 구현\n",
    "def insertion_sort(a_list):\n",
    "    # 리스트의 두 번째 원소부터 시작 (첫 번째 원소는 이미 정렬되어 있다고 가정)\n",
    "    for i in range(1, len(a_list)):\n",
    "        value = a_list[i]  # 현재 삽입할 값\n",
    "        j = i  # 현재 위치를 j에 저장\n",
    "\n",
    "        # j가 0보다 크고, 이전 원소가 현재 원소보다 크면 계속 왼쪽으로 이동\n",
    "        while j > 0 and a_list[j - 1] > value:\n",
    "            a_list[j] = a_list[j - 1]  # 이전 원소를 오른쪽으로 이동\n",
    "            j -= 1  # j 값을 1 감소시켜 더 왼쪽으로 이동\n",
    "        \n",
    "        # 적절한 위치에 value 삽입\n",
    "        a_list[j] = value  # 현재 원소를 적절한 자리에 삽입\n",
    "    return a_list  # 정렬된 리스트 반환"
   ]
  },
  {
   "cell_type": "markdown",
   "metadata": {},
   "source": [
    "# 병합 정렬\n",
    "- 리스트를 계속해서 반으로 나눠 요소가 한 개뿐인 리스트로만 남았을 때, 이를 올바른 순서대로 다시 합치는 방식\n",
    "- 분할 정복법을 사용하여 정렬을 진행(재귀 정렬 알고리즘)\n",
    "- 원래 리스트가 한 개의 숫자로만 이뤄진 서브 리스트들로 나뉠 때까지 분할을 계속함\n",
    "- 병합을 할 때는 리스트의 요소를 비교하여 정렬한 순서대로 합침 "
   ]
  },
  {
   "cell_type": "code",
   "execution_count": null,
   "metadata": {},
   "outputs": [],
   "source": [
    "# 병합 정렬 알고리즘 기본 구현\n",
    "def merge_sort(a_list):\n",
    "    if len(a_list) <= 1:\n",
    "        return a_list\n",
    "      \n",
    "    mid = len(a_list) // 2\n",
    "    left_half = a_list[:mid]\n",
    "    right_half = a_list[mid:]\n",
    "    left_sorted = merge_sort(left_half)\n",
    "    right_sorted = merge_sort(right_half)\n",
    "    \n",
    "    return merge(left_sorted, right_sorted)\n",
    "\n",
    "def merge(left, right):\n",
    "    result = [] \n",
    "    left_index = 0 \n",
    "    right_index = 0  \n",
    "    \n",
    "    while left_index < len(left) and right_index < len(right):\n",
    "        if left[left_index] < right[right_index]:\n",
    "            result.append(left[left_index]) \n",
    "            left_index += 1\n",
    "        else:\n",
    "            result.append(right[right_index]) \n",
    "            right_index += 1\n",
    "    result.extend(left[left_index:])\n",
    "    result.extend(right[right_index:])\n",
    "    \n",
    "    return result"
   ]
  },
  {
   "cell_type": "code",
   "execution_count": 2,
   "metadata": {},
   "outputs": [
    {
     "name": "stdout",
     "output_type": "stream",
     "text": [
      "[3, 9, 10, 27, 38, 43, 82]\n"
     ]
    }
   ],
   "source": [
    "# 병합 정렬 알고리즘 기본 구현\n",
    "# 병합 정렬은 분할 정복 알고리즘 중 하나로, 리스트를 재귀적으로 분할하고 분할된 리스트들을 병합하여 정렬하는 방식\n",
    "# 1. 리스트를 두 부분으로 분할한다.\n",
    "# 2. 각 부분을 재귀적으로 정렬한다.\n",
    "# 3. 두 정렬된 부분을 병합하여 하나의 정렬된 리스트를 만든다.\n",
    "\n",
    "# 병합 정렬 구현\n",
    "def merge_sort(a_list):  # 이 함수는 재귀적으로 리스트를 나누고, 나누어진 각 리스트를 정렬\n",
    "    # 리스트의 길이가 1 이하일 경우 이미 정렬된 상태이므로 그냥 반환\n",
    "    if len(a_list) <= 1:\n",
    "        return a_list\n",
    "    \n",
    "    # 리스트를 중간을 기준으로 두 개로 나누기\n",
    "    mid = len(a_list) // 2\n",
    "    left_half = a_list[:mid]  # 왼쪽 절반\n",
    "    right_half = a_list[mid:]  # 오른쪽 절반\n",
    "    \n",
    "    # 왼쪽과 오른쪽 절반을 각각 나누어 정렬\n",
    "    left_sorted = merge_sort(left_half)\n",
    "    right_sorted = merge_sort(right_half)\n",
    "    \n",
    "    # 두 정렬된 리스트를 병합하는 함수 호출\n",
    "    return merge(left_sorted, right_sorted)\n",
    "\n",
    "# 두 정렬된 리스트를 하나로 병합하는 함수\n",
    "def merge(left, right):\n",
    "    result = []  # 병합된 결과를 저장할 리스트\n",
    "    left_index, right_index = 0, 0  # 두 리스트의 인덱스를 0으로 초기화\n",
    "    \n",
    "    # 두 리스트를 비교하면서 하나의 정렬된 리스트로 만듦\n",
    "    while left_index < len(left) and right_index < len(right):\n",
    "        if left[left_index] < right[right_index]:  # 왼쪽 리스트의 값이 더 작으면\n",
    "            result.append(left[left_index])  # 결과 리스트에 추가\n",
    "            left_index += 1  # 왼쪽 리스트 인덱스를 증가\n",
    "        else:  # 오른쪽 리스트의 값이 더 작거나 같으면\n",
    "            result.append(right[right_index])  # 결과 리스트에 추가\n",
    "            right_index += 1  # 오른쪽 리스트 인덱스를 증가\n",
    "    \n",
    "    # 남아있는 값을 결과 리스트에 추가 (한쪽 리스트가 끝나면 다른 쪽 리스트는 이미 정렬된 상태)\n",
    "    result.extend(left[left_index:])  # 왼쪽 리스트에 남은 값들\n",
    "    result.extend(right[right_index:])  # 오른쪽 리스트에 남은 값들\n",
    "    \n",
    "    return result  # 최종 병합된 리스트 반환\n",
    "\n",
    "a_list = [38, 27, 43, 3, 9, 82, 10]\n",
    "sorted_list = merge_sort(a_list)\n",
    "print(sorted_list)"
   ]
  }
 ],
 "metadata": {
  "kernelspec": {
   "display_name": "Python 3",
   "language": "python",
   "name": "python3"
  },
  "language_info": {
   "codemirror_mode": {
    "name": "ipython",
    "version": 3
   },
   "file_extension": ".py",
   "mimetype": "text/x-python",
   "name": "python",
   "nbconvert_exporter": "python",
   "pygments_lexer": "ipython3",
   "version": "3.13.0"
  }
 },
 "nbformat": 4,
 "nbformat_minor": 2
}

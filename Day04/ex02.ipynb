{
 "cells": [
  {
   "cell_type": "markdown",
   "metadata": {},
   "source": [
    "# 그래프\n",
    "- 그래프는 하나의 데이터가 하나 이상의 다른 데이터와 연결되는 자료 구조\n",
    "- 그래프 자료 구조에서는 데이터를 점 또는 노드라고 하며, 각 점의 이름을 키라고 함\n",
    "- 각 점에는 페이로드라는 추가 데이터가 있을 수 있으며, 각 점 사이의 연결은 에지라고 함\n",
    "- 방향 그래프, 무방향 그래프, 완전 그래프, 불완전 그래프 등이 있음"
   ]
  },
  {
   "cell_type": "code",
   "execution_count": 4,
   "metadata": {},
   "outputs": [],
   "source": [
    "class Graph:\n",
    "    def __init__(self):\n",
    "        # 그래프를 딕셔너리로 저장. 각 점은 키로 사용되고, 그 점에 연결된 다른 점들의 리스트가 값으로 저장됨.\n",
    "        self.graph = {}  # 그래프를 표현하는 딕셔너리\n",
    "\n",
    "    # 점 추가 메서드(점이 이미 그래프에 존재하지 않으면 새로운 점을 추가)\n",
    "    def add_vertex(self, vertex):\n",
    "        if vertex not in self.graph:\n",
    "            self.graph[vertex] = []  # 해당 점의 연결 리스트를 초기화(빈 리스트)\n",
    "            # 딕셔너리[키] = []: 특정 키에 대응하는 값을 빈 리스트 []로 설정하는 코드\n",
    "\n",
    "    # 엣지(간선) 추가 (양방향 그래프, 가중치 없음)\n",
    "    def add_edge(self, from_vertex, to_vertex):\n",
    "        # 출발 점(from_vertex)과 도착 점(to_vertex)이 그래프에 존재하지 않으면, 새로 추가\n",
    "        if from_vertex not in self.graph:\n",
    "            self.add_vertex(from_vertex)  # 출발 점이 없으면 추가\n",
    "        if to_vertex not in self.graph:\n",
    "            self.add_vertex(to_vertex)  # 도착 점이 없으면 추가\n",
    "        \n",
    "        # 양방향 연결: 출발 점에서 도착 점으로, 그리고 도착 점에서 출발 점으로 연결\n",
    "        self.graph[from_vertex].append(to_vertex)  # from_vertex에서 to_vertex로 엣지를 추가\n",
    "        self.graph[to_vertex].append(from_vertex)  # to_vertex에서 from_vertex로 엣지를 추가 (양방향)\n",
    "\n",
    "    # 그래프 출력\n",
    "    def print_graph(self):\n",
    "        # 그래프의 모든 점과 해당 점에 연결된 다른 점들 출력\n",
    "        for vertex in self.graph:\n",
    "            print(f\"{vertex} -> {self.graph[vertex]}\")  \n",
    "            # 각 점과 그 점에 연결된 다른 점들을 출력\n",
    "            # vertex는 키, self.graph[vertex]는 해당 점에 연결된 다른 점들의 리스트\n",
    "            \n",
    "# self.graph[from_vertex]는 from_vertex라는 키에 해당하는 값을 가져오는 것이고, 그 값은 리스트. append(to_vertex)는 그 리스트에 to_vertex를 추가하는 것"
   ]
  },
  {
   "cell_type": "code",
   "execution_count": 5,
   "metadata": {},
   "outputs": [
    {
     "name": "stdout",
     "output_type": "stream",
     "text": [
      "A -> ['B', 'C']\n",
      "B -> ['A', 'C']\n",
      "C -> ['B', 'A']\n"
     ]
    }
   ],
   "source": [
    "# 그래프 생성\n",
    "g = Graph()\n",
    "\n",
    "# 점과 엣지 추가\n",
    "g.add_vertex(\"A\")\n",
    "g.add_vertex(\"B\")\n",
    "g.add_vertex(\"C\")\n",
    "g.add_edge(\"A\", \"B\")\n",
    "g.add_edge(\"B\", \"C\")\n",
    "g.add_edge(\"A\", \"C\")\n",
    "\n",
    "# 그래프 출력\n",
    "g.print_graph()"
   ]
  }
 ],
 "metadata": {
  "kernelspec": {
   "display_name": "Python 3",
   "language": "python",
   "name": "python3"
  },
  "language_info": {
   "codemirror_mode": {
    "name": "ipython",
    "version": 3
   },
   "file_extension": ".py",
   "mimetype": "text/x-python",
   "name": "python",
   "nbconvert_exporter": "python",
   "pygments_lexer": "ipython3",
   "version": "3.13.0"
  }
 },
 "nbformat": 4,
 "nbformat_minor": 2
}

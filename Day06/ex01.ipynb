{
 "cells": [
  {
   "cell_type": "markdown",
   "metadata": {},
   "source": [
    "코딩테스트 입문"
   ]
  },
  {
   "cell_type": "code",
   "execution_count": null,
   "metadata": {},
   "outputs": [
    {
     "name": "stdout",
     "output_type": "stream",
     "text": [
      "4\n"
     ]
    }
   ],
   "source": [
    "# 문제1 / 옹알이\n",
    "# 조카가 발음할 수 있는 단어는 \"aya\", \"ye\", \"woo\", \"ma\" 4가지 단어를 각각 한 번씩만 사용하여 만든 조합\n",
    "# 주어진 문자열이 이 네 가지 단어를 조합해서만 만들어졌는지를 검사해야 함\n",
    "# 같은 단어가 연속해서 나오면 안 되며, 조건을 만족하는 문자열의 개수를 반환해야 함\n",
    "def solution(babbling):\n",
    "    valid_sounds = [\"aya\", \"ye\", \"woo\", \"ma\"]  # 유효한 발음 리스트\n",
    "    count = 0  # 유효한 발음의 개수를 셀 변수\n",
    "    \n",
    "    for word in babbling:  # 주어진 단어들 하나씩 확인\n",
    "        for sound in valid_sounds:  # 유효한 발음들 하나씩 확인\n",
    "            word = word.replace(sound, \" \", 1)  # 발음이 있으면 한 번만 공백으로 바꿈\n",
    "        \n",
    "        # 공백만 남으면 유효한 발음\n",
    "        if word.strip() == \"\":  # 남은 문자열이 비었으면 유효한 발음\n",
    "            count += 1  # 유효한 발음이므로 카운트 증가\n",
    "    \n",
    "    return count  # 유효한 발음의 개수 반환"
   ]
  },
  {
   "cell_type": "code",
   "execution_count": null,
   "metadata": {},
   "outputs": [],
   "source": [
    "# 문제2 / 다음에 올 숫자\n",
    "# 등차수열은 연속된 두 원소의 차이가 일정한 수열\n",
    "# 등비수열은 연속된 두 원소의 비율이 일정한 수열\n",
    "def solution(common):\n",
    "    # 등차수열인지 등비수열인지 구분하기 위해 첫 번째 두 원소로 차이와 비율을 계산\n",
    "    if common[1] - common[0] == common[2] - common[1]:  # 등차수열인지 확인\n",
    "        result1 = common[1] - common[0]  # 차이 계산(공차 구하기)\n",
    "        return common[-1] + result1  # 마지막 원소에 차이를 더해서 반환(다음 값 = 마지막 값 + 공차)\n",
    "    \n",
    "    else:  # 등비수열일 경우\n",
    "        result2 = common[1] // common[0]  # 비율 계산(공비 구하기)\n",
    "        return common[-1] * result2  # 마지막 원소에 비율을 곱해서 반환(다음 값 = 마지막 값 × 공비)"
   ]
  },
  {
   "cell_type": "code",
   "execution_count": null,
   "metadata": {},
   "outputs": [],
   "source": [
    "# 문제3 / 연속된 수의 합\n",
    "# 연속된 num개의 정수를 더한 값이 total이 되는 배열 찾기\n",
    "# 예를 들어 num = 3, total = 12이면 x + (x+1) + (x+2) = 12, 이를 만족하는 x는 3이므로 [3, 4, 5]를 반환\n",
    "\n",
    "def solution(num, total):\n",
    "    # 연속된 수들의 첫 번째 숫자(start_num) 계산하기\n",
    "    start_num = (total - (num * (num - 1) // 2)) // num\n",
    "\n",
    "    # 연속된 수들을 저장할 리스트\n",
    "    result = []\n",
    "\n",
    "    # start_num부터 연속된 num개의 숫자를 result에 추가\n",
    "    for i in range(num):\n",
    "        result.append(start_num + i)\n",
    "\n",
    "    return result\n",
    "\n",
    "# 연속된 수의 합 공식 사용하기\n",
    "# 연속된 num개의 정수를 x부터 시작한다고 하면 x + (x+1) + (x+2) + ... + (x + (num-1)) = total\n",
    "# 첫번째 숫자 x를 구하는 공식 => x = (total - (num-1) * num / 2) / num"
   ]
  },
  {
   "cell_type": "code",
   "execution_count": null,
   "metadata": {},
   "outputs": [],
   "source": [
    "# 문제4 / 종이 자르기\n",
    "def solution(M, N):\n",
    "    # 가위질 횟수는 M * N - 1\n",
    "    return M * N - 1\n",
    "\n",
    "# 2 x 2 → 3번\n",
    "# 3 x 3 → 8번\n",
    "# 4 x 4 → 15번\n",
    "# M × N 크기의 종이를 자르는 횟수 = (M × N) - 1"
   ]
  },
  {
   "cell_type": "code",
   "execution_count": null,
   "metadata": {},
   "outputs": [],
   "source": [
    "# 문제5 / 문자열 밀기\n",
    "# 문자열 A에서 각 문자를 오른쪽으로 한 칸씩 밀면 마지막 문자가 맨 앞으로 오고, 나머지 문자는 오른쪽으로 한 칸씩 밀림\n",
    "# 문자열 A를 여러 번 밀어서 B로 만들 수 있는지 확인하고, 만들 수 있다면 그 최소 밀어야 하는 횟수를 구하기\n",
    "# 밀어야 하는 횟수가 없다면 0을 반환하고, 밀어도 B가 될 수 없으면 -1을 반환\n",
    "def solution(A, B):\n",
    "    # 문자열 A와 B의 길이가 같지 않으면 불가능하므로 바로 -1 반환\n",
    "    if len(A) != len(B):\n",
    "        return -1\n",
    "    \n",
    "    # 문자열 A를 오른쪽으로 밀면서 확인\n",
    "    for i in range(len(A)):\n",
    "        # A를 i번 밀었을 때, 맨 뒤 i개를 앞으로 가져오고 나머지를 뒤로 놓은 문자열\n",
    "        rotated = A[-i:] + A[:-i]  # 오른쪽으로 i번 밀기\n",
    "        if rotated == B:\n",
    "            return i  # 밀어야 하는 횟수 반환\n",
    "    \n",
    "    # 마지막까지 B가 되지 않으면 -1 반환\n",
    "    return -1"
   ]
  },
  {
   "cell_type": "code",
   "execution_count": null,
   "metadata": {},
   "outputs": [],
   "source": [
    "# 문제6 / 잘라서 배열로 저장하기\n",
    "# 문자열 my_str을 n씩 잘라야 하므로, 문자열을 n의 크기만큼 자르는 작업을 반복 + 각 부분 문자열을 리스트에 추가\n",
    "def solution(my_str, n):\n",
    "    # 빈 리스트 answer를 생성하여 결과를 저장\n",
    "    answer = []\n",
    "    \n",
    "    # 문자열을 n길이씩 잘라서 배열에 저장\n",
    "    for i in range(0, len(my_str), n):\n",
    "        answer.append(my_str[i:i+n])  # i부터 i+n까지 자른 부분을 answer에 추가\n",
    "    \n",
    "    return answer"
   ]
  },
  {
   "cell_type": "code",
   "execution_count": null,
   "metadata": {},
   "outputs": [],
   "source": [
    "# 문제7 / 7의 개수\n",
    "# 주어진 정수 배열을 순차적으로 탐색하며 숫자 7이 총 몇 번 등장하는지를 계산\n",
    "# 배열 안에서 숫자 7이 몇 번 나오는지 세고 그 값을 반환\n",
    "def solution(array):\n",
    "    # 7의 개수를 셀 변수\n",
    "    answer = 0\n",
    "    \n",
    "    # array를 순차적으로 확인\n",
    "    for num in array:\n",
    "        # 숫자를 문자열로 바꾸고, 그 안에서 '7'의 개수를 셈\n",
    "        answer += str(num).count('7')\n",
    "    \n",
    "    return answer\n",
    "\n",
    "# count() 메서드로 배열에서 특정 값의 등장 횟수 세기\n",
    "# def solution(array):\n",
    "#     return array.count(7)"
   ]
  },
  {
   "cell_type": "code",
   "execution_count": null,
   "metadata": {},
   "outputs": [],
   "source": [
    "# 문제8 / 문자열 정렬하기(2)\n",
    "# 소문자로 변환: lower() 메서드 사용\n",
    "# 정렬: 소문자로 변환된 문자열을 알파벳 순서대로 정렬해야 하므로, sorted() 함수 사용\n",
    "def solution(my_string):\n",
    "    # 1. 문자열을 모두 소문자로 바꾸기\n",
    "    my_string = my_string.lower()\n",
    "    \n",
    "    # 2. 소문자로 바뀐 문자열을 알파벳 순으로 정렬\n",
    "    sorted_string = sorted(my_string)\n",
    "    \n",
    "    # 3. 문자열 합치기\n",
    "    answer = \"\"\n",
    "    for char in sorted_string:\n",
    "        answer += char\n",
    "    \n",
    "    return answer\n",
    "\n",
    "# def solution(my_string):\n",
    "#     # 소문자로 변환 후 정렬하여 문자열로 합치기\n",
    "#     result =  ''.join(sorted(my_string.lower()))\n",
    "#     print(result)\n",
    "#     # ''.join() : 정렬된 문자 리스트를 하나의 문자열로 합치는 함수"
   ]
  },
  {
   "cell_type": "code",
   "execution_count": null,
   "metadata": {},
   "outputs": [],
   "source": [
    "# 문제9 / 세균 증식\n",
    "# 초기 세균의 수는 n 마리, 경과한 시간 t가 주어질 때, 1시간마다 세균의 수가 두 배씩 증가\n",
    "# t시간 후 세균의 수는 n * 2**t\n",
    "def solution(n, t):\n",
    "    # 세균 수는 n * (2의 t승) 만큼 증식함\n",
    "    answer = n * (2 ** t)\n",
    "    return answer"
   ]
  },
  {
   "cell_type": "code",
   "execution_count": null,
   "metadata": {},
   "outputs": [],
   "source": [
    "# 문제10 / 제곱수 판별하기\n",
    "# 주어진 정수 n이 제곱수라면 1을 반환하고, 그렇지 않으면 2를 반환\n",
    "# 숫자 n이 제곱수인지 확인하려면, n의 제곱근을 구하고 그 제곱근이 정수인지를 확인\n",
    "# n = 16이면 제곱근은 4이고, 4의 제곱은 16이므로 제곱수\n",
    "def solution(n):\n",
    "    for i in range(1, n+1):\n",
    "        if i * i == n:\n",
    "            return 1\n",
    "    return 2"
   ]
  },
  {
   "cell_type": "code",
   "execution_count": null,
   "metadata": {},
   "outputs": [],
   "source": [
    "# 문제11 / 문자열 안에 문자열\n",
    "# str1이라는 문자열 안에 str2라는 문자열이 포함되어 있는지 확인\n",
    "# in 연산자를 사용하여 문자열이 포함되어 있는지 쉽게 확인\n",
    "def solution(str1, str2):\n",
    "    # str2가 str1에 포함되어 있는지 확인\n",
    "    if str2 in str1:\n",
    "        return 1  # 포함되면 1 반환\n",
    "    else:\n",
    "        return 2  # 포함되지 않으면 2 반환"
   ]
  },
  {
   "cell_type": "code",
   "execution_count": null,
   "metadata": {},
   "outputs": [],
   "source": [
    "# 문제12 / OX 퀴즈\n",
    "# 각 수식 문자열을 공백을 기준으로 나누어 X, 연산자, Y, Z를 추출\n",
    "# 추출한 X, Y, Z와 연산자를 이용해 계산을 수행\n",
    "def solution(quiz):\n",
    "    # 결과를 담을 리스트를 초기화\n",
    "    answer = []\n",
    "    \n",
    "    # quiz 배열에 들어있는 각 수식을 하나씩 처리\n",
    "    for q in quiz:\n",
    "        # 수식을 공백을 기준으로 나누어 리스트로 만들기\n",
    "        parts = q.split()\n",
    "        \n",
    "        # 나눈 값을 각 변수에 저장\n",
    "        x = int(parts[0])  # X (수식의 왼쪽 숫자)\n",
    "        operator = parts[1]  # 연산자 (+ 또는 -)\n",
    "        y = int(parts[2])  # Y (수식의 오른쪽 숫자)\n",
    "        result = int(parts[4])  # Z (수식 뒤의 결과값)\n",
    "        \n",
    "        # 연산자가 '+'인 경우 덧셈을 처리\n",
    "        if operator == '+':\n",
    "            # 덧셈 결과가 result와 같은지 확인\n",
    "            if x + y == result:\n",
    "                answer.append(\"O\")  # 맞으면 \"O\"를 추가\n",
    "            else:\n",
    "                answer.append(\"X\")  # 틀리면 \"X\"를 추가\n",
    "        \n",
    "        # 연산자가 '-'인 경우 뺄셈을 처리\n",
    "        elif operator == '-':\n",
    "            # 뺄셈 결과가 result와 같은지 확인\n",
    "            if x - y == result:\n",
    "                answer.append(\"O\")  # 맞으면 \"O\"를 추가\n",
    "            else:\n",
    "                answer.append(\"X\")  # 틀리면 \"X\"를 추가\n",
    "    \n",
    "    # 결과 리스트를 반환\n",
    "    return answer"
   ]
  },
  {
   "cell_type": "code",
   "execution_count": null,
   "metadata": {},
   "outputs": [],
   "source": [
    "# 문제13 / 자릿수 더하기\n",
    "# n은 정수이며, 각 자리 숫자를 합산\n",
    "# 예를 들어, n = 123일 때, 각 자리 숫자는 1, 2, 3이므로 그 합은 1 + 2 + 3 = 6\n",
    "def solution(n):\n",
    "    answer = 0 # 합을 저장할 변수 초기화\n",
    "    while n > 0: # n이 0보다 클 때까지 반복(n의 모든 자리 숫자를 다 처리할 때까지 반복)\n",
    "        answer += n % 10  # n의 마지막 자리 숫자를 구하고, 이를 answer에 더하기\n",
    "        n //= 10  # n을 10으로 나누어 마지막 자리를 제거하고, 나머지 숫자들로 갱신\n",
    "    return answer"
   ]
  },
  {
   "cell_type": "code",
   "execution_count": null,
   "metadata": {},
   "outputs": [],
   "source": [
    "# 문제14 / n의 배수 구하기\n",
    "def solution(n, numlist):\n",
    "    answer = []\n",
    "    for num in numlist:\n",
    "        if num % n == 0:  # num이 n의 배수인지 확인\n",
    "            answer.append(num)  # 배수일 경우 answer에 추가\n",
    "    return answer"
   ]
  },
  {
   "cell_type": "code",
   "execution_count": null,
   "metadata": {},
   "outputs": [],
   "source": [
    "# 문제15 / 숫자 찾기\n",
    "# num을 문자열로 변환하여 각 자리의 숫자에 접근\n",
    "# str(k)로 k를 문자열로 변환한 후 num_str에 있는지 확인\n",
    "def solution(num, k):\n",
    "    # num을 문자열로 변환하여 각 자리를 리스트처럼 접근\n",
    "    num_str = str(num)\n",
    "    \n",
    "    # k를 문자열로 변환 (문자열 비교를 위해)\n",
    "    k_str = str(k)\n",
    "    \n",
    "    # num_str에서 k_str이 처음 등장하는 위치를 찾음\n",
    "    if k_str in num_str:\n",
    "        return num_str.index(k_str) + 1 \n",
    "    else:\n",
    "        return -1  # k가 없으면 -1 반환\n",
    "\n",
    "# index() 함수는 문자열이나 리스트에서 특정 요소가 처음으로 나타나는 위치(인덱스)를 반환하는 함수"
   ]
  },
  {
   "cell_type": "code",
   "execution_count": null,
   "metadata": {},
   "outputs": [],
   "source": [
    "# 문제16 / 배열의 유사도\n",
    "# set을 사용하여 중복을 제거하고 교집합 구하기\n",
    "def solution(s1, s2):\n",
    "  return len(set(s1) & set(s2))\n",
    "\n",
    "# 반복문을 사용한 비교도 가능\n",
    "# def solution(s1, s2):\n",
    "#     answer = 0\n",
    "#     for item in s1:\n",
    "#         if item in s2:\n",
    "#             answer += 1\n",
    "#     return answer"
   ]
  },
  {
   "cell_type": "code",
   "execution_count": null,
   "metadata": {},
   "outputs": [],
   "source": [
    "# 문제17 / 문자열 계산하기\n",
    "def solution(my_string):\n",
    "    alist = my_string.split() # 공백을 기준으로 문자열을 분리하여 리스트로 변환\n",
    "    # 예: \"3 + 5 - 2\" → ['3', '+', '5', '-', '2']\n",
    "    # 첫 번째 숫자를 초기 값으로 설정\n",
    "    answer = int(alist[0])\n",
    "\n",
    "    # 연산자와 숫자를 순서대로 처리\n",
    "    for i in range(1, len(alist), 2): # 연산자 위치 때문에 증감폭을 2씩 설정\n",
    "        if alist[i] == '+':\n",
    "            answer += int(alist[i + 1])  # '+'이면 다음 숫자를 더함\n",
    "        else:\n",
    "            answer -= int(alist[i + 1]) # '-'이면 다음 숫자를 뺌\n",
    "\n",
    "    return answer # 최종 계산 결과 반환"
   ]
  },
  {
   "cell_type": "code",
   "execution_count": null,
   "metadata": {},
   "outputs": [],
   "source": [
    "# 문제18 / 가장 큰 수 찾기\n",
    "def solution(array):\n",
    "    max_value = max(array)  # 배열에서 가장 큰 값 찾기\n",
    "    max_index = array.index(max_value)  # 가장 큰 값의 인덱스 찾기\n",
    "    return [max_value, max_index]  # 결과 반환\n",
    "\n",
    "# max(array)를 사용하여 배열에서 가장 큰 값 찾기\n",
    "# array.index(max_value)를 이용해 해당 값의 인덱스 찾기"
   ]
  },
  {
   "cell_type": "code",
   "execution_count": null,
   "metadata": {},
   "outputs": [],
   "source": [
    "# 문제19 / 편지\n",
    "def solution(message):\n",
    "    return len(message) * 2\n",
    "\n",
    "# len(message)를 사용하여 문자열의 길이 구하기\n",
    "# 글자당 2cm 크기로 적으므로 len(message) * 2를 계산하여 최소 가로길이를 반환"
   ]
  },
  {
   "cell_type": "code",
   "execution_count": null,
   "metadata": {},
   "outputs": [],
   "source": [
    "# 문제20 / 약수 구하기\n",
    "# 약수는 주어진 수를 나누었을 때, 나누어 떨어지는 수를 의미\n",
    "def solution(n):\n",
    "    answer = []  # 약수를 저장할 리스트\n",
    "\n",
    "    # 1부터 n까지 모든 숫자 확인\n",
    "    for i in range(1, n + 1):  \n",
    "        if n % i == 0:  # n을 i로 나누었을 때 나머지가 0이면 약수\n",
    "            answer.append(i)  # 리스트에 약수 추가\n",
    "\n",
    "    return answer  # 약수 리스트 반환"
   ]
  }
 ],
 "metadata": {
  "kernelspec": {
   "display_name": "Python 3",
   "language": "python",
   "name": "python3"
  },
  "language_info": {
   "codemirror_mode": {
    "name": "ipython",
    "version": 3
   },
   "file_extension": ".py",
   "mimetype": "text/x-python",
   "name": "python",
   "nbconvert_exporter": "python",
   "pygments_lexer": "ipython3",
   "version": "3.13.0"
  }
 },
 "nbformat": 4,
 "nbformat_minor": 2
}

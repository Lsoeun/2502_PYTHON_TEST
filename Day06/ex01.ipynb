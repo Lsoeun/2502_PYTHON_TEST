{
 "cells": [
  {
   "cell_type": "markdown",
   "metadata": {},
   "source": [
    "코딩테스트 입문"
   ]
  },
  {
   "cell_type": "code",
   "execution_count": null,
   "metadata": {},
   "outputs": [],
   "source": [
    "# 문제 21 / 한 번만 등장한 문자\n",
    "def solution(s): \n",
    "    answer = ''  # 결과를 저장할 빈 문자열 초기화\n",
    "    list_s = list(s)  # 문자열을 리스트로 변환\n",
    "    list_s.sort()  # 리스트를 사전 순으로 정렬\n",
    "    \n",
    "    # 리스트에서 하나씩 문자를 확인\n",
    "    for i in list_s:\n",
    "        if list_s.count(i) == 1:  # 문자가 한 번만 등장하는지 확인\n",
    "            answer += i  # 한 번만 등장하면 결과 문자열에 추가\n",
    "    \n",
    "    return answer  # 최종 결과 반환"
   ]
  },
  {
   "cell_type": "code",
   "execution_count": null,
   "metadata": {},
   "outputs": [],
   "source": [
    "# 문제 22 / 인덱스 바꾸기\n",
    "def solution(my_string, num1, num2):\n",
    "    # 문자열을 리스트로 변환 (문자열은 변경할 수 없기 때문에)\n",
    "    my_list = list(my_string)\n",
    "    \n",
    "    # num1과 num2에 해당하는 문자를 서로 바꿈\n",
    "    my_list[num1], my_list[num2] = my_list[num2], my_list[num1]\n",
    "    \n",
    "    # 리스트를 다시 문자열로 합쳐서 반환\n",
    "    return ''.join(my_list)\n",
    "   # join() 함수는 리스트의 모든 요소를 하나의 문자열로 결합하는 역할\n",
    "   \n",
    "   # 만약 join 함수를 안 쓴다면?\n",
    "   # 리스트를 문자열로 변환 (join 함수 대신 for문 사용)\n",
    "    result = \"\"\n",
    "    for char in my_list:\n",
    "        result += char  # 리스트의 각 문자를 result에 더함\n",
    "    \n",
    "    return result"
   ]
  },
  {
   "cell_type": "code",
   "execution_count": null,
   "metadata": {},
   "outputs": [],
   "source": [
    "# 문제 23 / 영어가 싫어요\n",
    "def solution(numbers):\n",
    "    # 숫자 단어와 숫자를 매핑한 딕셔너리\n",
    "    number_dict = {\n",
    "        \"zero\": \"0\", \"one\": \"1\", \"two\": \"2\", \"three\": \"3\", \"four\": \"4\",\n",
    "        \"five\": \"5\", \"six\": \"6\", \"seven\": \"7\", \"eight\": \"8\", \"nine\": \"9\"\n",
    "    }\n",
    "    \n",
    "    # 숫자 단어에 대해 순차적으로 변환 작업 수행\n",
    "    for word, digit in number_dict.items():\n",
    "        # numbers에서 word를 찾아 해당 숫자(digit)로 바꿈\n",
    "        numbers = numbers.replace(word, digit)  # replace() 함수로 단어를 숫자로 바꿈\n",
    "        # replace()는 문자열에서 지정된 값을 다른 값으로 바꾸는 함수\n",
    "    \n",
    "    # 변환된 결과 문자열을 정수로 변환하여 반환\n",
    "    return int(numbers)  # 최종적으로 숫자 문자열을 정수로 변환하여 반환"
   ]
  },
  {
   "cell_type": "code",
   "execution_count": null,
   "metadata": {},
   "outputs": [],
   "source": [
    "# 문제 24 / 대문자와 소문자\n",
    "def solution(my_string):\n",
    "    return my_string.swapcase()\n",
    "# 문자열에서 대문자는 소문자로, 소문자는 대문자로 변환하는 swapcase() 함수 사용\n",
    "\n",
    "# 또는 swapcase() 함수 사용하지 않을 경우\n",
    "def solution(my_string):\n",
    "    result = \"\"  # 결과 문자열을 저장할 변수\n",
    "\n",
    "    # 문자열의 각 문자를 확인\n",
    "    for char in my_string:\n",
    "        # 대문자인 경우 소문자로 변환\n",
    "        if 'A' <= char <= 'Z':\n",
    "            result += chr(ord(char) + 32)  # 대문자를 소문자로 변환하기 위해 32만큼 더함\n",
    "        # 소문자인 경우 대문자로 변환\n",
    "        else:\n",
    "            result += chr(ord(char) - 32)  # 소문자를 대문자로 변환하기 위해 32만큼 빼줌\n",
    "\n",
    "    return result  # 변환된 문자열을 반환\n",
    "  \n",
    "# ord(char): 문자의 ASCII 값을 반환\n",
    "# chr(value): ASCII 값을 문자로 변환\n",
    "# 대문자의 ASCII 값에 32를 더하면 해당 소문자의 ASCII 값이 됨\n",
    "# 소문자의 ASCII 값에 32를 빼면 대문자의 ASCII 값이 됨"
   ]
  },
  {
   "cell_type": "code",
   "execution_count": null,
   "metadata": {},
   "outputs": [],
   "source": [
    "# 문제 25 / 암호 해독\n",
    "# cipher 문자열의 code의 배수 번째 글자만 선택\n",
    "def solution(cipher, code):\n",
    "    # 새로운 암호문을 저장할 변수\n",
    "    answer = \"\"\n",
    "    \n",
    "    # code - 1 인덱스 부터 시작해서 code 간격으로 인덱스를 이동하며 해당 문자를 answer에 추가\n",
    "    for i in range(code - 1, len(cipher), code):  # range의 시작을 code - 1로 설정하여, 코드 값의 배수 번째 문자만 선택\n",
    "        answer += cipher[i]  # 해당 문자를 answer에 추가\n",
    "\n",
    "    # 해독된 암호 문자열을 반환\n",
    "    return answer"
   ]
  }
 ],
 "metadata": {
  "kernelspec": {
   "display_name": "Python 3",
   "language": "python",
   "name": "python3"
  },
  "language_info": {
   "codemirror_mode": {
    "name": "ipython",
    "version": 3
   },
   "file_extension": ".py",
   "mimetype": "text/x-python",
   "name": "python",
   "nbconvert_exporter": "python",
   "pygments_lexer": "ipython3",
   "version": "3.13.0"
  }
 },
 "nbformat": 4,
 "nbformat_minor": 2
}

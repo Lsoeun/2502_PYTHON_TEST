{
 "cells": [
  {
   "cell_type": "markdown",
   "metadata": {},
   "source": [
    "# 레벨1 문제 풀이"
   ]
  },
  {
   "cell_type": "code",
   "execution_count": null,
   "metadata": {},
   "outputs": [],
   "source": [
    "# 월간 코드챌린지 1 / 나머지가 1이 되는 수 찾기\n",
    "def solution(n):\n",
    "    # x를 2부터 시작하여 n % x == 1을 만족하는 x를 찾기\n",
    "    # x = 1일 때는 n % 1 == 0이므로 나머지가 1일 수 없기 때문\n",
    "    x = 2\n",
    "    while n % x != 1: # x에 대해 n % x가 1이 될 때까지 반복문 실행\n",
    "        x += 1  # x를 하나씩 증가시켜가며 나머지가 1이 될 때까지 찾기\n",
    "    \n",
    "    return x  # 나머지가 1인 가장 작은 x를 반환\n",
    "    # 반복문을 종료하면 n % x == 1을 만족하는 가장 작은 x가 나왔으므로, 이를 반환"
   ]
  },
  {
   "cell_type": "code",
   "execution_count": null,
   "metadata": {},
   "outputs": [],
   "source": [
    "# 월간 코드챌린지 2 / 없는 숫자 더하기\n",
    "def solution(numbers):\n",
    "    # 0부터 9까지의 모든 숫자들의 합\n",
    "    total_sum = 45\n",
    "    \n",
    "    # 주어진 배열 numbers의 합 구하기\n",
    "    numbers_sum = sum(numbers)\n",
    "    \n",
    "    # 전체 합에서 배열에 포함된 숫자들의 합을 빼면 남은 값이 누락된 숫자들의 합을 구할 수 있음\n",
    "    return total_sum - numbers_sum"
   ]
  },
  {
   "cell_type": "code",
   "execution_count": null,
   "metadata": {},
   "outputs": [],
   "source": [
    "# 월간 코드챌린지 3 / 약수의 개수와 덧셈\n",
    "# 어떤 수의 약수의 개수는 그 수를 나눠 떨어지는 숫자들을 세는 것\n",
    "# 약수의 개수가 홀수인 수는 완전 제곱수에만 해당\n",
    "def solution(left, right):\n",
    "    total = 0  # 결과를 저장할 변수\n",
    "\n",
    "    # left부터 right까지 반복하며 각 숫자를 처리\n",
    "    for num in range(left, right + 1):\n",
    "        # 숫자가 완전 제곱수인지 확인\n",
    "        # num ** 0.5는 num의 제곱근을 구하는 연산\n",
    "        # int(num ** 0.5)로 제곱근을 정수로 바꾸고, 그 값을 다시 제곱하여 원래 숫자와 같은지 확인\n",
    "        if int(num ** 0.5) ** 2 == num:  # 완전 제곱수이면\n",
    "            total -= num  # 완전 제곱수는 약수의 개수가 홀수이므로 빼기\n",
    "        else:\n",
    "            total += num  # 그렇지 않으면 약수의 개수가 짝수이므로 더하기\n",
    "    \n",
    "    return total  # 계산된 값을 반환\n",
    "  \n",
    "# math 모듈 사용하는 경우\n",
    "# sqrt()는 square root(제곱근)를 계산하는 함수\n",
    "import math\n",
    "\n",
    "def solution(left, right):\n",
    "    total = 0  # 결과를 저장할 변수\n",
    "\n",
    "    # left부터 right까지 반복\n",
    "    for num in range(left, right + 1):\n",
    "        # num의 제곱근을 구하고, 제곱근이 정수인지 확인\n",
    "        sqrt = math.sqrt(num)\n",
    "        \n",
    "        if sqrt == int(sqrt):  # 제곱근이 정수이면 완전 제곱수\n",
    "            total -= num  # 완전 제곱수는 빼기\n",
    "        else:\n",
    "            total += num  # 그렇지 않으면 더하기\n",
    "    \n",
    "    return total"
   ]
  },
  {
   "cell_type": "code",
   "execution_count": null,
   "metadata": {},
   "outputs": [],
   "source": [
    "# 월간 코드챌린지 4 / 음양 더하기\n",
    "def solution(absolutes, signs):\n",
    "    total = 0  # 결과를 저장할 변수\n",
    "    \n",
    "    # absolutes와 signs 배열을 동시에 확인\n",
    "    for i in range(len(absolutes)):  # absolutes 배열의 길이만큼 반복\n",
    "        # signs[i]가 True이면 해당 absolutes[i]를 그대로 더하고, False이면 음수로 처리\n",
    "        if signs[i]:\n",
    "            total += absolutes[i]  # signs[i]가 True이면, absolutes[i]를 더함\n",
    "        else:\n",
    "            total -= absolutes[i]  # signs[i]가 False이면, absolutes[i]를 뺌\n",
    "    \n",
    "    return total  # 계산된 합을 반환"
   ]
  },
  {
   "cell_type": "code",
   "execution_count": null,
   "metadata": {},
   "outputs": [],
   "source": [
    "# 월간 코드챌린지 5 / 내적\n",
    "# a와 b의 내적은 두 배열의 대응되는 원소들끼리 곱한 값들을 모두 더한 값\n",
    "def solution(a, b):\n",
    "    total = 0  # 내적의 결과를 저장할 변수\n",
    "    \n",
    "    # a와 b 배열의 같은 인덱스 위치 원소들을 곱해서 그 값을 더하는 반복문\n",
    "    for i in range(len(a)):  # a 배열의 길이만큼 반복\n",
    "        total += a[i] * b[i]  # a[i]와 b[i]의 곱을 total에 더함\n",
    "    \n",
    "    return total  # 최종적으로 계산된 내적 값 반환"
   ]
  },
  {
   "cell_type": "code",
   "execution_count": null,
   "metadata": {},
   "outputs": [],
   "source": [
    "# 월간 코드챌린지 6 / 3진법 뒤집기\n",
    "# 주어진 자연수 n을 3진법으로 변환 -> 변환된 3진법 숫자의 자리 뒤집기 -> 뒤집어진 3진법 숫자를 다시 10진법으로 변환하여 결과 반환\n",
    "def solution(n):\n",
    "    # 1. 자연수 n을 3진법으로 변환\n",
    "    ternary = ''\n",
    "    while n > 0:\n",
    "        ternary = str(n % 3) + ternary  # 3으로 나눈 나머지를 앞에 붙여서 3진법 숫자 만들기\n",
    "        n //= 3  # 3으로 나누어 몫을 n에 저장\n",
    "\n",
    "    # 2. 3진법 숫자를 뒤집기\n",
    "    reversed_ternary = ternary[::-1]  # 문자열을 뒤집는 방법\n",
    "\n",
    "    # 3. 뒤집어진 3진법 숫자를 10진법으로 변환\n",
    "    result = int(reversed_ternary, 3)  # 3진법 문자열을 10진법으로 변환(2번쨰 인자를 3으로 주기)\n",
    "\n",
    "    return result"
   ]
  },
  {
   "cell_type": "code",
   "execution_count": null,
   "metadata": {},
   "outputs": [],
   "source": [
    "# 월간 코드챌린지 7 / 두개 뽑아서 더하기\n",
    "def solution(numbers):\n",
    "    result = set()  # 중복된 값을 제거하고 고유한 합을 저장하기 위해 비어 있는 set() 만들기기\n",
    "    \n",
    "    # 배열에서 서로 다른 두 수를 뽑아서 합을 구함\n",
    "    for i in range(len(numbers)):  # 첫 번째 숫자를 선택\n",
    "        for j in range(i + 1, len(numbers)):  # 두 번째 숫자는 첫 번째 숫자보다 뒤에 있는 숫자만 선택\n",
    "            result.add(numbers[i] + numbers[j])  # 두 수의 합을 result set에 추가\n",
    "    \n",
    "    # 중복을 제거한 후, set을 list로 변환하고 오름차순으로 정렬 후 반환\n",
    "    return sorted(list(result))"
   ]
  }
 ],
 "metadata": {
  "kernelspec": {
   "display_name": "Python 3",
   "language": "python",
   "name": "python3"
  },
  "language_info": {
   "name": "python",
   "version": "3.13.0"
  }
 },
 "nbformat": 4,
 "nbformat_minor": 2
}

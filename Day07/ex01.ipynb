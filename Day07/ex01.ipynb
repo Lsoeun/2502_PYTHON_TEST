{
 "cells": [
  {
   "cell_type": "markdown",
   "metadata": {},
   "source": [
    "PCCE 기출 1회"
   ]
  },
  {
   "cell_type": "code",
   "execution_count": null,
   "metadata": {},
   "outputs": [],
   "source": [
    "# 1번 / 출력\n",
    "string_msg = \"Spring is beginning\"\n",
    "int_val = 3\n",
    "string_val = \"3\"\n",
    "\n",
    "print(string_msg)\n",
    "print(int_val + 10)\n",
    "print(string_val + \"10\")"
   ]
  },
  {
   "cell_type": "code",
   "execution_count": null,
   "metadata": {},
   "outputs": [],
   "source": [
    "# 2번 / 피타고라스의 정리\n",
    "a = int(input())\n",
    "c = int(input())\n",
    "\n",
    "b_square = c**2 - a**2\n",
    "print(b_square)"
   ]
  },
  {
   "cell_type": "code",
   "execution_count": null,
   "metadata": {},
   "outputs": [],
   "source": [
    "# 3번 / 나이 계산\n",
    "year = int(input())\n",
    "age_type = input()\n",
    "\n",
    "if age_type == \"Korea\":\n",
    "  answer = 2030 - year + 1\n",
    "elif age_type == \"Year\":\n",
    "  answer = 2030 - year\n",
    "\n",
    "print(answer)"
   ]
  },
  {
   "cell_type": "code",
   "execution_count": null,
   "metadata": {},
   "outputs": [],
   "source": [
    "# 4번 / 저축\n",
    "start = int(input())\n",
    "before = int(input())\n",
    "after = int(input())\n",
    "\n",
    "money = start\n",
    "month = 1\n",
    "while money < 70:\n",
    "  money += before\n",
    "  month += 1\n",
    "while money < 100:\n",
    "  money += after\n",
    "  month += 1\n",
    "\n",
    "print(month)\n",
    "\n",
    "# start: 첫 달에 저축하는 금액, 첫 달은 이미 저축했으므로 months는 1부터 시작\n",
    "# before: 70만 원까지 저축하는 금액으로, money가 70만 원에 도달할 때까지 before를 계속 더해줌\n",
    "# after: 70만 원을 넘긴 이후부터 목표 금액인 100만 원에 도달할 때까지 더 빠르게 저축하기 위해 after를 더함\n",
    "# months: 각 월마다 저축액을 더한 후, 목표 금액을 달성할 때까지 걸리는 개월 수를 계산"
   ]
  },
  {
   "cell_type": "code",
   "execution_count": null,
   "metadata": {},
   "outputs": [],
   "source": [
    "# 5번 / 산책\n",
    "# 2차원 좌표평면에서 주어진 산책 루트(route)에 따라 강아지가 이동하는 방향을 처리\n",
    "# 출발점: 출발점은 (0, 0)\n",
    "# 결과: 출발점에서 이동 후 최종 도착점의 좌표를 [x, y] 형태로 반환\n",
    "def solution(route):\n",
    "  east = 0\n",
    "  north = 0\n",
    "  for i in route:\n",
    "      if i == \"N\":\n",
    "          north += 1\n",
    "      elif i == \"S\" :\n",
    "          north -= 1\n",
    "      elif i == \"E\" :\n",
    "          east += 1\n",
    "      elif i == \"W\":\n",
    "          east -= 1\n",
    "\n",
    "  return [east, north]\n",
    "\n",
    "# \"N\" (North): 북쪽으로 1만큼 이동 (즉, north 좌표가 1 증가)\n",
    "# \"S\" (South): 남쪽으로 1만큼 이동 (즉, north 좌표가 1 감소)\n",
    "# \"E\" (East): 동쪽으로 1만큼 이동 (즉, east 좌표가 1 증가)\n",
    "# \"W\" (West): 서쪽으로 1만큼 이동 (즉, east 좌표가 1 감소)"
   ]
  },
  {
   "cell_type": "code",
   "execution_count": null,
   "metadata": {},
   "outputs": [],
   "source": [
    "# 6번 / 가채점\n",
    "# 성적을 문의하려는 학생들의 가채점 점수와 실제 성적을 비교하여, 두 점수가 같으면 \"Same\", 다르면 \"Different\"를 결과 리스트에 담아 반환\n",
    "# numbers: 성적을 문의하려는 학생들의 번호가 담긴 리스트\n",
    "# our_score: 가채점한 점수들이 담긴 리스트로, 순서는 numbers와 일치\n",
    "# score_list: 학생 번호에 맞춰 실제 성적이 담긴 리스트\n",
    "\n",
    "# 접근법\n",
    "# numbers 리스트의 각 번호에 해당하는 학생의 가채점 점수(our_score)와 실제 성적(score_list)을 비교\n",
    "# 점수가 같으면 \"Same\", 다르면 \"Different\"을 결과 리스트에 추가\n",
    "\n",
    "def solution(numbers, our_score, score_list):\n",
    "    answer = [] # 결과를 저장할 빈 리스트 'answer' 생성\n",
    "    for i in range(len(numbers)): # numbers 리스트의 길이만큼 반복문을 실행\n",
    "        if our_score[i] == score_list[numbers[i] -1]: # our_score[i]는 성적을 문의한 학생의 가채점 점수\n",
    "            # score_list[numbers[i] - 1]는 해당 학생의 실제 성적\n",
    "            answer.append(\"Same\")\n",
    "        else:\n",
    "            answer.append(\"Different\")\n",
    "    \n",
    "    return answer\n",
    "\n",
    "# 학생 번호는 1부터 시작하지만 score_list의 인덱스는 0부터 시작하므로 -1을 해줘야 올바른 인덱스를 찾을 수 있음"
   ]
  },
  {
   "cell_type": "code",
   "execution_count": null,
   "metadata": {},
   "outputs": [],
   "source": [
    "# 7번 / 가습기\n",
    "# mode_type: 가습기의 동작 모드 (문자열로 \"auto\", \"target\", \"minimum\" 중 하나)\n",
    "# humidity: 현재 공기 중 습도 (정수)\n",
    "# val_set: 설정된 목표 습도 (정수)\n",
    "def func1(humidity, val_set):\n",
    "    if humidity < val_set:\n",
    "        return 3\n",
    "    return 1\n",
    "\n",
    "def func2(humidity):\n",
    "    if humidity >= 50:\n",
    "        return 0\n",
    "    elif humidity >= 40:\n",
    "        return 1\n",
    "    elif humidity >= 30:\n",
    "        return 2\n",
    "    elif humidity >= 20:\n",
    "        return 3\n",
    "    elif humidity >= 10:\n",
    "        return 4\n",
    "    else:\n",
    "        return 5\n",
    "\n",
    "def func3(humidity, val_set):\n",
    "    if humidity < val_set:\n",
    "        return 1\n",
    "    return 0\n",
    "\n",
    "\n",
    "def solution(mode_type, humidity, val_set):\n",
    "    answer = 0\n",
    "    if mode_type == \"auto\":\n",
    "        answer = func2(humidity)\n",
    "    elif mode_type == \"target\":\n",
    "        answer = func1(humidity, val_set)\n",
    "    elif mode_type == \"minimum\":\n",
    "        answer = func3(humidity, val_set)\n",
    "\n",
    "    return answer"
   ]
  },
  {
   "cell_type": "code",
   "execution_count": null,
   "metadata": {},
   "outputs": [],
   "source": [
    "# 8번 / 창고 정리\n",
    "# storage (물건의 이름 목록) : 창고에 있는 물건의 이름들을 나타내는 리스트\n",
    "# num (물건의 개수 목록) : 각 물건의 개수를 나타내는 리스트, storage와 같은 인덱스를 가짐\n",
    "# clean_storage (정리된 창고의 물건 이름 목록) : 같은 물건이 여러 번 등장하는 경우, 그 물건들을 하나로 합쳐서 정리한 결과\n",
    "# clean_num (정리된 창고의 물건 개수 목록) : clean_storage에 해당하는 물건들의 개수, 같은 물건이 합쳐져서 최종적으로 정리된 개수\n",
    "def solution(storage, num):\n",
    "    clean_storage = [] # 정리된 물건 이름 리스트\n",
    "    clean_num = [] # 정리된 물건 개수 리스트\n",
    "    for i in range(len(storage)): # storage에 들어 있는 모든 물건을 확인\n",
    "        if storage[i] in clean_storage: # 현재 물건이 이미 clean_storage에 있는지 확인\n",
    "            pos = clean_storage.index(storage[i]) # 해당 물건의 인덱스 찾기\n",
    "            clean_num[pos] += num[i] # 그 물건의 개수를 기존에 있던 개수에 더함\n",
    "        else: # clean_storage에 해당 물건이 없으면, 새로운 물건으로 추가\n",
    "            clean_storage.append(storage[i]) # 물건 이름을 clean_storage에 추가\n",
    "            clean_num.append(num[i]) # 물건의 개수를 clean_num에 추가\n",
    "            \n",
    "    # 아래 코드에는 틀린 부분이 없습니다.\n",
    "    # 정리된 물건들 중에서 가장 많이 쌓인 물건을 찾음        \n",
    "    max_num = max(clean_num)  # 가장 많은 개수를 찾음\n",
    "    answer = clean_storage[clean_num.index(max_num)] # 가장 많이 쌓인 물건의 이름을 반환\n",
    "    return answer"
   ]
  },
  {
   "cell_type": "code",
   "execution_count": null,
   "metadata": {},
   "outputs": [],
   "source": [
    "# 9번 / 이웃한 칸\n",
    "# board는 2차원 문자열 리스트로 주어지며, 각 요소는 색깔을 나타내는 문자열\n",
    "# (h, w) 좌표의 칸과 인접한(상, 하, 좌, 우) 칸을 비교하여 같은 색인 칸의 개수를 구하기\n",
    "def solution(board, h, w):\n",
    "    # 보드의 크기 n\n",
    "    n = len(board)\n",
    "    \n",
    "    # 같은 색으로 색칠된 칸의 개수를 셀 변수\n",
    "    count = 0\n",
    "    \n",
    "    # 방향 이동을 위한 dh, dw 리스트\n",
    "    # 0: 오른쪽, 1: 아래, 2: 위, 3: 왼쪽\n",
    "    dh = [0, 1, -1, 0] \n",
    "    dw = [1, 0, 0, -1]\n",
    "    \n",
    "    # 4방향으로 탐색\n",
    "    for i in range(4):\n",
    "        # 체크할 칸의 좌표 계산\n",
    "        h_check = h + dh[i] # 현재 h에 dh[i]를 더해서 새로운 h 좌표 계산\n",
    "        w_check = w + dw[i] # 현재 w에 dw[i]를 더해서 새로운 w 좌표 계산\n",
    "        \n",
    "        # h_check, w_check가 보드 범위 내에 있는지 확인\n",
    "        if 0 <= h_check < n and 0 <= w_check < n:\n",
    "            # 같은 색인지 확인\n",
    "            if board[h][w] == board[h_check][w_check]:\n",
    "                count += 1 # 같은 색이라면 count를 1 증가\n",
    "    \n",
    "    return count"
   ]
  },
  {
   "cell_type": "code",
   "execution_count": null,
   "metadata": {},
   "outputs": [],
   "source": [
    "# 10번 / 데이터 분석\n",
    "# ext: 데이터를 필터링할 기준이 되는 속성 (예: \"date\", \"remain\", \"maximum\")\n",
    "# val_ext: ext 값이 이 숫자보다 작은 데이터만 선택\n",
    "# ext = \"date\", val_ext = 20300501라고 했을 때 date < 20300501 인 데이터만 선택\n",
    "# sort_by: 필터링한 데이터에서 정렬할 기준 속성\n",
    "# sort_by = \"remain\"이면 remain(현재 수량) 기준 오름차순 정렬\n",
    "\n",
    "def solution(data, ext, val_ext, sort_by):\n",
    "    # ext에 맞는 인덱스를 딕셔너리로 찾는 방법\n",
    "    ext_index = {\"code\": 0, \"date\": 1, \"maximum\": 2, \"remain\": 3}[ext]\n",
    "    # {딕셔너리}[인덱스] 형태는 딕셔너리 안에 있는 값을 키를 통해 찾아내는 방식\n",
    "    \n",
    "    # sort_by에 맞는 인덱스를 찾기\n",
    "    sort_index = {\"code\": 0, \"date\": 1, \"maximum\": 2, \"remain\": 3}[sort_by]\n",
    "    \n",
    "    # ext 기준으로 val_ext보다 작은 데이터를 골라내기\n",
    "    filtered_data = []\n",
    "    for item in data:\n",
    "        if item[ext_index] < val_ext:\n",
    "            filtered_data.append(item)\n",
    "    \n",
    "    # 골라낸 데이터들 중 sort_by 기준으로 정렬하기\n",
    "    filtered_data.sort(key=lambda x: x[sort_index])\n",
    "    \n",
    "    return filtered_data\n",
    "\n",
    "# key=lambda x: x[sort_index] 이 부분은 정렬 기준을 정의하는 함수\n",
    "# sorted() 함수나 list.sort()에서 key는 정렬 기준을 정의하는 함수\n",
    "# 각 요소에서 sort_index번째 값을 기준으로 정렬"
   ]
  },
  {
   "cell_type": "markdown",
   "metadata": {},
   "source": [
    "# 람다식의 기본 문법\n",
    "lambda 매개변수: 식\n",
    "\n",
    "add = lambda a, b: a + b\n",
    "print(add(3, 5))\n",
    "\n",
    "# 람다식의 key 속성\n",
    "- 람다식은 sorted()나 list.sort() 함수에서 정렬 기준을 설정하는 함수로 자주 사용\n",
    "- 이때, key 매개변수를 사용하여 정렬 기준을 정의할 수 있음\n",
    "- key는 정렬을 할 때 어떤 값을 기준으로 정렬할지 결정하는 함수\n",
    "- 정렬 기준을 정의하는 함수로 람다식을 주로 사용"
   ]
  },
  {
   "cell_type": "code",
   "execution_count": 1,
   "metadata": {},
   "outputs": [
    {
     "name": "stdout",
     "output_type": "stream",
     "text": [
      "[12, 23, 34, 45, 67]\n"
     ]
    }
   ],
   "source": [
    "# 각 숫자에서 두 번째 자리 숫자를 기준으로 정렬하기\n",
    "# 숫자 리스트\n",
    "filtered_data = [23, 45, 12, 67, 34]\n",
    "\n",
    "# 두 번째 자리 숫자를 기준으로 정렬\n",
    "filtered_data.sort(key=lambda x: str(x)[1])  # x는 숫자, x[1]은 두 번째 자리 숫자\n",
    "print(filtered_data)"
   ]
  },
  {
   "cell_type": "code",
   "execution_count": 2,
   "metadata": {},
   "outputs": [
    {
     "name": "stdout",
     "output_type": "stream",
     "text": [
      "[['Bob', 75], ['Charlie', 85], ['Alice', 90], ['David', 92]]\n"
     ]
    }
   ],
   "source": [
    "# 학생 점수 기준으로 정렬하기\n",
    "# 학생 이름과 점수 리스트\n",
    "filtered_data = [[\"Alice\", 90], [\"Bob\", 75], [\"Charlie\", 85], [\"David\", 92]]\n",
    "\n",
    "# 점수 기준으로 정렬\n",
    "filtered_data.sort(key=lambda x: x[1])  # x[1]은 점수\n",
    "print(filtered_data)"
   ]
  }
 ],
 "metadata": {
  "kernelspec": {
   "display_name": "Python 3",
   "language": "python",
   "name": "python3"
  },
  "language_info": {
   "codemirror_mode": {
    "name": "ipython",
    "version": 3
   },
   "file_extension": ".py",
   "mimetype": "text/x-python",
   "name": "python",
   "nbconvert_exporter": "python",
   "pygments_lexer": "ipython3",
   "version": "3.13.0"
  }
 },
 "nbformat": 4,
 "nbformat_minor": 2
}

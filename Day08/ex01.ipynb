{
 "cells": [
  {
   "cell_type": "markdown",
   "metadata": {},
   "source": [
    "PCCE 기출 2회"
   ]
  },
  {
   "cell_type": "code",
   "execution_count": null,
   "metadata": {},
   "outputs": [],
   "source": [
    "# 1번 / 문자 출력\n",
    "message = \"Let's go!\"\n",
    "\n",
    "print(\"3\\n 2\\n 1\")\n",
    "print(message)"
   ]
  },
  {
   "cell_type": "code",
   "execution_count": null,
   "metadata": {},
   "outputs": [],
   "source": [
    "# 2번 / 각도 합치기\n",
    "angle1 = int(input())\n",
    "angle2 = int(input())\n",
    "\n",
    "sum_angle = (angle1 + angle2) % 360\n",
    "print(sum_angle)"
   ]
  },
  {
   "cell_type": "code",
   "execution_count": null,
   "metadata": {},
   "outputs": [],
   "source": [
    "# 3번 / 수 나누기\n",
    "number = int(input())\n",
    "\n",
    "answer = 0\n",
    "\n",
    "while number > 0: # while문을 사용해 조건을 만족할 동안 계속 반복\n",
    "    answer += number % 100\n",
    "    number //= 100\n",
    "\n",
    "print(answer)"
   ]
  },
  {
   "cell_type": "code",
   "execution_count": null,
   "metadata": {},
   "outputs": [],
   "source": [
    "# 4번 / 병과분류\n",
    "code = input()\n",
    "last_four_words = code[-4:]\n",
    "\n",
    "if last_four_words == \"_eye\":\n",
    "    print(\"Ophthalmologyc\")\n",
    "elif last_four_words == \"head\":\n",
    "    print(\"Neurosurgery\")\n",
    "elif last_four_words == \"infl\":\n",
    "    print(\"Orthopedics\")\n",
    "elif last_four_words == \"skin\":\n",
    "    print(\"Dermatology\")\n",
    "else:\n",
    "    print(\"direct recommendation\")"
   ]
  },
  {
   "cell_type": "code",
   "execution_count": null,
   "metadata": {},
   "outputs": [],
   "source": [
    "# 5번 / 심폐소생술\n",
    "def solution(cpr):\n",
    "    answer = []\n",
    "    basic_order = [\"check\", \"call\", \"pressure\", \"respiration\", \"repeat\"]\n",
    "    for action in cpr:\n",
    "        for i in range(len(basic_order)): # basic_order의 각 동작을 순차적으로 확인\n",
    "            if action == basic_order[i]:\n",
    "                answer.append(i + 1) # 1부터 시작하므로 1을 더함\n",
    "    return answer"
   ]
  },
  {
   "cell_type": "code",
   "execution_count": null,
   "metadata": {},
   "outputs": [],
   "source": [
    "# 6번 / 물 부족\n",
    "# 이번 달 물 사용량 = 지난 달 물 사용량 × (1 + 변화율)\n",
    "def solution(storage, usage, change):\n",
    "    total_usage = 0\n",
    "    for i in range(len(change)):\n",
    "        usage = usage * (1 + change[i] / 100)\n",
    "        total_usage += usage\n",
    "        if total_usage > storage:\n",
    "            return i\n",
    "    \n",
    "    return -1\n",
    "\n",
    "# 1을 더하는 이유는 현재 값에서 변화율을 더해주기 위해\n",
    "# 100으로 나누는 이유는 백분율을 소수로 변환하기 위해"
   ]
  },
  {
   "cell_type": "code",
   "execution_count": null,
   "metadata": {},
   "outputs": [],
   "source": [
    "# 7번 / 버스\n",
    "def func1(num): # 남은 좌석 수를 반환하는 함수\n",
    "    # num이 0보다 작으면 0을 반환, 그렇지 않으면 num을 반환\n",
    "    if 0 > num: # 만약 계산된 남은 좌석 수가 음수라면 0을 반환((음수라면 버스에 좌석이 없다는 의미이므로 0 좌석으로 처리)\n",
    "        return 0\n",
    "    else:\n",
    "        return num # 음수가 아니면 계산된 남은 좌석 수를 그대로 반환\n",
    "\n",
    "def func2(num): # 필요하지 않은 함수\n",
    "    if num > 0:\n",
    "        return 0\n",
    "    else:\n",
    "        return num\n",
    "\n",
    "def func3(station): # 'Off' 승객 수를 세는 함수\n",
    "    num = 0\n",
    "    for people in station:\n",
    "        if people == \"Off\":\n",
    "            num += 1\n",
    "    return num # 하차한 승객의 수를 반환\n",
    "\n",
    "def func4(station): # 'On' 승객 수를 세는 함수\n",
    "    num = 0\n",
    "    for people in station:\n",
    "        if people == \"On\":\n",
    "            num += 1\n",
    "    return num # 승차한 승객의 수를 반환\n",
    "\n",
    "\n",
    "def solution(seat, passengers): # seat는 버스의 총 좌석 수, passengers는 각 정거장에서 승차/하차한 승객 정보\n",
    "    num_passenger = 0 # 현재 탑승 중인 승객 수\n",
    "    \n",
    "    # 승객들의 승하차 정보를 처리\n",
    "    for station in passengers:\n",
    "        num_passenger += func4(station) # 'On' 승객 추가\n",
    "        num_passenger -= func3(station) # 'Off' 승객 빼기\n",
    "\n",
    "    answer = func1(seat - num_passenger) # 남은 좌석 수 계산\n",
    "\n",
    "    return answer"
   ]
  },
  {
   "cell_type": "code",
   "execution_count": null,
   "metadata": {},
   "outputs": [],
   "source": [
    "# 8번 / 닉네임 규칙\n",
    "def solution(nickname):\n",
    "    answer = \"\"\n",
    "    for letter in nickname:\n",
    "        if letter == \"l\":\n",
    "            answer += \"I\"\n",
    "        elif letter == \"w\":\n",
    "            answer += \"vv\"\n",
    "        elif letter == \"W\":\n",
    "            answer += \"VV\"\n",
    "        elif letter == \"O\":\n",
    "            answer += \"0\"\n",
    "        else:\n",
    "            answer += letter\n",
    "    while len(answer) < 4:\n",
    "        answer += \"o\"\n",
    "    if len(answer) > 8:\n",
    "        answer = answer[:8]\n",
    "    return answer"
   ]
  },
  {
   "cell_type": "code",
   "execution_count": null,
   "metadata": {},
   "outputs": [],
   "source": [
    "# 9번 / 지폐 접기\n",
    "# 지폐를 접어서 지갑에 넣을 수 있는 최소 횟수를 구하는 문제\n",
    "# 항상 긴 변을 반으로 접는다는 규칙을 구현\n",
    "# (작은 값, 큰 값) 순서로 정렬하여 항상 더 긴 변을 반으로 접도록 함\n",
    "# bill[0] > wallet[0] 또는 bill[1] > wallet[1]이라면, 아직 지갑에 들어가지 않음 → 접기 필요\n",
    "# 지갑과 지폐의 비교에서 중요한 것은 짧은 면과 긴 면이 맞아 떨어지는지 확인하는 것\n",
    "# bill[0] > bill[1]이면 bill[0]을 접고, 아니면 bill[1]을 접음(긴 변을 접기)\n",
    "\n",
    "def solution(wallet, bill):\n",
    "    answer = 0  # 접은 횟수 저장\n",
    "    wallet.sort()  # 지갑 크기 정렬 (작은 값 -> 큰 값)\n",
    "    bill.sort()  # 지폐 크기 정렬 (작은 값 -> 큰 값)\n",
    "    # 지갑의 가로와 세로, 지폐의 가로와 세로를 짧은 면끼리 그리고 긴 면끼리 비교해야 하기 때문에 정렬을 통해 두 값의 순서를 일관성 있게 맞춰줌\n",
    "\n",
    "    while bill[0] > wallet[0] or bill[1] > wallet[1]:  # 지갑보다 클 동안 접기 반복\n",
    "        if bill[0] > bill[1]:  \n",
    "            bill[0] //= 2  # 긴 변을 반으로 접기\n",
    "        else:\n",
    "            bill[1] //= 2  # 긴 변을 반으로 접기\n",
    "        bill.sort()  # 다시 정렬\n",
    "        answer += 1  # 접은 횟수 증가\n",
    "\n",
    "    return answer"
   ]
  },
  {
   "cell_type": "code",
   "execution_count": null,
   "metadata": {},
   "outputs": [],
   "source": [
    "# 10번 / 공원\n",
    "# 공원(park)은 2차원 리스트로 주어지며, park에서 \"-1\"인 부분만 돗자리를 놓을 수 있음\n",
    "# mats 리스트에는 돗자리의 한 변 길이가 담겨 있음\n",
    "# mats 리스트를 큰 값부터 정렬 -> 큰 돗자리부터 차례대로 공원에서 놓을 수 있는지 확인 -> 만약 해당 크기의 돗자리를 놓을 수 있다면 즉시 반환 -> 모든 돗자리를 놓을 수 없다면 -1을 반환\n",
    "# 돗자리를 깔 수 있는지 확인하는 방법은 특정 위치 (x, y)에서 size × size 부분이 모두 \"-1\"인지 검사하는 것\n",
    "\n",
    "def can_place(park, x, y, size): # (x, y) 위치에서 size × size 크기의 돗자리를 깔 수 있는지 확인하는 함수\n",
    "    if x + size > len(park) or y + size > len(park[0]): # 돗자리가 공원을 벗어나면 놓을 수 없음\n",
    "        return False  \n",
    "    \n",
    "    for i in range(x, x + size): # (x, y)부터 (x+size-1, y+size-1)까지 모든 칸이 \"-1\"인지 확인\n",
    "        for j in range(y, y + size):\n",
    "            if park[i][j] != \"-1\":  # 빈 공간이 아닌 곳이 있으면 놓을 수 없음\n",
    "                return False\n",
    "    return True  # 모든 칸이 \"-1\"이면 돗자리 놓기 가능\n",
    "\n",
    "\n",
    "def solution(mats, park): # 지민이가 깔 수 있는 가장 큰 돗자리의 크기를 찾는 함수\n",
    "    mats.sort(reverse=True)  # 가장 큰 돗자리부터 시도하기 위해 내림차순 정렬\n",
    "    rows, cols = len(park), len(park[0])  # 공원의 행, 열 크기 저장\n",
    "\n",
    "    # 가장 큰 돗자리부터 탐색\n",
    "    for size in mats:\n",
    "        # 공원의 모든 위치를 순회하면서 해당 크기의 돗자리를 놓을 수 있는지 확인\n",
    "        for i in range(rows):\n",
    "            for j in range(cols):\n",
    "                if can_place(park, i, j, size):  # (i, j)에서 size 크기 돗자리 가능 여부 확인\n",
    "                    return size  # 가장 큰 크기의 돗자리를 찾으면 즉시 반환\n",
    "\n",
    "    return -1  # 모든 돗자리를 놓을 수 없는 경우 -1 반환"
   ]
  }
 ],
 "metadata": {
  "kernelspec": {
   "display_name": "Python 3",
   "language": "python",
   "name": "python3"
  },
  "language_info": {
   "name": "python",
   "version": "3.13.0"
  }
 },
 "nbformat": 4,
 "nbformat_minor": 2
}

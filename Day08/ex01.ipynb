{
 "cells": [
  {
   "cell_type": "markdown",
   "metadata": {},
   "source": [
    "PCCE 기출 2회"
   ]
  },
  {
   "cell_type": "code",
   "execution_count": null,
   "metadata": {},
   "outputs": [],
   "source": [
    "# 1번 / 문자 출력\n",
    "message = \"Let's go!\"\n",
    "\n",
    "print(\"3\\n 2\\n 1\")\n",
    "print(message)"
   ]
  },
  {
   "cell_type": "code",
   "execution_count": null,
   "metadata": {},
   "outputs": [],
   "source": [
    "# 2번 / 각도 합치기\n",
    "angle1 = int(input())\n",
    "angle2 = int(input())\n",
    "\n",
    "sum_angle = (angle1 + angle2) % 360\n",
    "print(sum_angle)"
   ]
  },
  {
   "cell_type": "code",
   "execution_count": null,
   "metadata": {},
   "outputs": [],
   "source": [
    "# 3번 / 수 나누기\n",
    "number = int(input())\n",
    "\n",
    "answer = 0\n",
    "\n",
    "while number > 0: # while문을 사용해 조건을 만족할 동안 계속 반복\n",
    "    answer += number % 100\n",
    "    number //= 100\n",
    "\n",
    "print(answer)"
   ]
  },
  {
   "cell_type": "code",
   "execution_count": null,
   "metadata": {},
   "outputs": [],
   "source": [
    "# 4번 / 병과분류\n",
    "code = input()\n",
    "last_four_words = code[-4:]\n",
    "\n",
    "if last_four_words == \"_eye\":\n",
    "    print(\"Ophthalmologyc\")\n",
    "elif last_four_words == \"head\":\n",
    "    print(\"Neurosurgery\")\n",
    "elif last_four_words == \"infl\":\n",
    "    print(\"Orthopedics\")\n",
    "elif last_four_words == \"skin\":\n",
    "    print(\"Dermatology\")\n",
    "else:\n",
    "    print(\"direct recommendation\")"
   ]
  },
  {
   "cell_type": "code",
   "execution_count": null,
   "metadata": {},
   "outputs": [],
   "source": [
    "# 5번 / 심폐소생술\n",
    "def solution(cpr):\n",
    "    answer = []\n",
    "    basic_order = [\"check\", \"call\", \"pressure\", \"respiration\", \"repeat\"]\n",
    "    for action in cpr:\n",
    "        for i in range(len(basic_order)): # basic_order의 각 동작을 순차적으로 확인\n",
    "            if action == basic_order[i]:\n",
    "                answer.append(i + 1) # 1부터 시작하므로 1을 더함\n",
    "    return answer"
   ]
  },
  {
   "cell_type": "code",
   "execution_count": null,
   "metadata": {},
   "outputs": [],
   "source": [
    "# 6번 / 물 부족\n",
    "# 이번 달 물 사용량 = 지난 달 물 사용량 × (1 + 변화율)\n",
    "def solution(storage, usage, change):\n",
    "    total_usage = 0\n",
    "    for i in range(len(change)):\n",
    "        usage = usage * (1 + change[i] / 100)\n",
    "        total_usage += usage\n",
    "        if total_usage > storage:\n",
    "            return i\n",
    "    \n",
    "    return -1\n",
    "\n",
    "# 1을 더하는 이유는 현재 값에서 변화율을 더해주기 위해\n",
    "# 100으로 나누는 이유는 백분율을 소수로 변환하기 위해"
   ]
  },
  {
   "cell_type": "code",
   "execution_count": null,
   "metadata": {},
   "outputs": [],
   "source": [
    "# 7번 / 버스\n",
    "def func1(num): # num이 0보다 작으면 0을 반환, 그렇지 않으면 num을 반환\n",
    "    if 0 > num:\n",
    "        return 0\n",
    "    else:\n",
    "        return num\n",
    "\n",
    "def func2(num):\n",
    "    if num > 0:\n",
    "        return 0\n",
    "    else:\n",
    "        return num\n",
    "\n",
    "def func3(station): # 'Off' 승객 수를 세는 함수\n",
    "    num = 0\n",
    "    for people in station:\n",
    "        if people == \"Off\":\n",
    "            num += 1\n",
    "    return num\n",
    "\n",
    "def func4(station): # 'On' 승객 수를 세는 함수\n",
    "    num = 0\n",
    "    for people in station:\n",
    "        if people == \"On\":\n",
    "            num += 1\n",
    "    return num\n",
    "\n",
    "\n",
    "def solution(seat, passengers):\n",
    "    num_passenger = 0 # 현재 승객 수\n",
    "    \n",
    "    for station in passengers:\n",
    "        num_passenger += func4(station) # 'On' 승객 추가\n",
    "        num_passenger -= func3(station) # 'Off' 승객 빼기\n",
    "\n",
    "    answer = func1(seat - num_passenger) # # 남은 좌석 수 계산\n",
    "\n",
    "    return answer"
   ]
  },
  {
   "cell_type": "code",
   "execution_count": null,
   "metadata": {},
   "outputs": [],
   "source": [
    "# 8번 / 닉네임 규칙\n",
    "def solution(nickname):\n",
    "    answer = \"\"\n",
    "    for letter in nickname:\n",
    "        if letter == \"l\":\n",
    "            answer += \"I\"\n",
    "        elif letter == \"w\":\n",
    "            answer += \"vv\"\n",
    "        elif letter == \"W\":\n",
    "            answer += \"VV\"\n",
    "        elif letter == \"O\":\n",
    "            answer += \"0\"\n",
    "        else:\n",
    "            answer += letter\n",
    "    while len(answer) < 4:\n",
    "        answer += \"o\"\n",
    "    if len(answer) > 8:\n",
    "        answer = answer[:8]\n",
    "    return answer"
   ]
  },
  {
   "cell_type": "code",
   "execution_count": null,
   "metadata": {},
   "outputs": [],
   "source": [
    "# 9번 / 지폐 접기\n",
    "def solution(wallet, bill):\n",
    "  answer = 0  # 접은 횟수\n",
    "  # 지폐가 지갑에 들어갈 수 있을 때까지 접기\n",
    "  while not (bill[0] <= wallet[0] and bill[1] <= wallet[1]) and not (bill[1] <= wallet[0] and bill[0] <= wallet[1]):\n",
    "      if bill[0] > bill[1]:  # bill[0]이 더 크면\n",
    "          bill[0] //= 2  # bill[0]을 반으로 접기\n",
    "      else:  # bill[1]이 더 크면\n",
    "          bill[1] //= 2  # bill[1]을 반으로 접기\n",
    "      answer += 1  # 접은 횟수 증가\n",
    "  return answer\n",
    "\n",
    "# bill[0] <= wallet[0] and bill[1] <= wallet[1]: 지폐를 회전하지 않고 넣을 수 있을 때\n",
    "# bill[1] <= wallet[0] and bill[0] <= wallet[1]: 지폐를 90도 회전시켜서 넣을 수 있을 때"
   ]
  },
  {
   "cell_type": "code",
   "execution_count": null,
   "metadata": {},
   "outputs": [],
   "source": [
    "# 10번 / 공원\n",
    "def can_place_mat(park, size):\n",
    "    # 공원의 행(row)과 열(col) 길이\n",
    "    rows, cols = len(park), len(park[0])\n",
    "\n",
    "    # park에서 주어진 size의 돗자리를 놓을 수 있는지 확인\n",
    "    # i는 시작 행, j는 시작 열을 의미\n",
    "    for i in range(rows - size + 1):\n",
    "        for j in range(cols - size + 1):\n",
    "            # (i, j)부터 size x size 크기의 공간을 확인\n",
    "            can_place = True  # 돗자리를 놓을 수 있는지 여부를 체크하는 변수\n",
    "\n",
    "            # 2차원 배열로 size x size 크기의 공간을 하나씩 확인\n",
    "            for x in range(i, i + size):  # 세로 방향\n",
    "                for y in range(j, j + size):  # 가로 방향\n",
    "                    # 해당 공간이 '-1'이 아니면 돗자리를 놓을 수 없음\n",
    "                    if park[x][y] != '-1':\n",
    "                        can_place = False\n",
    "                        break\n",
    "                if not can_place:  # 한 번이라도 놓을 수 없는 경우, 더 이상 확인할 필요 없음\n",
    "                    break\n",
    "\n",
    "            # 만약 size x size 공간이 모두 '-1'이라면 돗자리를 놓을 수 있음\n",
    "            if can_place == True:\n",
    "                return True\n",
    "\n",
    "    # 크기가 맞는 공간을 찾지 못한 경우 False 반환\n",
    "    return False\n",
    "\n",
    "def solution(mats, park):\n",
    "    # 돗자리 크기 내림차순으로 정렬\n",
    "    mats.sort(reverse=True)\n",
    "\n",
    "    # 각 돗자리 크기에 대해 놓을 수 있는지 확인\n",
    "    for size in mats:\n",
    "        if can_place_mat(park, size):\n",
    "            return size\n",
    "\n",
    "    # 아무것도 놓을 수 없으면 -1 반환\n",
    "    return -1"
   ]
  }
 ],
 "metadata": {
  "kernelspec": {
   "display_name": "Python 3",
   "language": "python",
   "name": "python3"
  },
  "language_info": {
   "name": "python",
   "version": "3.13.0"
  }
 },
 "nbformat": 4,
 "nbformat_minor": 2
}
